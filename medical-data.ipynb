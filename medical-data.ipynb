{
 "metadata": {
  "kernelspec": {
   "language": "python",
   "display_name": "Python 3",
   "name": "python3"
  },
  "language_info": {
   "name": "python",
   "version": "3.11.13",
   "mimetype": "text/x-python",
   "codemirror_mode": {
    "name": "ipython",
    "version": 3
   },
   "pygments_lexer": "ipython3",
   "nbconvert_exporter": "python",
   "file_extension": ".py"
  },
  "kaggle": {
   "accelerator": "none",
   "dataSources": [
    {
     "sourceId": 3538,
     "sourceType": "datasetVersion",
     "datasetId": 792
    }
   ],
   "dockerImageVersionId": 31089,
   "isInternetEnabled": false,
   "language": "python",
   "sourceType": "notebook",
   "isGpuEnabled": false
  }
 },
 "nbformat_minor": 4,
 "nbformat": 4,
 "cells": [
  {
   "cell_type": "code",
   "source": [
    "import dash\n",
    "# This Python 3 environment comes with many helpful analytics libraries installed\n",
    "# It is defined by the kaggle/python Docker image: https://github.com/kaggle/docker-python\n",
    "# For example, here's several helpful packages to load\n",
    "\n",
    "import numpy as np # linear algebra\n",
    "import pandas as pd # data processing, CSV file I/O (e.g. pd.read_csv)\n",
    "import plotly.express as px\n",
    "from dash import html,dcc,Dash,dash_table\n",
    "from dash.dependencies import Input, Output\n",
    "app = Dash()\n",
    "colors_no_show = [\"#ff00ff\", \"#00ffff\", \"#ffff00\", \"#ff1493\", \"#00ff00\"]\n",
    "colors_age_gender = [\"#ff4500\", \"#00ced1\", \"#ff69b4\", \"#7fff00\", \"#ffd700\"]\n",
    "colors_day_of_week = [\"#9400d3\", \"#ff6347\", \"#00fa9a\", \"#ffdab9\", \"#1e90ff\"]\n",
    "colors_neighborhood = [\"#ff00ff\", \"#00ffcc\", \"#ffcc00\", \"#ff3366\", \"#00ff99\"]\n",
    "color_disease = [\"#ff0066\", \"#33ffcc\", \"#ffff66\", \"#ff9933\", \"#66ff33\"]\n",
    "colors_delay_appointments = [\"#ff33ff\", \"#00ff66\", \"#66ccff\", \"#ffcc66\", \"#ff3300\"]\n",
    "template_style = 'plotly_dark'\n",
    "# Input data files are available in the read-only \"../input/\" directory\n",
    "# For example, running this (by clicking run or pressing Shift+Enter) will list all files under the input directory\n",
    "\n",
    "import os\n",
    "\n",
    "\n",
    "for dirname, _, filenames in os.walk('/kaggle/input'):\n",
    "    for filename in filenames:\n",
    "        print(os.path.join(dirname, filename))\n",
    "\n",
    "# You can write up to 20GB to the current directory (/kaggle/working/) that gets preserved as output when you create a version using \"Save & Run All\" \n",
    "# You can also write temporary files to /kaggle/temp/, but they won't be saved outside of the current session"
   ],
   "metadata": {
    "_uuid": "8f2839f25d086af736a60e9eeb907d3b93b6e0e5",
    "_cell_guid": "b1076dfc-b9ad-4769-8c92-a6c4dae69d19",
    "trusted": true,
    "execution": {
     "iopub.status.busy": "2025-08-05T18:31:05.333167Z",
     "iopub.execute_input": "2025-08-05T18:31:05.334245Z",
     "iopub.status.idle": "2025-08-05T18:31:05.351693Z",
     "shell.execute_reply.started": "2025-08-05T18:31:05.334204Z",
     "shell.execute_reply": "2025-08-05T18:31:05.350460Z"
    },
    "ExecuteTime": {
     "end_time": "2025-08-08T08:53:50.815628Z",
     "start_time": "2025-08-08T08:53:50.770211Z"
    }
   },
   "outputs": [],
   "execution_count": 218
  },
  {
   "cell_type": "markdown",
   "source": "# **Preprocessing**",
   "metadata": {}
  },
  {
   "cell_type": "code",
   "source": "df = pd.read_csv(r\"C:\\KaggleV2-May-2016.csv\")",
   "metadata": {
    "trusted": true,
    "execution": {
     "iopub.status.busy": "2025-08-05T18:21:18.389677Z",
     "iopub.execute_input": "2025-08-05T18:21:18.390077Z",
     "iopub.status.idle": "2025-08-05T18:21:18.682549Z",
     "shell.execute_reply.started": "2025-08-05T18:21:18.390052Z",
     "shell.execute_reply": "2025-08-05T18:21:18.681461Z"
    },
    "ExecuteTime": {
     "end_time": "2025-08-08T08:53:51.060625Z",
     "start_time": "2025-08-08T08:53:50.823286Z"
    }
   },
   "outputs": [],
   "execution_count": 219
  },
  {
   "cell_type": "code",
   "source": "df.info()",
   "metadata": {
    "trusted": true,
    "execution": {
     "iopub.status.busy": "2025-08-05T18:21:18.684093Z",
     "iopub.execute_input": "2025-08-05T18:21:18.684855Z",
     "iopub.status.idle": "2025-08-05T18:21:18.728656Z",
     "shell.execute_reply.started": "2025-08-05T18:21:18.684822Z",
     "shell.execute_reply": "2025-08-05T18:21:18.727756Z"
    },
    "ExecuteTime": {
     "end_time": "2025-08-08T08:53:51.101753Z",
     "start_time": "2025-08-08T08:53:51.071287Z"
    }
   },
   "outputs": [
    {
     "name": "stdout",
     "output_type": "stream",
     "text": [
      "<class 'pandas.core.frame.DataFrame'>\n",
      "RangeIndex: 110527 entries, 0 to 110526\n",
      "Data columns (total 14 columns):\n",
      " #   Column          Non-Null Count   Dtype  \n",
      "---  ------          --------------   -----  \n",
      " 0   PatientId       110527 non-null  float64\n",
      " 1   AppointmentID   110527 non-null  int64  \n",
      " 2   Gender          110527 non-null  object \n",
      " 3   ScheduledDay    110527 non-null  object \n",
      " 4   AppointmentDay  110527 non-null  object \n",
      " 5   Age             110527 non-null  int64  \n",
      " 6   Neighbourhood   110527 non-null  object \n",
      " 7   Scholarship     110527 non-null  int64  \n",
      " 8   Hipertension    110527 non-null  int64  \n",
      " 9   Diabetes        110527 non-null  int64  \n",
      " 10  Alcoholism      110527 non-null  int64  \n",
      " 11  Handcap         110527 non-null  int64  \n",
      " 12  SMS_received    110527 non-null  int64  \n",
      " 13  No-show         110527 non-null  object \n",
      "dtypes: float64(1), int64(8), object(5)\n",
      "memory usage: 11.8+ MB\n"
     ]
    }
   ],
   "execution_count": 220
  },
  {
   "cell_type": "code",
   "source": "df.head()",
   "metadata": {
    "trusted": true,
    "execution": {
     "iopub.status.busy": "2025-08-05T18:21:18.730140Z",
     "iopub.execute_input": "2025-08-05T18:21:18.730408Z",
     "iopub.status.idle": "2025-08-05T18:21:18.744261Z",
     "shell.execute_reply.started": "2025-08-05T18:21:18.730387Z",
     "shell.execute_reply": "2025-08-05T18:21:18.743275Z"
    },
    "ExecuteTime": {
     "end_time": "2025-08-08T08:53:51.133250Z",
     "start_time": "2025-08-08T08:53:51.115495Z"
    }
   },
   "outputs": [
    {
     "data": {
      "text/plain": [
       "      PatientId  AppointmentID Gender          ScheduledDay  \\\n",
       "0  2.987250e+13        5642903      F  2016-04-29T18:38:08Z   \n",
       "1  5.589978e+14        5642503      M  2016-04-29T16:08:27Z   \n",
       "2  4.262962e+12        5642549      F  2016-04-29T16:19:04Z   \n",
       "3  8.679512e+11        5642828      F  2016-04-29T17:29:31Z   \n",
       "4  8.841186e+12        5642494      F  2016-04-29T16:07:23Z   \n",
       "\n",
       "         AppointmentDay  Age      Neighbourhood  Scholarship  Hipertension  \\\n",
       "0  2016-04-29T00:00:00Z   62    JARDIM DA PENHA            0             1   \n",
       "1  2016-04-29T00:00:00Z   56    JARDIM DA PENHA            0             0   \n",
       "2  2016-04-29T00:00:00Z   62      MATA DA PRAIA            0             0   \n",
       "3  2016-04-29T00:00:00Z    8  PONTAL DE CAMBURI            0             0   \n",
       "4  2016-04-29T00:00:00Z   56    JARDIM DA PENHA            0             1   \n",
       "\n",
       "   Diabetes  Alcoholism  Handcap  SMS_received No-show  \n",
       "0         0           0        0             0      No  \n",
       "1         0           0        0             0      No  \n",
       "2         0           0        0             0      No  \n",
       "3         0           0        0             0      No  \n",
       "4         1           0        0             0      No  "
      ],
      "text/html": [
       "<div>\n",
       "<style scoped>\n",
       "    .dataframe tbody tr th:only-of-type {\n",
       "        vertical-align: middle;\n",
       "    }\n",
       "\n",
       "    .dataframe tbody tr th {\n",
       "        vertical-align: top;\n",
       "    }\n",
       "\n",
       "    .dataframe thead th {\n",
       "        text-align: right;\n",
       "    }\n",
       "</style>\n",
       "<table border=\"1\" class=\"dataframe\">\n",
       "  <thead>\n",
       "    <tr style=\"text-align: right;\">\n",
       "      <th></th>\n",
       "      <th>PatientId</th>\n",
       "      <th>AppointmentID</th>\n",
       "      <th>Gender</th>\n",
       "      <th>ScheduledDay</th>\n",
       "      <th>AppointmentDay</th>\n",
       "      <th>Age</th>\n",
       "      <th>Neighbourhood</th>\n",
       "      <th>Scholarship</th>\n",
       "      <th>Hipertension</th>\n",
       "      <th>Diabetes</th>\n",
       "      <th>Alcoholism</th>\n",
       "      <th>Handcap</th>\n",
       "      <th>SMS_received</th>\n",
       "      <th>No-show</th>\n",
       "    </tr>\n",
       "  </thead>\n",
       "  <tbody>\n",
       "    <tr>\n",
       "      <th>0</th>\n",
       "      <td>2.987250e+13</td>\n",
       "      <td>5642903</td>\n",
       "      <td>F</td>\n",
       "      <td>2016-04-29T18:38:08Z</td>\n",
       "      <td>2016-04-29T00:00:00Z</td>\n",
       "      <td>62</td>\n",
       "      <td>JARDIM DA PENHA</td>\n",
       "      <td>0</td>\n",
       "      <td>1</td>\n",
       "      <td>0</td>\n",
       "      <td>0</td>\n",
       "      <td>0</td>\n",
       "      <td>0</td>\n",
       "      <td>No</td>\n",
       "    </tr>\n",
       "    <tr>\n",
       "      <th>1</th>\n",
       "      <td>5.589978e+14</td>\n",
       "      <td>5642503</td>\n",
       "      <td>M</td>\n",
       "      <td>2016-04-29T16:08:27Z</td>\n",
       "      <td>2016-04-29T00:00:00Z</td>\n",
       "      <td>56</td>\n",
       "      <td>JARDIM DA PENHA</td>\n",
       "      <td>0</td>\n",
       "      <td>0</td>\n",
       "      <td>0</td>\n",
       "      <td>0</td>\n",
       "      <td>0</td>\n",
       "      <td>0</td>\n",
       "      <td>No</td>\n",
       "    </tr>\n",
       "    <tr>\n",
       "      <th>2</th>\n",
       "      <td>4.262962e+12</td>\n",
       "      <td>5642549</td>\n",
       "      <td>F</td>\n",
       "      <td>2016-04-29T16:19:04Z</td>\n",
       "      <td>2016-04-29T00:00:00Z</td>\n",
       "      <td>62</td>\n",
       "      <td>MATA DA PRAIA</td>\n",
       "      <td>0</td>\n",
       "      <td>0</td>\n",
       "      <td>0</td>\n",
       "      <td>0</td>\n",
       "      <td>0</td>\n",
       "      <td>0</td>\n",
       "      <td>No</td>\n",
       "    </tr>\n",
       "    <tr>\n",
       "      <th>3</th>\n",
       "      <td>8.679512e+11</td>\n",
       "      <td>5642828</td>\n",
       "      <td>F</td>\n",
       "      <td>2016-04-29T17:29:31Z</td>\n",
       "      <td>2016-04-29T00:00:00Z</td>\n",
       "      <td>8</td>\n",
       "      <td>PONTAL DE CAMBURI</td>\n",
       "      <td>0</td>\n",
       "      <td>0</td>\n",
       "      <td>0</td>\n",
       "      <td>0</td>\n",
       "      <td>0</td>\n",
       "      <td>0</td>\n",
       "      <td>No</td>\n",
       "    </tr>\n",
       "    <tr>\n",
       "      <th>4</th>\n",
       "      <td>8.841186e+12</td>\n",
       "      <td>5642494</td>\n",
       "      <td>F</td>\n",
       "      <td>2016-04-29T16:07:23Z</td>\n",
       "      <td>2016-04-29T00:00:00Z</td>\n",
       "      <td>56</td>\n",
       "      <td>JARDIM DA PENHA</td>\n",
       "      <td>0</td>\n",
       "      <td>1</td>\n",
       "      <td>1</td>\n",
       "      <td>0</td>\n",
       "      <td>0</td>\n",
       "      <td>0</td>\n",
       "      <td>No</td>\n",
       "    </tr>\n",
       "  </tbody>\n",
       "</table>\n",
       "</div>"
      ]
     },
     "execution_count": 221,
     "metadata": {},
     "output_type": "execute_result"
    }
   ],
   "execution_count": 221
  },
  {
   "metadata": {
    "ExecuteTime": {
     "end_time": "2025-08-08T08:53:51.231974Z",
     "start_time": "2025-08-08T08:53:51.146328Z"
    }
   },
   "cell_type": "code",
   "source": "df[df.duplicated()]",
   "outputs": [
    {
     "data": {
      "text/plain": [
       "Empty DataFrame\n",
       "Columns: [PatientId, AppointmentID, Gender, ScheduledDay, AppointmentDay, Age, Neighbourhood, Scholarship, Hipertension, Diabetes, Alcoholism, Handcap, SMS_received, No-show]\n",
       "Index: []"
      ],
      "text/html": [
       "<div>\n",
       "<style scoped>\n",
       "    .dataframe tbody tr th:only-of-type {\n",
       "        vertical-align: middle;\n",
       "    }\n",
       "\n",
       "    .dataframe tbody tr th {\n",
       "        vertical-align: top;\n",
       "    }\n",
       "\n",
       "    .dataframe thead th {\n",
       "        text-align: right;\n",
       "    }\n",
       "</style>\n",
       "<table border=\"1\" class=\"dataframe\">\n",
       "  <thead>\n",
       "    <tr style=\"text-align: right;\">\n",
       "      <th></th>\n",
       "      <th>PatientId</th>\n",
       "      <th>AppointmentID</th>\n",
       "      <th>Gender</th>\n",
       "      <th>ScheduledDay</th>\n",
       "      <th>AppointmentDay</th>\n",
       "      <th>Age</th>\n",
       "      <th>Neighbourhood</th>\n",
       "      <th>Scholarship</th>\n",
       "      <th>Hipertension</th>\n",
       "      <th>Diabetes</th>\n",
       "      <th>Alcoholism</th>\n",
       "      <th>Handcap</th>\n",
       "      <th>SMS_received</th>\n",
       "      <th>No-show</th>\n",
       "    </tr>\n",
       "  </thead>\n",
       "  <tbody>\n",
       "  </tbody>\n",
       "</table>\n",
       "</div>"
      ]
     },
     "execution_count": 222,
     "metadata": {},
     "output_type": "execute_result"
    }
   ],
   "execution_count": 222
  },
  {
   "metadata": {
    "ExecuteTime": {
     "end_time": "2025-08-08T08:53:51.273741Z",
     "start_time": "2025-08-08T08:53:51.245505Z"
    }
   },
   "cell_type": "code",
   "source": "df.isnull().sum()",
   "outputs": [
    {
     "data": {
      "text/plain": [
       "PatientId         0\n",
       "AppointmentID     0\n",
       "Gender            0\n",
       "ScheduledDay      0\n",
       "AppointmentDay    0\n",
       "Age               0\n",
       "Neighbourhood     0\n",
       "Scholarship       0\n",
       "Hipertension      0\n",
       "Diabetes          0\n",
       "Alcoholism        0\n",
       "Handcap           0\n",
       "SMS_received      0\n",
       "No-show           0\n",
       "dtype: int64"
      ]
     },
     "execution_count": 223,
     "metadata": {},
     "output_type": "execute_result"
    }
   ],
   "execution_count": 223
  },
  {
   "cell_type": "code",
   "source": [
    "df['ScheduledDay'] = pd.to_datetime(df['ScheduledDay'], dayfirst=True)\n",
    "df['AppointmentDay'] = pd.to_datetime(df['AppointmentDay'], dayfirst=True)\n",
    "df['DelayDays'] = (df['AppointmentDay'] - df['ScheduledDay']).dt.days"
   ],
   "metadata": {
    "trusted": true,
    "execution": {
     "iopub.status.busy": "2025-08-05T18:21:18.745102Z",
     "iopub.execute_input": "2025-08-05T18:21:18.745372Z",
     "iopub.status.idle": "2025-08-05T18:21:18.904456Z",
     "shell.execute_reply.started": "2025-08-05T18:21:18.745351Z",
     "shell.execute_reply": "2025-08-05T18:21:18.903511Z"
    },
    "ExecuteTime": {
     "end_time": "2025-08-08T08:53:51.490752Z",
     "start_time": "2025-08-08T08:53:51.285125Z"
    }
   },
   "outputs": [
    {
     "name": "stderr",
     "output_type": "stream",
     "text": [
      "C:\\Users\\it\\AppData\\Local\\Temp\\ipykernel_976\\2525798971.py:1: UserWarning:\n",
      "\n",
      "Parsing dates in %Y-%m-%dT%H:%M:%S%z format when dayfirst=True was specified. Pass `dayfirst=False` or specify a format to silence this warning.\n",
      "\n",
      "C:\\Users\\it\\AppData\\Local\\Temp\\ipykernel_976\\2525798971.py:2: UserWarning:\n",
      "\n",
      "Parsing dates in %Y-%m-%dT%H:%M:%S%z format when dayfirst=True was specified. Pass `dayfirst=False` or specify a format to silence this warning.\n",
      "\n"
     ]
    }
   ],
   "execution_count": 224
  },
  {
   "cell_type": "code",
   "source": "df[['ScheduledDay', 'AppointmentDay']].head()",
   "metadata": {
    "trusted": true,
    "execution": {
     "iopub.status.busy": "2025-08-05T18:21:18.907425Z",
     "iopub.execute_input": "2025-08-05T18:21:18.907714Z",
     "iopub.status.idle": "2025-08-05T18:21:18.919158Z",
     "shell.execute_reply.started": "2025-08-05T18:21:18.907694Z",
     "shell.execute_reply": "2025-08-05T18:21:18.918148Z"
    },
    "ExecuteTime": {
     "end_time": "2025-08-08T08:53:51.546870Z",
     "start_time": "2025-08-08T08:53:51.524438Z"
    }
   },
   "outputs": [
    {
     "data": {
      "text/plain": [
       "               ScheduledDay            AppointmentDay\n",
       "0 2016-04-29 18:38:08+00:00 2016-04-29 00:00:00+00:00\n",
       "1 2016-04-29 16:08:27+00:00 2016-04-29 00:00:00+00:00\n",
       "2 2016-04-29 16:19:04+00:00 2016-04-29 00:00:00+00:00\n",
       "3 2016-04-29 17:29:31+00:00 2016-04-29 00:00:00+00:00\n",
       "4 2016-04-29 16:07:23+00:00 2016-04-29 00:00:00+00:00"
      ],
      "text/html": [
       "<div>\n",
       "<style scoped>\n",
       "    .dataframe tbody tr th:only-of-type {\n",
       "        vertical-align: middle;\n",
       "    }\n",
       "\n",
       "    .dataframe tbody tr th {\n",
       "        vertical-align: top;\n",
       "    }\n",
       "\n",
       "    .dataframe thead th {\n",
       "        text-align: right;\n",
       "    }\n",
       "</style>\n",
       "<table border=\"1\" class=\"dataframe\">\n",
       "  <thead>\n",
       "    <tr style=\"text-align: right;\">\n",
       "      <th></th>\n",
       "      <th>ScheduledDay</th>\n",
       "      <th>AppointmentDay</th>\n",
       "    </tr>\n",
       "  </thead>\n",
       "  <tbody>\n",
       "    <tr>\n",
       "      <th>0</th>\n",
       "      <td>2016-04-29 18:38:08+00:00</td>\n",
       "      <td>2016-04-29 00:00:00+00:00</td>\n",
       "    </tr>\n",
       "    <tr>\n",
       "      <th>1</th>\n",
       "      <td>2016-04-29 16:08:27+00:00</td>\n",
       "      <td>2016-04-29 00:00:00+00:00</td>\n",
       "    </tr>\n",
       "    <tr>\n",
       "      <th>2</th>\n",
       "      <td>2016-04-29 16:19:04+00:00</td>\n",
       "      <td>2016-04-29 00:00:00+00:00</td>\n",
       "    </tr>\n",
       "    <tr>\n",
       "      <th>3</th>\n",
       "      <td>2016-04-29 17:29:31+00:00</td>\n",
       "      <td>2016-04-29 00:00:00+00:00</td>\n",
       "    </tr>\n",
       "    <tr>\n",
       "      <th>4</th>\n",
       "      <td>2016-04-29 16:07:23+00:00</td>\n",
       "      <td>2016-04-29 00:00:00+00:00</td>\n",
       "    </tr>\n",
       "  </tbody>\n",
       "</table>\n",
       "</div>"
      ]
     },
     "execution_count": 225,
     "metadata": {},
     "output_type": "execute_result"
    }
   ],
   "execution_count": 225
  },
  {
   "cell_type": "code",
   "source": "df['ScheduledDay'] = pd.to_datetime(df['ScheduledDay']).dt.strftime('%d-%m-%Y')",
   "metadata": {
    "trusted": true,
    "execution": {
     "iopub.status.busy": "2025-08-05T18:21:18.920134Z",
     "iopub.execute_input": "2025-08-05T18:21:18.920641Z",
     "iopub.status.idle": "2025-08-05T18:21:19.503541Z",
     "shell.execute_reply.started": "2025-08-05T18:21:18.920614Z",
     "shell.execute_reply": "2025-08-05T18:21:19.502225Z"
    },
    "ExecuteTime": {
     "end_time": "2025-08-08T08:53:52.295768Z",
     "start_time": "2025-08-08T08:53:51.606766Z"
    }
   },
   "outputs": [],
   "execution_count": 226
  },
  {
   "cell_type": "code",
   "source": [
    "df['AppointmentDay'] = pd.to_datetime(df['AppointmentDay'], dayfirst = True)\n",
    "df['day'] = df['AppointmentDay'].dt.day_name()"
   ],
   "metadata": {
    "trusted": true,
    "execution": {
     "iopub.status.busy": "2025-08-05T18:21:19.504837Z",
     "iopub.execute_input": "2025-08-05T18:21:19.505273Z",
     "iopub.status.idle": "2025-08-05T18:21:19.553229Z",
     "shell.execute_reply.started": "2025-08-05T18:21:19.505234Z",
     "shell.execute_reply": "2025-08-05T18:21:19.552282Z"
    },
    "ExecuteTime": {
     "end_time": "2025-08-08T08:53:52.346719Z",
     "start_time": "2025-08-08T08:53:52.304786Z"
    }
   },
   "outputs": [],
   "execution_count": 227
  },
  {
   "cell_type": "code",
   "source": "df[['AppointmentDay','ScheduledDay']].head()",
   "metadata": {
    "trusted": true,
    "execution": {
     "iopub.status.busy": "2025-08-05T18:21:19.554250Z",
     "iopub.execute_input": "2025-08-05T18:21:19.554520Z",
     "iopub.status.idle": "2025-08-05T18:21:19.567700Z",
     "shell.execute_reply.started": "2025-08-05T18:21:19.554498Z",
     "shell.execute_reply": "2025-08-05T18:21:19.566921Z"
    },
    "ExecuteTime": {
     "end_time": "2025-08-08T08:53:52.395957Z",
     "start_time": "2025-08-08T08:53:52.365596Z"
    }
   },
   "outputs": [
    {
     "data": {
      "text/plain": [
       "             AppointmentDay ScheduledDay\n",
       "0 2016-04-29 00:00:00+00:00   29-04-2016\n",
       "1 2016-04-29 00:00:00+00:00   29-04-2016\n",
       "2 2016-04-29 00:00:00+00:00   29-04-2016\n",
       "3 2016-04-29 00:00:00+00:00   29-04-2016\n",
       "4 2016-04-29 00:00:00+00:00   29-04-2016"
      ],
      "text/html": [
       "<div>\n",
       "<style scoped>\n",
       "    .dataframe tbody tr th:only-of-type {\n",
       "        vertical-align: middle;\n",
       "    }\n",
       "\n",
       "    .dataframe tbody tr th {\n",
       "        vertical-align: top;\n",
       "    }\n",
       "\n",
       "    .dataframe thead th {\n",
       "        text-align: right;\n",
       "    }\n",
       "</style>\n",
       "<table border=\"1\" class=\"dataframe\">\n",
       "  <thead>\n",
       "    <tr style=\"text-align: right;\">\n",
       "      <th></th>\n",
       "      <th>AppointmentDay</th>\n",
       "      <th>ScheduledDay</th>\n",
       "    </tr>\n",
       "  </thead>\n",
       "  <tbody>\n",
       "    <tr>\n",
       "      <th>0</th>\n",
       "      <td>2016-04-29 00:00:00+00:00</td>\n",
       "      <td>29-04-2016</td>\n",
       "    </tr>\n",
       "    <tr>\n",
       "      <th>1</th>\n",
       "      <td>2016-04-29 00:00:00+00:00</td>\n",
       "      <td>29-04-2016</td>\n",
       "    </tr>\n",
       "    <tr>\n",
       "      <th>2</th>\n",
       "      <td>2016-04-29 00:00:00+00:00</td>\n",
       "      <td>29-04-2016</td>\n",
       "    </tr>\n",
       "    <tr>\n",
       "      <th>3</th>\n",
       "      <td>2016-04-29 00:00:00+00:00</td>\n",
       "      <td>29-04-2016</td>\n",
       "    </tr>\n",
       "    <tr>\n",
       "      <th>4</th>\n",
       "      <td>2016-04-29 00:00:00+00:00</td>\n",
       "      <td>29-04-2016</td>\n",
       "    </tr>\n",
       "  </tbody>\n",
       "</table>\n",
       "</div>"
      ]
     },
     "execution_count": 228,
     "metadata": {},
     "output_type": "execute_result"
    }
   ],
   "execution_count": 228
  },
  {
   "cell_type": "code",
   "source": "df = df.rename(columns={\"Handcap\": \"Handicap\"})",
   "metadata": {
    "trusted": true,
    "execution": {
     "iopub.status.busy": "2025-08-05T18:21:19.568689Z",
     "iopub.execute_input": "2025-08-05T18:21:19.569333Z",
     "iopub.status.idle": "2025-08-05T18:21:19.592201Z",
     "shell.execute_reply.started": "2025-08-05T18:21:19.569300Z",
     "shell.execute_reply": "2025-08-05T18:21:19.591214Z"
    },
    "ExecuteTime": {
     "end_time": "2025-08-08T08:53:52.482699Z",
     "start_time": "2025-08-08T08:53:52.436495Z"
    }
   },
   "outputs": [],
   "execution_count": 229
  },
  {
   "cell_type": "code",
   "source": "df['No-show'] = df['No-show'].map({'Yes' : 'No' , 'No' : 'Yes' })\ndf.rename(columns={\"No-show\" : \"Attendance\"},inplace = True)",
   "metadata": {
    "trusted": true,
    "execution": {
     "iopub.status.busy": "2025-08-05T18:21:19.593248Z",
     "iopub.execute_input": "2025-08-05T18:21:19.593562Z",
     "iopub.status.idle": "2025-08-05T18:21:19.608487Z",
     "shell.execute_reply.started": "2025-08-05T18:21:19.593529Z",
     "shell.execute_reply": "2025-08-05T18:21:19.607457Z"
    },
    "ExecuteTime": {
     "end_time": "2025-08-08T08:53:52.527432Z",
     "start_time": "2025-08-08T08:53:52.508429Z"
    }
   },
   "outputs": [],
   "execution_count": 230
  },
  {
   "metadata": {
    "ExecuteTime": {
     "end_time": "2025-08-08T08:53:52.548946Z",
     "start_time": "2025-08-08T08:53:52.536357Z"
    }
   },
   "cell_type": "code",
   "source": "df['Gender'] = df['Gender'].map({'F' : 'Female' , 'M' : 'Male' })",
   "outputs": [],
   "execution_count": 231
  },
  {
   "cell_type": "code",
   "source": "df.drop(columns = [\"PatientId\"],inplace = True)",
   "metadata": {
    "trusted": true,
    "execution": {
     "iopub.status.busy": "2025-08-05T18:21:19.610844Z",
     "iopub.execute_input": "2025-08-05T18:21:19.611154Z",
     "iopub.status.idle": "2025-08-05T18:21:19.638137Z",
     "shell.execute_reply.started": "2025-08-05T18:21:19.611123Z",
     "shell.execute_reply": "2025-08-05T18:21:19.637056Z"
    },
    "ExecuteTime": {
     "end_time": "2025-08-08T08:53:52.596989Z",
     "start_time": "2025-08-08T08:53:52.569596Z"
    }
   },
   "outputs": [],
   "execution_count": 232
  },
  {
   "cell_type": "code",
   "source": "df.head()",
   "metadata": {
    "trusted": true,
    "execution": {
     "iopub.status.busy": "2025-08-05T18:21:19.639150Z",
     "iopub.execute_input": "2025-08-05T18:21:19.639444Z",
     "iopub.status.idle": "2025-08-05T18:21:19.652104Z",
     "shell.execute_reply.started": "2025-08-05T18:21:19.639421Z",
     "shell.execute_reply": "2025-08-05T18:21:19.651042Z"
    },
    "ExecuteTime": {
     "end_time": "2025-08-08T08:53:52.650257Z",
     "start_time": "2025-08-08T08:53:52.628384Z"
    }
   },
   "outputs": [
    {
     "data": {
      "text/plain": [
       "   AppointmentID  Gender ScheduledDay            AppointmentDay  Age  \\\n",
       "0        5642903  Female   29-04-2016 2016-04-29 00:00:00+00:00   62   \n",
       "1        5642503    Male   29-04-2016 2016-04-29 00:00:00+00:00   56   \n",
       "2        5642549  Female   29-04-2016 2016-04-29 00:00:00+00:00   62   \n",
       "3        5642828  Female   29-04-2016 2016-04-29 00:00:00+00:00    8   \n",
       "4        5642494  Female   29-04-2016 2016-04-29 00:00:00+00:00   56   \n",
       "\n",
       "       Neighbourhood  Scholarship  Hipertension  Diabetes  Alcoholism  \\\n",
       "0    JARDIM DA PENHA            0             1         0           0   \n",
       "1    JARDIM DA PENHA            0             0         0           0   \n",
       "2      MATA DA PRAIA            0             0         0           0   \n",
       "3  PONTAL DE CAMBURI            0             0         0           0   \n",
       "4    JARDIM DA PENHA            0             1         1           0   \n",
       "\n",
       "   Handicap  SMS_received Attendance  DelayDays     day  \n",
       "0         0             0        Yes         -1  Friday  \n",
       "1         0             0        Yes         -1  Friday  \n",
       "2         0             0        Yes         -1  Friday  \n",
       "3         0             0        Yes         -1  Friday  \n",
       "4         0             0        Yes         -1  Friday  "
      ],
      "text/html": [
       "<div>\n",
       "<style scoped>\n",
       "    .dataframe tbody tr th:only-of-type {\n",
       "        vertical-align: middle;\n",
       "    }\n",
       "\n",
       "    .dataframe tbody tr th {\n",
       "        vertical-align: top;\n",
       "    }\n",
       "\n",
       "    .dataframe thead th {\n",
       "        text-align: right;\n",
       "    }\n",
       "</style>\n",
       "<table border=\"1\" class=\"dataframe\">\n",
       "  <thead>\n",
       "    <tr style=\"text-align: right;\">\n",
       "      <th></th>\n",
       "      <th>AppointmentID</th>\n",
       "      <th>Gender</th>\n",
       "      <th>ScheduledDay</th>\n",
       "      <th>AppointmentDay</th>\n",
       "      <th>Age</th>\n",
       "      <th>Neighbourhood</th>\n",
       "      <th>Scholarship</th>\n",
       "      <th>Hipertension</th>\n",
       "      <th>Diabetes</th>\n",
       "      <th>Alcoholism</th>\n",
       "      <th>Handicap</th>\n",
       "      <th>SMS_received</th>\n",
       "      <th>Attendance</th>\n",
       "      <th>DelayDays</th>\n",
       "      <th>day</th>\n",
       "    </tr>\n",
       "  </thead>\n",
       "  <tbody>\n",
       "    <tr>\n",
       "      <th>0</th>\n",
       "      <td>5642903</td>\n",
       "      <td>Female</td>\n",
       "      <td>29-04-2016</td>\n",
       "      <td>2016-04-29 00:00:00+00:00</td>\n",
       "      <td>62</td>\n",
       "      <td>JARDIM DA PENHA</td>\n",
       "      <td>0</td>\n",
       "      <td>1</td>\n",
       "      <td>0</td>\n",
       "      <td>0</td>\n",
       "      <td>0</td>\n",
       "      <td>0</td>\n",
       "      <td>Yes</td>\n",
       "      <td>-1</td>\n",
       "      <td>Friday</td>\n",
       "    </tr>\n",
       "    <tr>\n",
       "      <th>1</th>\n",
       "      <td>5642503</td>\n",
       "      <td>Male</td>\n",
       "      <td>29-04-2016</td>\n",
       "      <td>2016-04-29 00:00:00+00:00</td>\n",
       "      <td>56</td>\n",
       "      <td>JARDIM DA PENHA</td>\n",
       "      <td>0</td>\n",
       "      <td>0</td>\n",
       "      <td>0</td>\n",
       "      <td>0</td>\n",
       "      <td>0</td>\n",
       "      <td>0</td>\n",
       "      <td>Yes</td>\n",
       "      <td>-1</td>\n",
       "      <td>Friday</td>\n",
       "    </tr>\n",
       "    <tr>\n",
       "      <th>2</th>\n",
       "      <td>5642549</td>\n",
       "      <td>Female</td>\n",
       "      <td>29-04-2016</td>\n",
       "      <td>2016-04-29 00:00:00+00:00</td>\n",
       "      <td>62</td>\n",
       "      <td>MATA DA PRAIA</td>\n",
       "      <td>0</td>\n",
       "      <td>0</td>\n",
       "      <td>0</td>\n",
       "      <td>0</td>\n",
       "      <td>0</td>\n",
       "      <td>0</td>\n",
       "      <td>Yes</td>\n",
       "      <td>-1</td>\n",
       "      <td>Friday</td>\n",
       "    </tr>\n",
       "    <tr>\n",
       "      <th>3</th>\n",
       "      <td>5642828</td>\n",
       "      <td>Female</td>\n",
       "      <td>29-04-2016</td>\n",
       "      <td>2016-04-29 00:00:00+00:00</td>\n",
       "      <td>8</td>\n",
       "      <td>PONTAL DE CAMBURI</td>\n",
       "      <td>0</td>\n",
       "      <td>0</td>\n",
       "      <td>0</td>\n",
       "      <td>0</td>\n",
       "      <td>0</td>\n",
       "      <td>0</td>\n",
       "      <td>Yes</td>\n",
       "      <td>-1</td>\n",
       "      <td>Friday</td>\n",
       "    </tr>\n",
       "    <tr>\n",
       "      <th>4</th>\n",
       "      <td>5642494</td>\n",
       "      <td>Female</td>\n",
       "      <td>29-04-2016</td>\n",
       "      <td>2016-04-29 00:00:00+00:00</td>\n",
       "      <td>56</td>\n",
       "      <td>JARDIM DA PENHA</td>\n",
       "      <td>0</td>\n",
       "      <td>1</td>\n",
       "      <td>1</td>\n",
       "      <td>0</td>\n",
       "      <td>0</td>\n",
       "      <td>0</td>\n",
       "      <td>Yes</td>\n",
       "      <td>-1</td>\n",
       "      <td>Friday</td>\n",
       "    </tr>\n",
       "  </tbody>\n",
       "</table>\n",
       "</div>"
      ]
     },
     "execution_count": 233,
     "metadata": {},
     "output_type": "execute_result"
    }
   ],
   "execution_count": 233
  },
  {
   "metadata": {
    "ExecuteTime": {
     "end_time": "2025-08-08T08:53:52.708667Z",
     "start_time": "2025-08-08T08:53:52.667695Z"
    }
   },
   "cell_type": "code",
   "source": [
    "df =df[df['Age'] >= 1 ]\n",
    "df =df[df['Age'] <= 100 ]\n",
    "df.Age.value_counts()"
   ],
   "outputs": [
    {
     "data": {
      "text/plain": [
       "Age\n",
       "1      2273\n",
       "52     1746\n",
       "49     1652\n",
       "53     1651\n",
       "56     1635\n",
       "       ... \n",
       "96       17\n",
       "97       11\n",
       "98        6\n",
       "100       4\n",
       "99        1\n",
       "Name: count, Length: 100, dtype: int64"
      ]
     },
     "execution_count": 234,
     "metadata": {},
     "output_type": "execute_result"
    }
   ],
   "execution_count": 234
  },
  {
   "metadata": {},
   "cell_type": "markdown",
   "source": "## Visualization"
  },
  {
   "metadata": {},
   "cell_type": "markdown",
   "source": "#### Attendance Vs Dis Att"
  },
  {
   "metadata": {
    "ExecuteTime": {
     "end_time": "2025-08-08T08:53:52.757263Z",
     "start_time": "2025-08-08T08:53:52.714536Z"
    }
   },
   "cell_type": "code",
   "source": [
    "yes_att = df[df['Attendance'] == 'Yes'].shape[0]\n",
    "no_att  = df[df['Attendance'] == 'No' ].shape[0]\n",
    "\n",
    "age_attendance = df.groupby(['Age', 'Attendance']).size().reset_index(name='Count')"
   ],
   "outputs": [],
   "execution_count": 235
  },
  {
   "metadata": {
    "ExecuteTime": {
     "end_time": "2025-08-08T08:53:52.767528Z",
     "start_time": "2025-08-08T08:53:52.763416Z"
    }
   },
   "cell_type": "code",
   "source": [
    "attendance_df = pd.DataFrame({\n",
    "    'Attendance': ['Yes', 'No'],\n",
    "    'Count': [yes_att, no_att]\n",
    "})"
   ],
   "outputs": [],
   "execution_count": 236
  },
  {
   "metadata": {
    "ExecuteTime": {
     "end_time": "2025-08-08T08:53:52.828713Z",
     "start_time": "2025-08-08T08:53:52.775712Z"
    }
   },
   "cell_type": "code",
   "source": [
    "fig_attendance_bar = px.bar(attendance_df,\n",
    "             x='Attendance',\n",
    "             y='Count' ,\n",
    "             color='Attendance',\n",
    "             color_discrete_sequence=colors_no_show,\n",
    "             template=template_style,\n",
    ")\n",
    "fig_attendance_bar.update_layout(\n",
    "    height=450,\n",
    "    title_font=dict(size=20, color=colors_no_show[0]),\n",
    "    title_x=0.5\n",
    ")"
   ],
   "outputs": [
    {
     "data": {
      "application/vnd.plotly.v1+json": {
       "data": [
        {
         "hovertemplate": "Attendance=%{x}<br>Count=%{y}<extra></extra>",
         "legendgroup": "Yes",
         "marker": {
          "color": "#ff00ff",
          "pattern": {
           "shape": ""
          }
         },
         "name": "Yes",
         "orientation": "v",
         "showlegend": true,
         "textposition": "auto",
         "x": [
          "Yes"
         ],
         "xaxis": "x",
         "y": {
          "dtype": "i4",
          "bdata": "N00BAA=="
         },
         "yaxis": "y",
         "type": "bar"
        },
        {
         "hovertemplate": "Attendance=%{x}<br>Count=%{y}<extra></extra>",
         "legendgroup": "No",
         "marker": {
          "color": "#00ffff",
          "pattern": {
           "shape": ""
          }
         },
         "name": "No",
         "orientation": "v",
         "showlegend": true,
         "textposition": "auto",
         "x": [
          "No"
         ],
         "xaxis": "x",
         "y": {
          "dtype": "i2",
          "bdata": "rVQ="
         },
         "yaxis": "y",
         "type": "bar"
        }
       ],
       "layout": {
        "template": {
         "data": {
          "histogram2dcontour": [
           {
            "type": "histogram2dcontour",
            "colorbar": {
             "outlinewidth": 0,
             "ticks": ""
            },
            "colorscale": [
             [
              0.0,
              "#0d0887"
             ],
             [
              0.1111111111111111,
              "#46039f"
             ],
             [
              0.2222222222222222,
              "#7201a8"
             ],
             [
              0.3333333333333333,
              "#9c179e"
             ],
             [
              0.4444444444444444,
              "#bd3786"
             ],
             [
              0.5555555555555556,
              "#d8576b"
             ],
             [
              0.6666666666666666,
              "#ed7953"
             ],
             [
              0.7777777777777778,
              "#fb9f3a"
             ],
             [
              0.8888888888888888,
              "#fdca26"
             ],
             [
              1.0,
              "#f0f921"
             ]
            ]
           }
          ],
          "choropleth": [
           {
            "type": "choropleth",
            "colorbar": {
             "outlinewidth": 0,
             "ticks": ""
            }
           }
          ],
          "histogram2d": [
           {
            "type": "histogram2d",
            "colorbar": {
             "outlinewidth": 0,
             "ticks": ""
            },
            "colorscale": [
             [
              0.0,
              "#0d0887"
             ],
             [
              0.1111111111111111,
              "#46039f"
             ],
             [
              0.2222222222222222,
              "#7201a8"
             ],
             [
              0.3333333333333333,
              "#9c179e"
             ],
             [
              0.4444444444444444,
              "#bd3786"
             ],
             [
              0.5555555555555556,
              "#d8576b"
             ],
             [
              0.6666666666666666,
              "#ed7953"
             ],
             [
              0.7777777777777778,
              "#fb9f3a"
             ],
             [
              0.8888888888888888,
              "#fdca26"
             ],
             [
              1.0,
              "#f0f921"
             ]
            ]
           }
          ],
          "heatmap": [
           {
            "type": "heatmap",
            "colorbar": {
             "outlinewidth": 0,
             "ticks": ""
            },
            "colorscale": [
             [
              0.0,
              "#0d0887"
             ],
             [
              0.1111111111111111,
              "#46039f"
             ],
             [
              0.2222222222222222,
              "#7201a8"
             ],
             [
              0.3333333333333333,
              "#9c179e"
             ],
             [
              0.4444444444444444,
              "#bd3786"
             ],
             [
              0.5555555555555556,
              "#d8576b"
             ],
             [
              0.6666666666666666,
              "#ed7953"
             ],
             [
              0.7777777777777778,
              "#fb9f3a"
             ],
             [
              0.8888888888888888,
              "#fdca26"
             ],
             [
              1.0,
              "#f0f921"
             ]
            ]
           }
          ],
          "contourcarpet": [
           {
            "type": "contourcarpet",
            "colorbar": {
             "outlinewidth": 0,
             "ticks": ""
            }
           }
          ],
          "contour": [
           {
            "type": "contour",
            "colorbar": {
             "outlinewidth": 0,
             "ticks": ""
            },
            "colorscale": [
             [
              0.0,
              "#0d0887"
             ],
             [
              0.1111111111111111,
              "#46039f"
             ],
             [
              0.2222222222222222,
              "#7201a8"
             ],
             [
              0.3333333333333333,
              "#9c179e"
             ],
             [
              0.4444444444444444,
              "#bd3786"
             ],
             [
              0.5555555555555556,
              "#d8576b"
             ],
             [
              0.6666666666666666,
              "#ed7953"
             ],
             [
              0.7777777777777778,
              "#fb9f3a"
             ],
             [
              0.8888888888888888,
              "#fdca26"
             ],
             [
              1.0,
              "#f0f921"
             ]
            ]
           }
          ],
          "surface": [
           {
            "type": "surface",
            "colorbar": {
             "outlinewidth": 0,
             "ticks": ""
            },
            "colorscale": [
             [
              0.0,
              "#0d0887"
             ],
             [
              0.1111111111111111,
              "#46039f"
             ],
             [
              0.2222222222222222,
              "#7201a8"
             ],
             [
              0.3333333333333333,
              "#9c179e"
             ],
             [
              0.4444444444444444,
              "#bd3786"
             ],
             [
              0.5555555555555556,
              "#d8576b"
             ],
             [
              0.6666666666666666,
              "#ed7953"
             ],
             [
              0.7777777777777778,
              "#fb9f3a"
             ],
             [
              0.8888888888888888,
              "#fdca26"
             ],
             [
              1.0,
              "#f0f921"
             ]
            ]
           }
          ],
          "mesh3d": [
           {
            "type": "mesh3d",
            "colorbar": {
             "outlinewidth": 0,
             "ticks": ""
            }
           }
          ],
          "scatter": [
           {
            "marker": {
             "line": {
              "color": "#283442"
             }
            },
            "type": "scatter"
           }
          ],
          "parcoords": [
           {
            "type": "parcoords",
            "line": {
             "colorbar": {
              "outlinewidth": 0,
              "ticks": ""
             }
            }
           }
          ],
          "scatterpolargl": [
           {
            "type": "scatterpolargl",
            "marker": {
             "colorbar": {
              "outlinewidth": 0,
              "ticks": ""
             }
            }
           }
          ],
          "bar": [
           {
            "error_x": {
             "color": "#f2f5fa"
            },
            "error_y": {
             "color": "#f2f5fa"
            },
            "marker": {
             "line": {
              "color": "rgb(17,17,17)",
              "width": 0.5
             },
             "pattern": {
              "fillmode": "overlay",
              "size": 10,
              "solidity": 0.2
             }
            },
            "type": "bar"
           }
          ],
          "scattergeo": [
           {
            "type": "scattergeo",
            "marker": {
             "colorbar": {
              "outlinewidth": 0,
              "ticks": ""
             }
            }
           }
          ],
          "scatterpolar": [
           {
            "type": "scatterpolar",
            "marker": {
             "colorbar": {
              "outlinewidth": 0,
              "ticks": ""
             }
            }
           }
          ],
          "histogram": [
           {
            "marker": {
             "pattern": {
              "fillmode": "overlay",
              "size": 10,
              "solidity": 0.2
             }
            },
            "type": "histogram"
           }
          ],
          "scattergl": [
           {
            "marker": {
             "line": {
              "color": "#283442"
             }
            },
            "type": "scattergl"
           }
          ],
          "scatter3d": [
           {
            "type": "scatter3d",
            "line": {
             "colorbar": {
              "outlinewidth": 0,
              "ticks": ""
             }
            },
            "marker": {
             "colorbar": {
              "outlinewidth": 0,
              "ticks": ""
             }
            }
           }
          ],
          "scattermap": [
           {
            "type": "scattermap",
            "marker": {
             "colorbar": {
              "outlinewidth": 0,
              "ticks": ""
             }
            }
           }
          ],
          "scattermapbox": [
           {
            "type": "scattermapbox",
            "marker": {
             "colorbar": {
              "outlinewidth": 0,
              "ticks": ""
             }
            }
           }
          ],
          "scatterternary": [
           {
            "type": "scatterternary",
            "marker": {
             "colorbar": {
              "outlinewidth": 0,
              "ticks": ""
             }
            }
           }
          ],
          "scattercarpet": [
           {
            "type": "scattercarpet",
            "marker": {
             "colorbar": {
              "outlinewidth": 0,
              "ticks": ""
             }
            }
           }
          ],
          "carpet": [
           {
            "aaxis": {
             "endlinecolor": "#A2B1C6",
             "gridcolor": "#506784",
             "linecolor": "#506784",
             "minorgridcolor": "#506784",
             "startlinecolor": "#A2B1C6"
            },
            "baxis": {
             "endlinecolor": "#A2B1C6",
             "gridcolor": "#506784",
             "linecolor": "#506784",
             "minorgridcolor": "#506784",
             "startlinecolor": "#A2B1C6"
            },
            "type": "carpet"
           }
          ],
          "table": [
           {
            "cells": {
             "fill": {
              "color": "#506784"
             },
             "line": {
              "color": "rgb(17,17,17)"
             }
            },
            "header": {
             "fill": {
              "color": "#2a3f5f"
             },
             "line": {
              "color": "rgb(17,17,17)"
             }
            },
            "type": "table"
           }
          ],
          "barpolar": [
           {
            "marker": {
             "line": {
              "color": "rgb(17,17,17)",
              "width": 0.5
             },
             "pattern": {
              "fillmode": "overlay",
              "size": 10,
              "solidity": 0.2
             }
            },
            "type": "barpolar"
           }
          ],
          "pie": [
           {
            "automargin": true,
            "type": "pie"
           }
          ]
         },
         "layout": {
          "autotypenumbers": "strict",
          "colorway": [
           "#636efa",
           "#EF553B",
           "#00cc96",
           "#ab63fa",
           "#FFA15A",
           "#19d3f3",
           "#FF6692",
           "#B6E880",
           "#FF97FF",
           "#FECB52"
          ],
          "font": {
           "color": "#f2f5fa"
          },
          "hovermode": "closest",
          "hoverlabel": {
           "align": "left"
          },
          "paper_bgcolor": "rgb(17,17,17)",
          "plot_bgcolor": "rgb(17,17,17)",
          "polar": {
           "bgcolor": "rgb(17,17,17)",
           "angularaxis": {
            "gridcolor": "#506784",
            "linecolor": "#506784",
            "ticks": ""
           },
           "radialaxis": {
            "gridcolor": "#506784",
            "linecolor": "#506784",
            "ticks": ""
           }
          },
          "ternary": {
           "bgcolor": "rgb(17,17,17)",
           "aaxis": {
            "gridcolor": "#506784",
            "linecolor": "#506784",
            "ticks": ""
           },
           "baxis": {
            "gridcolor": "#506784",
            "linecolor": "#506784",
            "ticks": ""
           },
           "caxis": {
            "gridcolor": "#506784",
            "linecolor": "#506784",
            "ticks": ""
           }
          },
          "coloraxis": {
           "colorbar": {
            "outlinewidth": 0,
            "ticks": ""
           }
          },
          "colorscale": {
           "sequential": [
            [
             0.0,
             "#0d0887"
            ],
            [
             0.1111111111111111,
             "#46039f"
            ],
            [
             0.2222222222222222,
             "#7201a8"
            ],
            [
             0.3333333333333333,
             "#9c179e"
            ],
            [
             0.4444444444444444,
             "#bd3786"
            ],
            [
             0.5555555555555556,
             "#d8576b"
            ],
            [
             0.6666666666666666,
             "#ed7953"
            ],
            [
             0.7777777777777778,
             "#fb9f3a"
            ],
            [
             0.8888888888888888,
             "#fdca26"
            ],
            [
             1.0,
             "#f0f921"
            ]
           ],
           "sequentialminus": [
            [
             0.0,
             "#0d0887"
            ],
            [
             0.1111111111111111,
             "#46039f"
            ],
            [
             0.2222222222222222,
             "#7201a8"
            ],
            [
             0.3333333333333333,
             "#9c179e"
            ],
            [
             0.4444444444444444,
             "#bd3786"
            ],
            [
             0.5555555555555556,
             "#d8576b"
            ],
            [
             0.6666666666666666,
             "#ed7953"
            ],
            [
             0.7777777777777778,
             "#fb9f3a"
            ],
            [
             0.8888888888888888,
             "#fdca26"
            ],
            [
             1.0,
             "#f0f921"
            ]
           ],
           "diverging": [
            [
             0,
             "#8e0152"
            ],
            [
             0.1,
             "#c51b7d"
            ],
            [
             0.2,
             "#de77ae"
            ],
            [
             0.3,
             "#f1b6da"
            ],
            [
             0.4,
             "#fde0ef"
            ],
            [
             0.5,
             "#f7f7f7"
            ],
            [
             0.6,
             "#e6f5d0"
            ],
            [
             0.7,
             "#b8e186"
            ],
            [
             0.8,
             "#7fbc41"
            ],
            [
             0.9,
             "#4d9221"
            ],
            [
             1,
             "#276419"
            ]
           ]
          },
          "xaxis": {
           "gridcolor": "#283442",
           "linecolor": "#506784",
           "ticks": "",
           "title": {
            "standoff": 15
           },
           "zerolinecolor": "#283442",
           "automargin": true,
           "zerolinewidth": 2
          },
          "yaxis": {
           "gridcolor": "#283442",
           "linecolor": "#506784",
           "ticks": "",
           "title": {
            "standoff": 15
           },
           "zerolinecolor": "#283442",
           "automargin": true,
           "zerolinewidth": 2
          },
          "scene": {
           "xaxis": {
            "backgroundcolor": "rgb(17,17,17)",
            "gridcolor": "#506784",
            "linecolor": "#506784",
            "showbackground": true,
            "ticks": "",
            "zerolinecolor": "#C8D4E3",
            "gridwidth": 2
           },
           "yaxis": {
            "backgroundcolor": "rgb(17,17,17)",
            "gridcolor": "#506784",
            "linecolor": "#506784",
            "showbackground": true,
            "ticks": "",
            "zerolinecolor": "#C8D4E3",
            "gridwidth": 2
           },
           "zaxis": {
            "backgroundcolor": "rgb(17,17,17)",
            "gridcolor": "#506784",
            "linecolor": "#506784",
            "showbackground": true,
            "ticks": "",
            "zerolinecolor": "#C8D4E3",
            "gridwidth": 2
           }
          },
          "shapedefaults": {
           "line": {
            "color": "#f2f5fa"
           }
          },
          "annotationdefaults": {
           "arrowcolor": "#f2f5fa",
           "arrowhead": 0,
           "arrowwidth": 1
          },
          "geo": {
           "bgcolor": "rgb(17,17,17)",
           "landcolor": "rgb(17,17,17)",
           "subunitcolor": "#506784",
           "showland": true,
           "showlakes": true,
           "lakecolor": "rgb(17,17,17)"
          },
          "title": {
           "x": 0.05
          },
          "updatemenudefaults": {
           "bgcolor": "#506784",
           "borderwidth": 0
          },
          "sliderdefaults": {
           "bgcolor": "#C8D4E3",
           "borderwidth": 1,
           "bordercolor": "rgb(17,17,17)",
           "tickwidth": 0
          },
          "mapbox": {
           "style": "dark"
          }
         }
        },
        "xaxis": {
         "anchor": "y",
         "domain": [
          0.0,
          1.0
         ],
         "title": {
          "text": "Attendance"
         },
         "categoryorder": "array",
         "categoryarray": [
          "Yes",
          "No"
         ]
        },
        "yaxis": {
         "anchor": "x",
         "domain": [
          0.0,
          1.0
         ],
         "title": {
          "text": "Count"
         }
        },
        "legend": {
         "title": {
          "text": "Attendance"
         },
         "tracegroupgap": 0
        },
        "margin": {
         "t": 60
        },
        "barmode": "relative",
        "title": {
         "font": {
          "size": 20,
          "color": "#ff00ff"
         },
         "x": 0.5
        },
        "height": 450
       },
       "config": {
        "plotlyServerURL": "https://plot.ly"
       }
      }
     },
     "metadata": {},
     "output_type": "display_data"
    }
   ],
   "execution_count": 237
  },
  {
   "metadata": {},
   "cell_type": "markdown",
   "source": "#### Atten Vs Gender"
  },
  {
   "metadata": {
    "ExecuteTime": {
     "end_time": "2025-08-08T08:53:52.880951Z",
     "start_time": "2025-08-08T08:53:52.834880Z"
    }
   },
   "cell_type": "code",
   "source": [
    "'''\n",
    "1.Sum of gender and attendance , then put them in new col\n",
    "2.total present and absent in one col\n",
    "3.percentage of present and absent in one col\n",
    "4.count male and female\n",
    "5.index to Gender , gender to count\n",
    "'''\n",
    "gender_attendance = df.groupby(['Gender','Attendance']).size().reset_index(name = 'count of gender')\n",
    "total_by_gender = gender_attendance.groupby('Gender')['count of gender'].transform('sum')\n",
    "gender_attendance['percentage'] = (gender_attendance['count of gender'] / total_by_gender) * 100\n",
    "\n",
    "\n",
    "male_vs_female = df['Gender'].value_counts().reset_index()\n",
    "male_vs_female.columns = ['Gender','Count']\n",
    "gender_distribution = male_vs_female.copy()\n",
    "genders_list = ['Male','Female','All']\n",
    "pie_charts = []"
   ],
   "outputs": [],
   "execution_count": 238
  },
  {
   "metadata": {
    "ExecuteTime": {
     "end_time": "2025-08-08T08:53:53.011086Z",
     "start_time": "2025-08-08T08:53:52.888630Z"
    }
   },
   "cell_type": "code",
   "source": [
    "for gender in genders_list:\n",
    "    if gender == 'All':\n",
    "        data = df.groupby('Attendance').size().reset_index(name='Count')\n",
    "    else:\n",
    "        data = df[df['Gender'] == gender].groupby('Attendance').size().reset_index(name='Count')\n",
    "    total = data['Count'].sum()\n",
    "    if total == 0:\n",
    "        data['percentage'] = 0\n",
    "    else:\n",
    "        data['percentage'] = (data['Count'] / total) * 100\n",
    "    fig = px.pie(\n",
    "        data,\n",
    "        names='Attendance',\n",
    "        values='percentage',\n",
    "        title=f'Attendance Distribution for {gender}',\n",
    "        color_discrete_sequence=colors_age_gender,\n",
    "        template=template_style\n",
    "    )\n",
    "    pie_charts.append(dcc.Graph(figure=fig, id=f'pie-{gender}'))"
   ],
   "outputs": [],
   "execution_count": 239
  },
  {
   "metadata": {
    "ExecuteTime": {
     "end_time": "2025-08-08T08:53:53.066385Z",
     "start_time": "2025-08-08T08:53:53.020255Z"
    }
   },
   "cell_type": "code",
   "source": [
    "fig_gender_overall = px.pie(\n",
    "    gender_distribution,\n",
    "    names='Gender',\n",
    "    values='Count',\n",
    "    title='Overall Gender Distribution',\n",
    "    color_discrete_sequence=colors_age_gender,\n",
    "    template=template_style\n",
    ")\n",
    "fig_gender_overall.update_layout(\n",
    "    height=450,\n",
    "    title_font=dict(size=20, color=colors_age_gender[1]),\n",
    "    title_x=0.5\n",
    ")\n",
    "fig_gender_overall.update_layout(\n",
    "    width=500,   # العرض بالبكسل\n",
    "    height=400   # الارتفاع بالبكسل\n",
    ")"
   ],
   "outputs": [
    {
     "data": {
      "application/vnd.plotly.v1+json": {
       "data": [
        {
         "domain": {
          "x": [
           0.0,
           1.0
          ],
          "y": [
           0.0,
           1.0
          ]
         },
         "hovertemplate": "Gender=%{label}<br>Count=%{value}<extra></extra>",
         "labels": [
          "Female",
          "Male"
         ],
         "legendgroup": "",
         "name": "",
         "showlegend": true,
         "values": {
          "dtype": "i4",
          "bdata": "3xEBAAWQAAA="
         },
         "type": "pie"
        }
       ],
       "layout": {
        "template": {
         "data": {
          "histogram2dcontour": [
           {
            "type": "histogram2dcontour",
            "colorbar": {
             "outlinewidth": 0,
             "ticks": ""
            },
            "colorscale": [
             [
              0.0,
              "#0d0887"
             ],
             [
              0.1111111111111111,
              "#46039f"
             ],
             [
              0.2222222222222222,
              "#7201a8"
             ],
             [
              0.3333333333333333,
              "#9c179e"
             ],
             [
              0.4444444444444444,
              "#bd3786"
             ],
             [
              0.5555555555555556,
              "#d8576b"
             ],
             [
              0.6666666666666666,
              "#ed7953"
             ],
             [
              0.7777777777777778,
              "#fb9f3a"
             ],
             [
              0.8888888888888888,
              "#fdca26"
             ],
             [
              1.0,
              "#f0f921"
             ]
            ]
           }
          ],
          "choropleth": [
           {
            "type": "choropleth",
            "colorbar": {
             "outlinewidth": 0,
             "ticks": ""
            }
           }
          ],
          "histogram2d": [
           {
            "type": "histogram2d",
            "colorbar": {
             "outlinewidth": 0,
             "ticks": ""
            },
            "colorscale": [
             [
              0.0,
              "#0d0887"
             ],
             [
              0.1111111111111111,
              "#46039f"
             ],
             [
              0.2222222222222222,
              "#7201a8"
             ],
             [
              0.3333333333333333,
              "#9c179e"
             ],
             [
              0.4444444444444444,
              "#bd3786"
             ],
             [
              0.5555555555555556,
              "#d8576b"
             ],
             [
              0.6666666666666666,
              "#ed7953"
             ],
             [
              0.7777777777777778,
              "#fb9f3a"
             ],
             [
              0.8888888888888888,
              "#fdca26"
             ],
             [
              1.0,
              "#f0f921"
             ]
            ]
           }
          ],
          "heatmap": [
           {
            "type": "heatmap",
            "colorbar": {
             "outlinewidth": 0,
             "ticks": ""
            },
            "colorscale": [
             [
              0.0,
              "#0d0887"
             ],
             [
              0.1111111111111111,
              "#46039f"
             ],
             [
              0.2222222222222222,
              "#7201a8"
             ],
             [
              0.3333333333333333,
              "#9c179e"
             ],
             [
              0.4444444444444444,
              "#bd3786"
             ],
             [
              0.5555555555555556,
              "#d8576b"
             ],
             [
              0.6666666666666666,
              "#ed7953"
             ],
             [
              0.7777777777777778,
              "#fb9f3a"
             ],
             [
              0.8888888888888888,
              "#fdca26"
             ],
             [
              1.0,
              "#f0f921"
             ]
            ]
           }
          ],
          "contourcarpet": [
           {
            "type": "contourcarpet",
            "colorbar": {
             "outlinewidth": 0,
             "ticks": ""
            }
           }
          ],
          "contour": [
           {
            "type": "contour",
            "colorbar": {
             "outlinewidth": 0,
             "ticks": ""
            },
            "colorscale": [
             [
              0.0,
              "#0d0887"
             ],
             [
              0.1111111111111111,
              "#46039f"
             ],
             [
              0.2222222222222222,
              "#7201a8"
             ],
             [
              0.3333333333333333,
              "#9c179e"
             ],
             [
              0.4444444444444444,
              "#bd3786"
             ],
             [
              0.5555555555555556,
              "#d8576b"
             ],
             [
              0.6666666666666666,
              "#ed7953"
             ],
             [
              0.7777777777777778,
              "#fb9f3a"
             ],
             [
              0.8888888888888888,
              "#fdca26"
             ],
             [
              1.0,
              "#f0f921"
             ]
            ]
           }
          ],
          "surface": [
           {
            "type": "surface",
            "colorbar": {
             "outlinewidth": 0,
             "ticks": ""
            },
            "colorscale": [
             [
              0.0,
              "#0d0887"
             ],
             [
              0.1111111111111111,
              "#46039f"
             ],
             [
              0.2222222222222222,
              "#7201a8"
             ],
             [
              0.3333333333333333,
              "#9c179e"
             ],
             [
              0.4444444444444444,
              "#bd3786"
             ],
             [
              0.5555555555555556,
              "#d8576b"
             ],
             [
              0.6666666666666666,
              "#ed7953"
             ],
             [
              0.7777777777777778,
              "#fb9f3a"
             ],
             [
              0.8888888888888888,
              "#fdca26"
             ],
             [
              1.0,
              "#f0f921"
             ]
            ]
           }
          ],
          "mesh3d": [
           {
            "type": "mesh3d",
            "colorbar": {
             "outlinewidth": 0,
             "ticks": ""
            }
           }
          ],
          "scatter": [
           {
            "marker": {
             "line": {
              "color": "#283442"
             }
            },
            "type": "scatter"
           }
          ],
          "parcoords": [
           {
            "type": "parcoords",
            "line": {
             "colorbar": {
              "outlinewidth": 0,
              "ticks": ""
             }
            }
           }
          ],
          "scatterpolargl": [
           {
            "type": "scatterpolargl",
            "marker": {
             "colorbar": {
              "outlinewidth": 0,
              "ticks": ""
             }
            }
           }
          ],
          "bar": [
           {
            "error_x": {
             "color": "#f2f5fa"
            },
            "error_y": {
             "color": "#f2f5fa"
            },
            "marker": {
             "line": {
              "color": "rgb(17,17,17)",
              "width": 0.5
             },
             "pattern": {
              "fillmode": "overlay",
              "size": 10,
              "solidity": 0.2
             }
            },
            "type": "bar"
           }
          ],
          "scattergeo": [
           {
            "type": "scattergeo",
            "marker": {
             "colorbar": {
              "outlinewidth": 0,
              "ticks": ""
             }
            }
           }
          ],
          "scatterpolar": [
           {
            "type": "scatterpolar",
            "marker": {
             "colorbar": {
              "outlinewidth": 0,
              "ticks": ""
             }
            }
           }
          ],
          "histogram": [
           {
            "marker": {
             "pattern": {
              "fillmode": "overlay",
              "size": 10,
              "solidity": 0.2
             }
            },
            "type": "histogram"
           }
          ],
          "scattergl": [
           {
            "marker": {
             "line": {
              "color": "#283442"
             }
            },
            "type": "scattergl"
           }
          ],
          "scatter3d": [
           {
            "type": "scatter3d",
            "line": {
             "colorbar": {
              "outlinewidth": 0,
              "ticks": ""
             }
            },
            "marker": {
             "colorbar": {
              "outlinewidth": 0,
              "ticks": ""
             }
            }
           }
          ],
          "scattermap": [
           {
            "type": "scattermap",
            "marker": {
             "colorbar": {
              "outlinewidth": 0,
              "ticks": ""
             }
            }
           }
          ],
          "scattermapbox": [
           {
            "type": "scattermapbox",
            "marker": {
             "colorbar": {
              "outlinewidth": 0,
              "ticks": ""
             }
            }
           }
          ],
          "scatterternary": [
           {
            "type": "scatterternary",
            "marker": {
             "colorbar": {
              "outlinewidth": 0,
              "ticks": ""
             }
            }
           }
          ],
          "scattercarpet": [
           {
            "type": "scattercarpet",
            "marker": {
             "colorbar": {
              "outlinewidth": 0,
              "ticks": ""
             }
            }
           }
          ],
          "carpet": [
           {
            "aaxis": {
             "endlinecolor": "#A2B1C6",
             "gridcolor": "#506784",
             "linecolor": "#506784",
             "minorgridcolor": "#506784",
             "startlinecolor": "#A2B1C6"
            },
            "baxis": {
             "endlinecolor": "#A2B1C6",
             "gridcolor": "#506784",
             "linecolor": "#506784",
             "minorgridcolor": "#506784",
             "startlinecolor": "#A2B1C6"
            },
            "type": "carpet"
           }
          ],
          "table": [
           {
            "cells": {
             "fill": {
              "color": "#506784"
             },
             "line": {
              "color": "rgb(17,17,17)"
             }
            },
            "header": {
             "fill": {
              "color": "#2a3f5f"
             },
             "line": {
              "color": "rgb(17,17,17)"
             }
            },
            "type": "table"
           }
          ],
          "barpolar": [
           {
            "marker": {
             "line": {
              "color": "rgb(17,17,17)",
              "width": 0.5
             },
             "pattern": {
              "fillmode": "overlay",
              "size": 10,
              "solidity": 0.2
             }
            },
            "type": "barpolar"
           }
          ],
          "pie": [
           {
            "automargin": true,
            "type": "pie"
           }
          ]
         },
         "layout": {
          "autotypenumbers": "strict",
          "colorway": [
           "#636efa",
           "#EF553B",
           "#00cc96",
           "#ab63fa",
           "#FFA15A",
           "#19d3f3",
           "#FF6692",
           "#B6E880",
           "#FF97FF",
           "#FECB52"
          ],
          "font": {
           "color": "#f2f5fa"
          },
          "hovermode": "closest",
          "hoverlabel": {
           "align": "left"
          },
          "paper_bgcolor": "rgb(17,17,17)",
          "plot_bgcolor": "rgb(17,17,17)",
          "polar": {
           "bgcolor": "rgb(17,17,17)",
           "angularaxis": {
            "gridcolor": "#506784",
            "linecolor": "#506784",
            "ticks": ""
           },
           "radialaxis": {
            "gridcolor": "#506784",
            "linecolor": "#506784",
            "ticks": ""
           }
          },
          "ternary": {
           "bgcolor": "rgb(17,17,17)",
           "aaxis": {
            "gridcolor": "#506784",
            "linecolor": "#506784",
            "ticks": ""
           },
           "baxis": {
            "gridcolor": "#506784",
            "linecolor": "#506784",
            "ticks": ""
           },
           "caxis": {
            "gridcolor": "#506784",
            "linecolor": "#506784",
            "ticks": ""
           }
          },
          "coloraxis": {
           "colorbar": {
            "outlinewidth": 0,
            "ticks": ""
           }
          },
          "colorscale": {
           "sequential": [
            [
             0.0,
             "#0d0887"
            ],
            [
             0.1111111111111111,
             "#46039f"
            ],
            [
             0.2222222222222222,
             "#7201a8"
            ],
            [
             0.3333333333333333,
             "#9c179e"
            ],
            [
             0.4444444444444444,
             "#bd3786"
            ],
            [
             0.5555555555555556,
             "#d8576b"
            ],
            [
             0.6666666666666666,
             "#ed7953"
            ],
            [
             0.7777777777777778,
             "#fb9f3a"
            ],
            [
             0.8888888888888888,
             "#fdca26"
            ],
            [
             1.0,
             "#f0f921"
            ]
           ],
           "sequentialminus": [
            [
             0.0,
             "#0d0887"
            ],
            [
             0.1111111111111111,
             "#46039f"
            ],
            [
             0.2222222222222222,
             "#7201a8"
            ],
            [
             0.3333333333333333,
             "#9c179e"
            ],
            [
             0.4444444444444444,
             "#bd3786"
            ],
            [
             0.5555555555555556,
             "#d8576b"
            ],
            [
             0.6666666666666666,
             "#ed7953"
            ],
            [
             0.7777777777777778,
             "#fb9f3a"
            ],
            [
             0.8888888888888888,
             "#fdca26"
            ],
            [
             1.0,
             "#f0f921"
            ]
           ],
           "diverging": [
            [
             0,
             "#8e0152"
            ],
            [
             0.1,
             "#c51b7d"
            ],
            [
             0.2,
             "#de77ae"
            ],
            [
             0.3,
             "#f1b6da"
            ],
            [
             0.4,
             "#fde0ef"
            ],
            [
             0.5,
             "#f7f7f7"
            ],
            [
             0.6,
             "#e6f5d0"
            ],
            [
             0.7,
             "#b8e186"
            ],
            [
             0.8,
             "#7fbc41"
            ],
            [
             0.9,
             "#4d9221"
            ],
            [
             1,
             "#276419"
            ]
           ]
          },
          "xaxis": {
           "gridcolor": "#283442",
           "linecolor": "#506784",
           "ticks": "",
           "title": {
            "standoff": 15
           },
           "zerolinecolor": "#283442",
           "automargin": true,
           "zerolinewidth": 2
          },
          "yaxis": {
           "gridcolor": "#283442",
           "linecolor": "#506784",
           "ticks": "",
           "title": {
            "standoff": 15
           },
           "zerolinecolor": "#283442",
           "automargin": true,
           "zerolinewidth": 2
          },
          "scene": {
           "xaxis": {
            "backgroundcolor": "rgb(17,17,17)",
            "gridcolor": "#506784",
            "linecolor": "#506784",
            "showbackground": true,
            "ticks": "",
            "zerolinecolor": "#C8D4E3",
            "gridwidth": 2
           },
           "yaxis": {
            "backgroundcolor": "rgb(17,17,17)",
            "gridcolor": "#506784",
            "linecolor": "#506784",
            "showbackground": true,
            "ticks": "",
            "zerolinecolor": "#C8D4E3",
            "gridwidth": 2
           },
           "zaxis": {
            "backgroundcolor": "rgb(17,17,17)",
            "gridcolor": "#506784",
            "linecolor": "#506784",
            "showbackground": true,
            "ticks": "",
            "zerolinecolor": "#C8D4E3",
            "gridwidth": 2
           }
          },
          "shapedefaults": {
           "line": {
            "color": "#f2f5fa"
           }
          },
          "annotationdefaults": {
           "arrowcolor": "#f2f5fa",
           "arrowhead": 0,
           "arrowwidth": 1
          },
          "geo": {
           "bgcolor": "rgb(17,17,17)",
           "landcolor": "rgb(17,17,17)",
           "subunitcolor": "#506784",
           "showland": true,
           "showlakes": true,
           "lakecolor": "rgb(17,17,17)"
          },
          "title": {
           "x": 0.05
          },
          "updatemenudefaults": {
           "bgcolor": "#506784",
           "borderwidth": 0
          },
          "sliderdefaults": {
           "bgcolor": "#C8D4E3",
           "borderwidth": 1,
           "bordercolor": "rgb(17,17,17)",
           "tickwidth": 0
          },
          "mapbox": {
           "style": "dark"
          }
         }
        },
        "legend": {
         "tracegroupgap": 0
        },
        "title": {
         "text": "Overall Gender Distribution",
         "font": {
          "size": 20,
          "color": "#00ced1"
         },
         "x": 0.5
        },
        "piecolorway": [
         "#ff4500",
         "#00ced1",
         "#ff69b4",
         "#7fff00",
         "#ffd700"
        ],
        "height": 400,
        "width": 500
       },
       "config": {
        "plotlyServerURL": "https://plot.ly"
       }
      }
     },
     "metadata": {},
     "output_type": "display_data"
    }
   ],
   "execution_count": 240
  },
  {
   "metadata": {
    "ExecuteTime": {
     "end_time": "2025-08-08T08:53:53.083926Z",
     "start_time": "2025-08-08T08:53:53.075802Z"
    }
   },
   "cell_type": "code",
   "source": [
    "gender_table = gender_attendance.pivot(index='Gender', columns='Attendance', values='count of gender').fillna(0)\n",
    "gender_table['Total'] = gender_table.sum(axis=1)"
   ],
   "outputs": [],
   "execution_count": 241
  },
  {
   "metadata": {},
   "cell_type": "markdown",
   "source": "#### attendance Vs Age"
  },
  {
   "metadata": {
    "ExecuteTime": {
     "end_time": "2025-08-08T08:53:53.106537Z",
     "start_time": "2025-08-08T08:53:53.094080Z"
    }
   },
   "cell_type": "code",
   "source": [
    "age =age_attendance.groupby('Age').size().reset_index(name = 'Attendance')\n",
    "age"
   ],
   "outputs": [
    {
     "data": {
      "text/plain": [
       "    Age  Attendance\n",
       "0     1           2\n",
       "1     2           2\n",
       "2     3           2\n",
       "3     4           2\n",
       "4     5           2\n",
       "..  ...         ...\n",
       "95   96           2\n",
       "96   97           2\n",
       "97   98           2\n",
       "98   99           1\n",
       "99  100           1\n",
       "\n",
       "[100 rows x 2 columns]"
      ],
      "text/html": [
       "<div>\n",
       "<style scoped>\n",
       "    .dataframe tbody tr th:only-of-type {\n",
       "        vertical-align: middle;\n",
       "    }\n",
       "\n",
       "    .dataframe tbody tr th {\n",
       "        vertical-align: top;\n",
       "    }\n",
       "\n",
       "    .dataframe thead th {\n",
       "        text-align: right;\n",
       "    }\n",
       "</style>\n",
       "<table border=\"1\" class=\"dataframe\">\n",
       "  <thead>\n",
       "    <tr style=\"text-align: right;\">\n",
       "      <th></th>\n",
       "      <th>Age</th>\n",
       "      <th>Attendance</th>\n",
       "    </tr>\n",
       "  </thead>\n",
       "  <tbody>\n",
       "    <tr>\n",
       "      <th>0</th>\n",
       "      <td>1</td>\n",
       "      <td>2</td>\n",
       "    </tr>\n",
       "    <tr>\n",
       "      <th>1</th>\n",
       "      <td>2</td>\n",
       "      <td>2</td>\n",
       "    </tr>\n",
       "    <tr>\n",
       "      <th>2</th>\n",
       "      <td>3</td>\n",
       "      <td>2</td>\n",
       "    </tr>\n",
       "    <tr>\n",
       "      <th>3</th>\n",
       "      <td>4</td>\n",
       "      <td>2</td>\n",
       "    </tr>\n",
       "    <tr>\n",
       "      <th>4</th>\n",
       "      <td>5</td>\n",
       "      <td>2</td>\n",
       "    </tr>\n",
       "    <tr>\n",
       "      <th>...</th>\n",
       "      <td>...</td>\n",
       "      <td>...</td>\n",
       "    </tr>\n",
       "    <tr>\n",
       "      <th>95</th>\n",
       "      <td>96</td>\n",
       "      <td>2</td>\n",
       "    </tr>\n",
       "    <tr>\n",
       "      <th>96</th>\n",
       "      <td>97</td>\n",
       "      <td>2</td>\n",
       "    </tr>\n",
       "    <tr>\n",
       "      <th>97</th>\n",
       "      <td>98</td>\n",
       "      <td>2</td>\n",
       "    </tr>\n",
       "    <tr>\n",
       "      <th>98</th>\n",
       "      <td>99</td>\n",
       "      <td>1</td>\n",
       "    </tr>\n",
       "    <tr>\n",
       "      <th>99</th>\n",
       "      <td>100</td>\n",
       "      <td>1</td>\n",
       "    </tr>\n",
       "  </tbody>\n",
       "</table>\n",
       "<p>100 rows × 2 columns</p>\n",
       "</div>"
      ]
     },
     "execution_count": 242,
     "metadata": {},
     "output_type": "execute_result"
    }
   ],
   "execution_count": 242
  },
  {
   "metadata": {
    "ExecuteTime": {
     "end_time": "2025-08-08T08:53:53.182601Z",
     "start_time": "2025-08-08T08:53:53.125173Z"
    }
   },
   "cell_type": "code",
   "source": [
    "fig_age = px.bar(age_attendance,\n",
    "             x='Age',\n",
    "             y='Count',\n",
    "             color='Attendance',\n",
    "             barmode='group',\n",
    "             title='Attendance vs Age ',\n",
    "             color_discrete_sequence=colors_age_gender,\n",
    "             template=template_style\n",
    ")\n",
    "fig_age.update_layout(\n",
    "    height=450,\n",
    "    title_font=dict(size=20, color=colors_age_gender[2]),\n",
    "    title_x=0.5\n",
    ")"
   ],
   "outputs": [
    {
     "data": {
      "application/vnd.plotly.v1+json": {
       "data": [
        {
         "alignmentgroup": "True",
         "hovertemplate": "Attendance=No<br>Age=%{x}<br>Count=%{y}<extra></extra>",
         "legendgroup": "No",
         "marker": {
          "color": "#ff4500",
          "pattern": {
           "shape": ""
          }
         },
         "name": "No",
         "offsetgroup": "No",
         "orientation": "v",
         "showlegend": true,
         "textposition": "auto",
         "x": {
          "dtype": "i1",
          "bdata": "AQIDBAUGBwgJCgsMDQ4PEBESExQVFhcYGRobHB0eHyAhIiMkJSYnKCkqKywtLi8wMTIzNDU2Nzg5Ojs8PT4/QEFCQ0RFRkdISUpLTE1OT1BRUlNUVVZXWFlaW1xdXl9gYWI="
         },
         "xaxis": "x",
         "y": {
          "dtype": "i2",
          "bdata": "nwH8ABUBGgFAATwBLQE+AWwBMAH3ABABLwE8AUIBYQGMAV4BigFjAWMBXwFXAUEBYAE4AUkBTAFKAXEBQAFLAVwBQgEhAVgBPQFAAVQBLQE0AQkBNQFDAf8AGwELAQ8BKgEjARsBKQE/AQwBAQEHARYB/QALAewAyADUALMAtgCnALMAlACpAHYAXgB5AGUAYABZAFEAWwBPAFkAPQBRAD8AQgA9ACMAMQAqABsADAAdABcADQAUAAoABgAGAAEAAgABAA=="
         },
         "yaxis": "y",
         "type": "bar"
        },
        {
         "alignmentgroup": "True",
         "hovertemplate": "Attendance=Yes<br>Age=%{x}<br>Count=%{y}<extra></extra>",
         "legendgroup": "Yes",
         "marker": {
          "color": "#00ced1",
          "pattern": {
           "shape": ""
          }
         },
         "name": "Yes",
         "offsetgroup": "Yes",
         "orientation": "v",
         "showlegend": true,
         "textposition": "auto",
         "x": {
          "dtype": "i1",
          "bdata": "AQIDBAUGBwgJCgsMDQ4PEBESExQVFhcYGRobHB0eHyAhIiMkJSYnKCkqKywtLi8wMTIzNDU2Nzg5Ojs8PT4/QEFCQ0RFRkdISUpLTE1OT1BRUlNUVVZXWFlaW1xdXl9gYWJjZA=="
         },
         "xaxis": "x",
         "y": {
          "dtype": "i2",
          "bdata": "QgdWBdQE+QORBLUEZgRSBPADygO0AzQDIAMiA3kDGQRZBHEEfwQ6BEkEAQTuA5kD1APLAxgEXAQxBIAEXwSWBJgEtARBBNQEwAQdBawETQQOBO8DCwSMBK4EmQRnBGgESgUqBQQFqQU0Be4EkARcBS0FwARNBZcEdwRMBKsEfQSmA/ADOQNLA8oCdgI+AgICdQIBAs8B4AHAAcQBSQGuAXMBRgHbABQB4gDaAJ0AcgCQAFYANQBCACsAGwASABAACQAFAAEABAA="
         },
         "yaxis": "y",
         "type": "bar"
        }
       ],
       "layout": {
        "template": {
         "data": {
          "histogram2dcontour": [
           {
            "type": "histogram2dcontour",
            "colorbar": {
             "outlinewidth": 0,
             "ticks": ""
            },
            "colorscale": [
             [
              0.0,
              "#0d0887"
             ],
             [
              0.1111111111111111,
              "#46039f"
             ],
             [
              0.2222222222222222,
              "#7201a8"
             ],
             [
              0.3333333333333333,
              "#9c179e"
             ],
             [
              0.4444444444444444,
              "#bd3786"
             ],
             [
              0.5555555555555556,
              "#d8576b"
             ],
             [
              0.6666666666666666,
              "#ed7953"
             ],
             [
              0.7777777777777778,
              "#fb9f3a"
             ],
             [
              0.8888888888888888,
              "#fdca26"
             ],
             [
              1.0,
              "#f0f921"
             ]
            ]
           }
          ],
          "choropleth": [
           {
            "type": "choropleth",
            "colorbar": {
             "outlinewidth": 0,
             "ticks": ""
            }
           }
          ],
          "histogram2d": [
           {
            "type": "histogram2d",
            "colorbar": {
             "outlinewidth": 0,
             "ticks": ""
            },
            "colorscale": [
             [
              0.0,
              "#0d0887"
             ],
             [
              0.1111111111111111,
              "#46039f"
             ],
             [
              0.2222222222222222,
              "#7201a8"
             ],
             [
              0.3333333333333333,
              "#9c179e"
             ],
             [
              0.4444444444444444,
              "#bd3786"
             ],
             [
              0.5555555555555556,
              "#d8576b"
             ],
             [
              0.6666666666666666,
              "#ed7953"
             ],
             [
              0.7777777777777778,
              "#fb9f3a"
             ],
             [
              0.8888888888888888,
              "#fdca26"
             ],
             [
              1.0,
              "#f0f921"
             ]
            ]
           }
          ],
          "heatmap": [
           {
            "type": "heatmap",
            "colorbar": {
             "outlinewidth": 0,
             "ticks": ""
            },
            "colorscale": [
             [
              0.0,
              "#0d0887"
             ],
             [
              0.1111111111111111,
              "#46039f"
             ],
             [
              0.2222222222222222,
              "#7201a8"
             ],
             [
              0.3333333333333333,
              "#9c179e"
             ],
             [
              0.4444444444444444,
              "#bd3786"
             ],
             [
              0.5555555555555556,
              "#d8576b"
             ],
             [
              0.6666666666666666,
              "#ed7953"
             ],
             [
              0.7777777777777778,
              "#fb9f3a"
             ],
             [
              0.8888888888888888,
              "#fdca26"
             ],
             [
              1.0,
              "#f0f921"
             ]
            ]
           }
          ],
          "contourcarpet": [
           {
            "type": "contourcarpet",
            "colorbar": {
             "outlinewidth": 0,
             "ticks": ""
            }
           }
          ],
          "contour": [
           {
            "type": "contour",
            "colorbar": {
             "outlinewidth": 0,
             "ticks": ""
            },
            "colorscale": [
             [
              0.0,
              "#0d0887"
             ],
             [
              0.1111111111111111,
              "#46039f"
             ],
             [
              0.2222222222222222,
              "#7201a8"
             ],
             [
              0.3333333333333333,
              "#9c179e"
             ],
             [
              0.4444444444444444,
              "#bd3786"
             ],
             [
              0.5555555555555556,
              "#d8576b"
             ],
             [
              0.6666666666666666,
              "#ed7953"
             ],
             [
              0.7777777777777778,
              "#fb9f3a"
             ],
             [
              0.8888888888888888,
              "#fdca26"
             ],
             [
              1.0,
              "#f0f921"
             ]
            ]
           }
          ],
          "surface": [
           {
            "type": "surface",
            "colorbar": {
             "outlinewidth": 0,
             "ticks": ""
            },
            "colorscale": [
             [
              0.0,
              "#0d0887"
             ],
             [
              0.1111111111111111,
              "#46039f"
             ],
             [
              0.2222222222222222,
              "#7201a8"
             ],
             [
              0.3333333333333333,
              "#9c179e"
             ],
             [
              0.4444444444444444,
              "#bd3786"
             ],
             [
              0.5555555555555556,
              "#d8576b"
             ],
             [
              0.6666666666666666,
              "#ed7953"
             ],
             [
              0.7777777777777778,
              "#fb9f3a"
             ],
             [
              0.8888888888888888,
              "#fdca26"
             ],
             [
              1.0,
              "#f0f921"
             ]
            ]
           }
          ],
          "mesh3d": [
           {
            "type": "mesh3d",
            "colorbar": {
             "outlinewidth": 0,
             "ticks": ""
            }
           }
          ],
          "scatter": [
           {
            "marker": {
             "line": {
              "color": "#283442"
             }
            },
            "type": "scatter"
           }
          ],
          "parcoords": [
           {
            "type": "parcoords",
            "line": {
             "colorbar": {
              "outlinewidth": 0,
              "ticks": ""
             }
            }
           }
          ],
          "scatterpolargl": [
           {
            "type": "scatterpolargl",
            "marker": {
             "colorbar": {
              "outlinewidth": 0,
              "ticks": ""
             }
            }
           }
          ],
          "bar": [
           {
            "error_x": {
             "color": "#f2f5fa"
            },
            "error_y": {
             "color": "#f2f5fa"
            },
            "marker": {
             "line": {
              "color": "rgb(17,17,17)",
              "width": 0.5
             },
             "pattern": {
              "fillmode": "overlay",
              "size": 10,
              "solidity": 0.2
             }
            },
            "type": "bar"
           }
          ],
          "scattergeo": [
           {
            "type": "scattergeo",
            "marker": {
             "colorbar": {
              "outlinewidth": 0,
              "ticks": ""
             }
            }
           }
          ],
          "scatterpolar": [
           {
            "type": "scatterpolar",
            "marker": {
             "colorbar": {
              "outlinewidth": 0,
              "ticks": ""
             }
            }
           }
          ],
          "histogram": [
           {
            "marker": {
             "pattern": {
              "fillmode": "overlay",
              "size": 10,
              "solidity": 0.2
             }
            },
            "type": "histogram"
           }
          ],
          "scattergl": [
           {
            "marker": {
             "line": {
              "color": "#283442"
             }
            },
            "type": "scattergl"
           }
          ],
          "scatter3d": [
           {
            "type": "scatter3d",
            "line": {
             "colorbar": {
              "outlinewidth": 0,
              "ticks": ""
             }
            },
            "marker": {
             "colorbar": {
              "outlinewidth": 0,
              "ticks": ""
             }
            }
           }
          ],
          "scattermap": [
           {
            "type": "scattermap",
            "marker": {
             "colorbar": {
              "outlinewidth": 0,
              "ticks": ""
             }
            }
           }
          ],
          "scattermapbox": [
           {
            "type": "scattermapbox",
            "marker": {
             "colorbar": {
              "outlinewidth": 0,
              "ticks": ""
             }
            }
           }
          ],
          "scatterternary": [
           {
            "type": "scatterternary",
            "marker": {
             "colorbar": {
              "outlinewidth": 0,
              "ticks": ""
             }
            }
           }
          ],
          "scattercarpet": [
           {
            "type": "scattercarpet",
            "marker": {
             "colorbar": {
              "outlinewidth": 0,
              "ticks": ""
             }
            }
           }
          ],
          "carpet": [
           {
            "aaxis": {
             "endlinecolor": "#A2B1C6",
             "gridcolor": "#506784",
             "linecolor": "#506784",
             "minorgridcolor": "#506784",
             "startlinecolor": "#A2B1C6"
            },
            "baxis": {
             "endlinecolor": "#A2B1C6",
             "gridcolor": "#506784",
             "linecolor": "#506784",
             "minorgridcolor": "#506784",
             "startlinecolor": "#A2B1C6"
            },
            "type": "carpet"
           }
          ],
          "table": [
           {
            "cells": {
             "fill": {
              "color": "#506784"
             },
             "line": {
              "color": "rgb(17,17,17)"
             }
            },
            "header": {
             "fill": {
              "color": "#2a3f5f"
             },
             "line": {
              "color": "rgb(17,17,17)"
             }
            },
            "type": "table"
           }
          ],
          "barpolar": [
           {
            "marker": {
             "line": {
              "color": "rgb(17,17,17)",
              "width": 0.5
             },
             "pattern": {
              "fillmode": "overlay",
              "size": 10,
              "solidity": 0.2
             }
            },
            "type": "barpolar"
           }
          ],
          "pie": [
           {
            "automargin": true,
            "type": "pie"
           }
          ]
         },
         "layout": {
          "autotypenumbers": "strict",
          "colorway": [
           "#636efa",
           "#EF553B",
           "#00cc96",
           "#ab63fa",
           "#FFA15A",
           "#19d3f3",
           "#FF6692",
           "#B6E880",
           "#FF97FF",
           "#FECB52"
          ],
          "font": {
           "color": "#f2f5fa"
          },
          "hovermode": "closest",
          "hoverlabel": {
           "align": "left"
          },
          "paper_bgcolor": "rgb(17,17,17)",
          "plot_bgcolor": "rgb(17,17,17)",
          "polar": {
           "bgcolor": "rgb(17,17,17)",
           "angularaxis": {
            "gridcolor": "#506784",
            "linecolor": "#506784",
            "ticks": ""
           },
           "radialaxis": {
            "gridcolor": "#506784",
            "linecolor": "#506784",
            "ticks": ""
           }
          },
          "ternary": {
           "bgcolor": "rgb(17,17,17)",
           "aaxis": {
            "gridcolor": "#506784",
            "linecolor": "#506784",
            "ticks": ""
           },
           "baxis": {
            "gridcolor": "#506784",
            "linecolor": "#506784",
            "ticks": ""
           },
           "caxis": {
            "gridcolor": "#506784",
            "linecolor": "#506784",
            "ticks": ""
           }
          },
          "coloraxis": {
           "colorbar": {
            "outlinewidth": 0,
            "ticks": ""
           }
          },
          "colorscale": {
           "sequential": [
            [
             0.0,
             "#0d0887"
            ],
            [
             0.1111111111111111,
             "#46039f"
            ],
            [
             0.2222222222222222,
             "#7201a8"
            ],
            [
             0.3333333333333333,
             "#9c179e"
            ],
            [
             0.4444444444444444,
             "#bd3786"
            ],
            [
             0.5555555555555556,
             "#d8576b"
            ],
            [
             0.6666666666666666,
             "#ed7953"
            ],
            [
             0.7777777777777778,
             "#fb9f3a"
            ],
            [
             0.8888888888888888,
             "#fdca26"
            ],
            [
             1.0,
             "#f0f921"
            ]
           ],
           "sequentialminus": [
            [
             0.0,
             "#0d0887"
            ],
            [
             0.1111111111111111,
             "#46039f"
            ],
            [
             0.2222222222222222,
             "#7201a8"
            ],
            [
             0.3333333333333333,
             "#9c179e"
            ],
            [
             0.4444444444444444,
             "#bd3786"
            ],
            [
             0.5555555555555556,
             "#d8576b"
            ],
            [
             0.6666666666666666,
             "#ed7953"
            ],
            [
             0.7777777777777778,
             "#fb9f3a"
            ],
            [
             0.8888888888888888,
             "#fdca26"
            ],
            [
             1.0,
             "#f0f921"
            ]
           ],
           "diverging": [
            [
             0,
             "#8e0152"
            ],
            [
             0.1,
             "#c51b7d"
            ],
            [
             0.2,
             "#de77ae"
            ],
            [
             0.3,
             "#f1b6da"
            ],
            [
             0.4,
             "#fde0ef"
            ],
            [
             0.5,
             "#f7f7f7"
            ],
            [
             0.6,
             "#e6f5d0"
            ],
            [
             0.7,
             "#b8e186"
            ],
            [
             0.8,
             "#7fbc41"
            ],
            [
             0.9,
             "#4d9221"
            ],
            [
             1,
             "#276419"
            ]
           ]
          },
          "xaxis": {
           "gridcolor": "#283442",
           "linecolor": "#506784",
           "ticks": "",
           "title": {
            "standoff": 15
           },
           "zerolinecolor": "#283442",
           "automargin": true,
           "zerolinewidth": 2
          },
          "yaxis": {
           "gridcolor": "#283442",
           "linecolor": "#506784",
           "ticks": "",
           "title": {
            "standoff": 15
           },
           "zerolinecolor": "#283442",
           "automargin": true,
           "zerolinewidth": 2
          },
          "scene": {
           "xaxis": {
            "backgroundcolor": "rgb(17,17,17)",
            "gridcolor": "#506784",
            "linecolor": "#506784",
            "showbackground": true,
            "ticks": "",
            "zerolinecolor": "#C8D4E3",
            "gridwidth": 2
           },
           "yaxis": {
            "backgroundcolor": "rgb(17,17,17)",
            "gridcolor": "#506784",
            "linecolor": "#506784",
            "showbackground": true,
            "ticks": "",
            "zerolinecolor": "#C8D4E3",
            "gridwidth": 2
           },
           "zaxis": {
            "backgroundcolor": "rgb(17,17,17)",
            "gridcolor": "#506784",
            "linecolor": "#506784",
            "showbackground": true,
            "ticks": "",
            "zerolinecolor": "#C8D4E3",
            "gridwidth": 2
           }
          },
          "shapedefaults": {
           "line": {
            "color": "#f2f5fa"
           }
          },
          "annotationdefaults": {
           "arrowcolor": "#f2f5fa",
           "arrowhead": 0,
           "arrowwidth": 1
          },
          "geo": {
           "bgcolor": "rgb(17,17,17)",
           "landcolor": "rgb(17,17,17)",
           "subunitcolor": "#506784",
           "showland": true,
           "showlakes": true,
           "lakecolor": "rgb(17,17,17)"
          },
          "title": {
           "x": 0.05
          },
          "updatemenudefaults": {
           "bgcolor": "#506784",
           "borderwidth": 0
          },
          "sliderdefaults": {
           "bgcolor": "#C8D4E3",
           "borderwidth": 1,
           "bordercolor": "rgb(17,17,17)",
           "tickwidth": 0
          },
          "mapbox": {
           "style": "dark"
          }
         }
        },
        "xaxis": {
         "anchor": "y",
         "domain": [
          0.0,
          1.0
         ],
         "title": {
          "text": "Age"
         }
        },
        "yaxis": {
         "anchor": "x",
         "domain": [
          0.0,
          1.0
         ],
         "title": {
          "text": "Count"
         }
        },
        "legend": {
         "title": {
          "text": "Attendance"
         },
         "tracegroupgap": 0
        },
        "title": {
         "text": "Attendance vs Age ",
         "font": {
          "size": 20,
          "color": "#ff69b4"
         },
         "x": 0.5
        },
        "barmode": "group",
        "height": 450
       },
       "config": {
        "plotlyServerURL": "https://plot.ly"
       }
      }
     },
     "metadata": {},
     "output_type": "display_data"
    }
   ],
   "execution_count": 243
  },
  {
   "metadata": {},
   "cell_type": "markdown",
   "source": "#### Attendance Per Disease"
  },
  {
   "metadata": {
    "ExecuteTime": {
     "end_time": "2025-08-08T08:53:53.278460Z",
     "start_time": "2025-08-08T08:53:53.218290Z"
    }
   },
   "cell_type": "code",
   "source": [
    "attendance_per_disease = df.groupby(\n",
    "    ['Hipertension', 'Diabetes', 'Alcoholism', 'Handicap', 'Attendance']\n",
    ").size().reset_index(name='Count')\n",
    "attendance_per_disease"
   ],
   "outputs": [
    {
     "data": {
      "text/plain": [
       "    Hipertension  Diabetes  Alcoholism  Handicap Attendance  Count\n",
       "0              0         0           0         0         No  16964\n",
       "1              0         0           0         0        Yes  63610\n",
       "2              0         0           0         1         No    216\n",
       "3              0         0           0         1        Yes    867\n",
       "4              0         0           0         2         No     13\n",
       "5              0         0           0         2        Yes     84\n",
       "6              0         0           0         3         No      2\n",
       "7              0         0           0         3        Yes      7\n",
       "8              0         0           0         4         No      1\n",
       "9              0         0           0         4        Yes      2\n",
       "10             0         0           1         0         No    416\n",
       "11             0         0           1         0        Yes   1506\n",
       "12             0         0           1         1         No      3\n",
       "13             0         0           1         1        Yes     28\n",
       "14             0         0           1         2         No      1\n",
       "15             0         0           1         3        Yes      3\n",
       "16             0         1           0         0         No    273\n",
       "17             0         1           0         0        Yes   1068\n",
       "18             0         1           0         1         No      3\n",
       "19             0         1           0         1        Yes     36\n",
       "20             0         1           0         2        Yes      1\n",
       "21             0         1           1         0         No     12\n",
       "22             0         1           1         0        Yes     63\n",
       "23             0         1           1         1         No      1\n",
       "24             1         0           0         0         No   2325\n",
       "25             1         0           0         0        Yes  11337\n",
       "26             1         0           0         1         No     92\n",
       "27             1         0           0         1        Yes    449\n",
       "28             1         0           0         2         No     15\n",
       "29             1         0           0         2        Yes     24\n",
       "30             1         0           0         3         No      1\n",
       "31             1         0           1         0         No    197\n",
       "32             1         0           1         0        Yes    845\n",
       "33             1         0           1         1         No      1\n",
       "34             1         0           1         1        Yes     25\n",
       "35             1         0           1         2        Yes      3\n",
       "36             1         1           0         0         No   1044\n",
       "37             1         1           0         0        Yes   4841\n",
       "38             1         1           0         1         No     44\n",
       "39             1         1           0         1        Yes    260\n",
       "40             1         1           0         2         No      7\n",
       "41             1         1           0         2        Yes     34\n",
       "42             1         1           1         0         No     42\n",
       "43             1         1           1         0        Yes    201\n",
       "44             1         1           1         1         No      3\n",
       "45             1         1           1         1        Yes      9\n",
       "46             1         1           1         2         No      1"
      ],
      "text/html": [
       "<div>\n",
       "<style scoped>\n",
       "    .dataframe tbody tr th:only-of-type {\n",
       "        vertical-align: middle;\n",
       "    }\n",
       "\n",
       "    .dataframe tbody tr th {\n",
       "        vertical-align: top;\n",
       "    }\n",
       "\n",
       "    .dataframe thead th {\n",
       "        text-align: right;\n",
       "    }\n",
       "</style>\n",
       "<table border=\"1\" class=\"dataframe\">\n",
       "  <thead>\n",
       "    <tr style=\"text-align: right;\">\n",
       "      <th></th>\n",
       "      <th>Hipertension</th>\n",
       "      <th>Diabetes</th>\n",
       "      <th>Alcoholism</th>\n",
       "      <th>Handicap</th>\n",
       "      <th>Attendance</th>\n",
       "      <th>Count</th>\n",
       "    </tr>\n",
       "  </thead>\n",
       "  <tbody>\n",
       "    <tr>\n",
       "      <th>0</th>\n",
       "      <td>0</td>\n",
       "      <td>0</td>\n",
       "      <td>0</td>\n",
       "      <td>0</td>\n",
       "      <td>No</td>\n",
       "      <td>16964</td>\n",
       "    </tr>\n",
       "    <tr>\n",
       "      <th>1</th>\n",
       "      <td>0</td>\n",
       "      <td>0</td>\n",
       "      <td>0</td>\n",
       "      <td>0</td>\n",
       "      <td>Yes</td>\n",
       "      <td>63610</td>\n",
       "    </tr>\n",
       "    <tr>\n",
       "      <th>2</th>\n",
       "      <td>0</td>\n",
       "      <td>0</td>\n",
       "      <td>0</td>\n",
       "      <td>1</td>\n",
       "      <td>No</td>\n",
       "      <td>216</td>\n",
       "    </tr>\n",
       "    <tr>\n",
       "      <th>3</th>\n",
       "      <td>0</td>\n",
       "      <td>0</td>\n",
       "      <td>0</td>\n",
       "      <td>1</td>\n",
       "      <td>Yes</td>\n",
       "      <td>867</td>\n",
       "    </tr>\n",
       "    <tr>\n",
       "      <th>4</th>\n",
       "      <td>0</td>\n",
       "      <td>0</td>\n",
       "      <td>0</td>\n",
       "      <td>2</td>\n",
       "      <td>No</td>\n",
       "      <td>13</td>\n",
       "    </tr>\n",
       "    <tr>\n",
       "      <th>5</th>\n",
       "      <td>0</td>\n",
       "      <td>0</td>\n",
       "      <td>0</td>\n",
       "      <td>2</td>\n",
       "      <td>Yes</td>\n",
       "      <td>84</td>\n",
       "    </tr>\n",
       "    <tr>\n",
       "      <th>6</th>\n",
       "      <td>0</td>\n",
       "      <td>0</td>\n",
       "      <td>0</td>\n",
       "      <td>3</td>\n",
       "      <td>No</td>\n",
       "      <td>2</td>\n",
       "    </tr>\n",
       "    <tr>\n",
       "      <th>7</th>\n",
       "      <td>0</td>\n",
       "      <td>0</td>\n",
       "      <td>0</td>\n",
       "      <td>3</td>\n",
       "      <td>Yes</td>\n",
       "      <td>7</td>\n",
       "    </tr>\n",
       "    <tr>\n",
       "      <th>8</th>\n",
       "      <td>0</td>\n",
       "      <td>0</td>\n",
       "      <td>0</td>\n",
       "      <td>4</td>\n",
       "      <td>No</td>\n",
       "      <td>1</td>\n",
       "    </tr>\n",
       "    <tr>\n",
       "      <th>9</th>\n",
       "      <td>0</td>\n",
       "      <td>0</td>\n",
       "      <td>0</td>\n",
       "      <td>4</td>\n",
       "      <td>Yes</td>\n",
       "      <td>2</td>\n",
       "    </tr>\n",
       "    <tr>\n",
       "      <th>10</th>\n",
       "      <td>0</td>\n",
       "      <td>0</td>\n",
       "      <td>1</td>\n",
       "      <td>0</td>\n",
       "      <td>No</td>\n",
       "      <td>416</td>\n",
       "    </tr>\n",
       "    <tr>\n",
       "      <th>11</th>\n",
       "      <td>0</td>\n",
       "      <td>0</td>\n",
       "      <td>1</td>\n",
       "      <td>0</td>\n",
       "      <td>Yes</td>\n",
       "      <td>1506</td>\n",
       "    </tr>\n",
       "    <tr>\n",
       "      <th>12</th>\n",
       "      <td>0</td>\n",
       "      <td>0</td>\n",
       "      <td>1</td>\n",
       "      <td>1</td>\n",
       "      <td>No</td>\n",
       "      <td>3</td>\n",
       "    </tr>\n",
       "    <tr>\n",
       "      <th>13</th>\n",
       "      <td>0</td>\n",
       "      <td>0</td>\n",
       "      <td>1</td>\n",
       "      <td>1</td>\n",
       "      <td>Yes</td>\n",
       "      <td>28</td>\n",
       "    </tr>\n",
       "    <tr>\n",
       "      <th>14</th>\n",
       "      <td>0</td>\n",
       "      <td>0</td>\n",
       "      <td>1</td>\n",
       "      <td>2</td>\n",
       "      <td>No</td>\n",
       "      <td>1</td>\n",
       "    </tr>\n",
       "    <tr>\n",
       "      <th>15</th>\n",
       "      <td>0</td>\n",
       "      <td>0</td>\n",
       "      <td>1</td>\n",
       "      <td>3</td>\n",
       "      <td>Yes</td>\n",
       "      <td>3</td>\n",
       "    </tr>\n",
       "    <tr>\n",
       "      <th>16</th>\n",
       "      <td>0</td>\n",
       "      <td>1</td>\n",
       "      <td>0</td>\n",
       "      <td>0</td>\n",
       "      <td>No</td>\n",
       "      <td>273</td>\n",
       "    </tr>\n",
       "    <tr>\n",
       "      <th>17</th>\n",
       "      <td>0</td>\n",
       "      <td>1</td>\n",
       "      <td>0</td>\n",
       "      <td>0</td>\n",
       "      <td>Yes</td>\n",
       "      <td>1068</td>\n",
       "    </tr>\n",
       "    <tr>\n",
       "      <th>18</th>\n",
       "      <td>0</td>\n",
       "      <td>1</td>\n",
       "      <td>0</td>\n",
       "      <td>1</td>\n",
       "      <td>No</td>\n",
       "      <td>3</td>\n",
       "    </tr>\n",
       "    <tr>\n",
       "      <th>19</th>\n",
       "      <td>0</td>\n",
       "      <td>1</td>\n",
       "      <td>0</td>\n",
       "      <td>1</td>\n",
       "      <td>Yes</td>\n",
       "      <td>36</td>\n",
       "    </tr>\n",
       "    <tr>\n",
       "      <th>20</th>\n",
       "      <td>0</td>\n",
       "      <td>1</td>\n",
       "      <td>0</td>\n",
       "      <td>2</td>\n",
       "      <td>Yes</td>\n",
       "      <td>1</td>\n",
       "    </tr>\n",
       "    <tr>\n",
       "      <th>21</th>\n",
       "      <td>0</td>\n",
       "      <td>1</td>\n",
       "      <td>1</td>\n",
       "      <td>0</td>\n",
       "      <td>No</td>\n",
       "      <td>12</td>\n",
       "    </tr>\n",
       "    <tr>\n",
       "      <th>22</th>\n",
       "      <td>0</td>\n",
       "      <td>1</td>\n",
       "      <td>1</td>\n",
       "      <td>0</td>\n",
       "      <td>Yes</td>\n",
       "      <td>63</td>\n",
       "    </tr>\n",
       "    <tr>\n",
       "      <th>23</th>\n",
       "      <td>0</td>\n",
       "      <td>1</td>\n",
       "      <td>1</td>\n",
       "      <td>1</td>\n",
       "      <td>No</td>\n",
       "      <td>1</td>\n",
       "    </tr>\n",
       "    <tr>\n",
       "      <th>24</th>\n",
       "      <td>1</td>\n",
       "      <td>0</td>\n",
       "      <td>0</td>\n",
       "      <td>0</td>\n",
       "      <td>No</td>\n",
       "      <td>2325</td>\n",
       "    </tr>\n",
       "    <tr>\n",
       "      <th>25</th>\n",
       "      <td>1</td>\n",
       "      <td>0</td>\n",
       "      <td>0</td>\n",
       "      <td>0</td>\n",
       "      <td>Yes</td>\n",
       "      <td>11337</td>\n",
       "    </tr>\n",
       "    <tr>\n",
       "      <th>26</th>\n",
       "      <td>1</td>\n",
       "      <td>0</td>\n",
       "      <td>0</td>\n",
       "      <td>1</td>\n",
       "      <td>No</td>\n",
       "      <td>92</td>\n",
       "    </tr>\n",
       "    <tr>\n",
       "      <th>27</th>\n",
       "      <td>1</td>\n",
       "      <td>0</td>\n",
       "      <td>0</td>\n",
       "      <td>1</td>\n",
       "      <td>Yes</td>\n",
       "      <td>449</td>\n",
       "    </tr>\n",
       "    <tr>\n",
       "      <th>28</th>\n",
       "      <td>1</td>\n",
       "      <td>0</td>\n",
       "      <td>0</td>\n",
       "      <td>2</td>\n",
       "      <td>No</td>\n",
       "      <td>15</td>\n",
       "    </tr>\n",
       "    <tr>\n",
       "      <th>29</th>\n",
       "      <td>1</td>\n",
       "      <td>0</td>\n",
       "      <td>0</td>\n",
       "      <td>2</td>\n",
       "      <td>Yes</td>\n",
       "      <td>24</td>\n",
       "    </tr>\n",
       "    <tr>\n",
       "      <th>30</th>\n",
       "      <td>1</td>\n",
       "      <td>0</td>\n",
       "      <td>0</td>\n",
       "      <td>3</td>\n",
       "      <td>No</td>\n",
       "      <td>1</td>\n",
       "    </tr>\n",
       "    <tr>\n",
       "      <th>31</th>\n",
       "      <td>1</td>\n",
       "      <td>0</td>\n",
       "      <td>1</td>\n",
       "      <td>0</td>\n",
       "      <td>No</td>\n",
       "      <td>197</td>\n",
       "    </tr>\n",
       "    <tr>\n",
       "      <th>32</th>\n",
       "      <td>1</td>\n",
       "      <td>0</td>\n",
       "      <td>1</td>\n",
       "      <td>0</td>\n",
       "      <td>Yes</td>\n",
       "      <td>845</td>\n",
       "    </tr>\n",
       "    <tr>\n",
       "      <th>33</th>\n",
       "      <td>1</td>\n",
       "      <td>0</td>\n",
       "      <td>1</td>\n",
       "      <td>1</td>\n",
       "      <td>No</td>\n",
       "      <td>1</td>\n",
       "    </tr>\n",
       "    <tr>\n",
       "      <th>34</th>\n",
       "      <td>1</td>\n",
       "      <td>0</td>\n",
       "      <td>1</td>\n",
       "      <td>1</td>\n",
       "      <td>Yes</td>\n",
       "      <td>25</td>\n",
       "    </tr>\n",
       "    <tr>\n",
       "      <th>35</th>\n",
       "      <td>1</td>\n",
       "      <td>0</td>\n",
       "      <td>1</td>\n",
       "      <td>2</td>\n",
       "      <td>Yes</td>\n",
       "      <td>3</td>\n",
       "    </tr>\n",
       "    <tr>\n",
       "      <th>36</th>\n",
       "      <td>1</td>\n",
       "      <td>1</td>\n",
       "      <td>0</td>\n",
       "      <td>0</td>\n",
       "      <td>No</td>\n",
       "      <td>1044</td>\n",
       "    </tr>\n",
       "    <tr>\n",
       "      <th>37</th>\n",
       "      <td>1</td>\n",
       "      <td>1</td>\n",
       "      <td>0</td>\n",
       "      <td>0</td>\n",
       "      <td>Yes</td>\n",
       "      <td>4841</td>\n",
       "    </tr>\n",
       "    <tr>\n",
       "      <th>38</th>\n",
       "      <td>1</td>\n",
       "      <td>1</td>\n",
       "      <td>0</td>\n",
       "      <td>1</td>\n",
       "      <td>No</td>\n",
       "      <td>44</td>\n",
       "    </tr>\n",
       "    <tr>\n",
       "      <th>39</th>\n",
       "      <td>1</td>\n",
       "      <td>1</td>\n",
       "      <td>0</td>\n",
       "      <td>1</td>\n",
       "      <td>Yes</td>\n",
       "      <td>260</td>\n",
       "    </tr>\n",
       "    <tr>\n",
       "      <th>40</th>\n",
       "      <td>1</td>\n",
       "      <td>1</td>\n",
       "      <td>0</td>\n",
       "      <td>2</td>\n",
       "      <td>No</td>\n",
       "      <td>7</td>\n",
       "    </tr>\n",
       "    <tr>\n",
       "      <th>41</th>\n",
       "      <td>1</td>\n",
       "      <td>1</td>\n",
       "      <td>0</td>\n",
       "      <td>2</td>\n",
       "      <td>Yes</td>\n",
       "      <td>34</td>\n",
       "    </tr>\n",
       "    <tr>\n",
       "      <th>42</th>\n",
       "      <td>1</td>\n",
       "      <td>1</td>\n",
       "      <td>1</td>\n",
       "      <td>0</td>\n",
       "      <td>No</td>\n",
       "      <td>42</td>\n",
       "    </tr>\n",
       "    <tr>\n",
       "      <th>43</th>\n",
       "      <td>1</td>\n",
       "      <td>1</td>\n",
       "      <td>1</td>\n",
       "      <td>0</td>\n",
       "      <td>Yes</td>\n",
       "      <td>201</td>\n",
       "    </tr>\n",
       "    <tr>\n",
       "      <th>44</th>\n",
       "      <td>1</td>\n",
       "      <td>1</td>\n",
       "      <td>1</td>\n",
       "      <td>1</td>\n",
       "      <td>No</td>\n",
       "      <td>3</td>\n",
       "    </tr>\n",
       "    <tr>\n",
       "      <th>45</th>\n",
       "      <td>1</td>\n",
       "      <td>1</td>\n",
       "      <td>1</td>\n",
       "      <td>1</td>\n",
       "      <td>Yes</td>\n",
       "      <td>9</td>\n",
       "    </tr>\n",
       "    <tr>\n",
       "      <th>46</th>\n",
       "      <td>1</td>\n",
       "      <td>1</td>\n",
       "      <td>1</td>\n",
       "      <td>2</td>\n",
       "      <td>No</td>\n",
       "      <td>1</td>\n",
       "    </tr>\n",
       "  </tbody>\n",
       "</table>\n",
       "</div>"
      ]
     },
     "execution_count": 244,
     "metadata": {},
     "output_type": "execute_result"
    }
   ],
   "execution_count": 244
  },
  {
   "metadata": {
    "ExecuteTime": {
     "end_time": "2025-08-08T08:53:53.325849Z",
     "start_time": "2025-08-08T08:53:53.312890Z"
    }
   },
   "cell_type": "code",
   "source": [
    "df_clean = attendance_per_disease.copy()\n",
    "\n",
    "df_clean['Hipertension'] = df_clean['Hipertension'].map({0: 'No Hypertension', 1: 'Has Hypertension'})\n",
    "df_clean['Diabetes'] = df_clean['Diabetes'].map({0: 'No Diabetes', 1: 'Has Diabetes'})\n",
    "df_clean['Alcoholism'] = df_clean['Alcoholism'].map({0: 'No Alcoholism', 1: 'Has Alcoholism'})\n",
    "df_clean['Handicap'] = df_clean['Handicap'].map({\n",
    "    0: 'No Handicap',\n",
    "    1: 'Mild Handicap',\n",
    "    2: 'Moderate Handicap',\n",
    "    3: 'Severe Handicap',\n",
    "    4: 'Very Severe Handicap'\n",
    "})"
   ],
   "outputs": [],
   "execution_count": 245
  },
  {
   "metadata": {
    "ExecuteTime": {
     "end_time": "2025-08-08T08:53:53.611413Z",
     "start_time": "2025-08-08T08:53:53.355976Z"
    }
   },
   "cell_type": "code",
   "source": [
    "fig_disease= px.sunburst(df_clean,\n",
    "                  path=['Attendance', 'Hipertension', 'Diabetes', 'Alcoholism', 'Handicap'],\n",
    "                  values='Count',\n",
    "                  title='Attendance vs No-show by Disease and Handicap',\n",
    "                  color='Count',\n",
    "                  color_continuous_scale='Blues',\n",
    "                  color_discrete_sequence=color_disease,\n",
    "                  template=template_style\n",
    ")\n",
    "fig_disease.update_layout(\n",
    "    height=450,\n",
    "    title_font=dict(size=20, color='#f15bb5'),\n",
    "    title_x=0.5\n",
    ")"
   ],
   "outputs": [
    {
     "data": {
      "application/vnd.plotly.v1+json": {
       "data": [
        {
         "branchvalues": "total",
         "customdata": {
          "dtype": "f8",
          "bdata": "AAAAAACR0EAAAAAAQA/vQAAAAAAAAGtAAAAAAAAYi0AAAAAAAAAqQAAAAAAAAFVAAAAAAAAAAEAAAAAAAAAcQAAAAAAAAPA/AAAAAAAAAEAAAAAAAAB6QAAAAAAAiJdAAAAAAAAACEAAAAAAAAA8QAAAAAAAAPA/AAAAAAAACEAAAAAAABBxQAAAAAAAsJBAAAAAAAAACEAAAAAAAABCQAAAAAAAAPA/AAAAAAAAKEAAAAAAAIBPQAAAAAAAAPA/AAAAAAAqokAAAAAAgCTGQAAAAAAAAFdAAAAAAAAQfEAAAAAAAAAuQAAAAAAAADhAAAAAAAAA8D8AAAAAAKBoQAAAAAAAaIpAAAAAAAAA8D8AAAAAAAA5QAAAAAAAAAhAAAAAAABQkEAAAAAAAOmyQAAAAAAAAEZAAAAAAABAcEAAAAAAAAAcQAAAAAAAAEFAAAAAAAAARUAAAAAAACBpQAAAAAAAAAhAAAAAAAAAIkAAAAAAAADwPyDtFp12WNBAIXIzyICa7kCQ/diP/cB5QPY8kpKQEJdAhixkIQvhcECTpuGSpiWQQOzETuzETiZAAAAAAACAT0Dc1JlKu2KhQNOW2RUISsVAS4Fav1KAaECwj6aI/pSJQBgfLUmBKY9AyGzm7jjhsUAtZCELWUhDQIuv+IqvGGhAby8Epk7uz0Dx4Lu0o+jtQKRnK++yJnBA+fHjx4+ojkCfcmp2STGgQKp2OzoR78NAv1mwdlP0jUBIezIi9jSxQDE6ug90bM9AyTUeV9Zl7UDoJ6OJix6bQL7VN4sXk8BAKiu95qaLykCJFch3gQ/oQA==",
          "shape": "77, 1"
         },
         "domain": {
          "x": [
           0.0,
           1.0
          ],
          "y": [
           0.0,
           1.0
          ]
         },
         "hovertemplate": "labels=%{label}<br>Count_sum=%{value}<br>parent=%{parent}<br>id=%{id}<br>Count=%{color}<extra></extra>",
         "ids": [
          "No/No Hypertension/No Diabetes/No Alcoholism/No Handicap",
          "Yes/No Hypertension/No Diabetes/No Alcoholism/No Handicap",
          "No/No Hypertension/No Diabetes/No Alcoholism/Mild Handicap",
          "Yes/No Hypertension/No Diabetes/No Alcoholism/Mild Handicap",
          "No/No Hypertension/No Diabetes/No Alcoholism/Moderate Handicap",
          "Yes/No Hypertension/No Diabetes/No Alcoholism/Moderate Handicap",
          "No/No Hypertension/No Diabetes/No Alcoholism/Severe Handicap",
          "Yes/No Hypertension/No Diabetes/No Alcoholism/Severe Handicap",
          "No/No Hypertension/No Diabetes/No Alcoholism/Very Severe Handicap",
          "Yes/No Hypertension/No Diabetes/No Alcoholism/Very Severe Handicap",
          "No/No Hypertension/No Diabetes/Has Alcoholism/No Handicap",
          "Yes/No Hypertension/No Diabetes/Has Alcoholism/No Handicap",
          "No/No Hypertension/No Diabetes/Has Alcoholism/Mild Handicap",
          "Yes/No Hypertension/No Diabetes/Has Alcoholism/Mild Handicap",
          "No/No Hypertension/No Diabetes/Has Alcoholism/Moderate Handicap",
          "Yes/No Hypertension/No Diabetes/Has Alcoholism/Severe Handicap",
          "No/No Hypertension/Has Diabetes/No Alcoholism/No Handicap",
          "Yes/No Hypertension/Has Diabetes/No Alcoholism/No Handicap",
          "No/No Hypertension/Has Diabetes/No Alcoholism/Mild Handicap",
          "Yes/No Hypertension/Has Diabetes/No Alcoholism/Mild Handicap",
          "Yes/No Hypertension/Has Diabetes/No Alcoholism/Moderate Handicap",
          "No/No Hypertension/Has Diabetes/Has Alcoholism/No Handicap",
          "Yes/No Hypertension/Has Diabetes/Has Alcoholism/No Handicap",
          "No/No Hypertension/Has Diabetes/Has Alcoholism/Mild Handicap",
          "No/Has Hypertension/No Diabetes/No Alcoholism/No Handicap",
          "Yes/Has Hypertension/No Diabetes/No Alcoholism/No Handicap",
          "No/Has Hypertension/No Diabetes/No Alcoholism/Mild Handicap",
          "Yes/Has Hypertension/No Diabetes/No Alcoholism/Mild Handicap",
          "No/Has Hypertension/No Diabetes/No Alcoholism/Moderate Handicap",
          "Yes/Has Hypertension/No Diabetes/No Alcoholism/Moderate Handicap",
          "No/Has Hypertension/No Diabetes/No Alcoholism/Severe Handicap",
          "No/Has Hypertension/No Diabetes/Has Alcoholism/No Handicap",
          "Yes/Has Hypertension/No Diabetes/Has Alcoholism/No Handicap",
          "No/Has Hypertension/No Diabetes/Has Alcoholism/Mild Handicap",
          "Yes/Has Hypertension/No Diabetes/Has Alcoholism/Mild Handicap",
          "Yes/Has Hypertension/No Diabetes/Has Alcoholism/Moderate Handicap",
          "No/Has Hypertension/Has Diabetes/No Alcoholism/No Handicap",
          "Yes/Has Hypertension/Has Diabetes/No Alcoholism/No Handicap",
          "No/Has Hypertension/Has Diabetes/No Alcoholism/Mild Handicap",
          "Yes/Has Hypertension/Has Diabetes/No Alcoholism/Mild Handicap",
          "No/Has Hypertension/Has Diabetes/No Alcoholism/Moderate Handicap",
          "Yes/Has Hypertension/Has Diabetes/No Alcoholism/Moderate Handicap",
          "No/Has Hypertension/Has Diabetes/Has Alcoholism/No Handicap",
          "Yes/Has Hypertension/Has Diabetes/Has Alcoholism/No Handicap",
          "No/Has Hypertension/Has Diabetes/Has Alcoholism/Mild Handicap",
          "Yes/Has Hypertension/Has Diabetes/Has Alcoholism/Mild Handicap",
          "No/Has Hypertension/Has Diabetes/Has Alcoholism/Moderate Handicap",
          "No/No Hypertension/No Diabetes/No Alcoholism",
          "Yes/No Hypertension/No Diabetes/No Alcoholism",
          "No/No Hypertension/No Diabetes/Has Alcoholism",
          "Yes/No Hypertension/No Diabetes/Has Alcoholism",
          "No/No Hypertension/Has Diabetes/No Alcoholism",
          "Yes/No Hypertension/Has Diabetes/No Alcoholism",
          "No/No Hypertension/Has Diabetes/Has Alcoholism",
          "Yes/No Hypertension/Has Diabetes/Has Alcoholism",
          "No/Has Hypertension/No Diabetes/No Alcoholism",
          "Yes/Has Hypertension/No Diabetes/No Alcoholism",
          "No/Has Hypertension/No Diabetes/Has Alcoholism",
          "Yes/Has Hypertension/No Diabetes/Has Alcoholism",
          "No/Has Hypertension/Has Diabetes/No Alcoholism",
          "Yes/Has Hypertension/Has Diabetes/No Alcoholism",
          "No/Has Hypertension/Has Diabetes/Has Alcoholism",
          "Yes/Has Hypertension/Has Diabetes/Has Alcoholism",
          "No/No Hypertension/No Diabetes",
          "Yes/No Hypertension/No Diabetes",
          "No/No Hypertension/Has Diabetes",
          "Yes/No Hypertension/Has Diabetes",
          "No/Has Hypertension/No Diabetes",
          "Yes/Has Hypertension/No Diabetes",
          "No/Has Hypertension/Has Diabetes",
          "Yes/Has Hypertension/Has Diabetes",
          "No/No Hypertension",
          "Yes/No Hypertension",
          "No/Has Hypertension",
          "Yes/Has Hypertension",
          "No",
          "Yes"
         ],
         "labels": [
          "No Handicap",
          "No Handicap",
          "Mild Handicap",
          "Mild Handicap",
          "Moderate Handicap",
          "Moderate Handicap",
          "Severe Handicap",
          "Severe Handicap",
          "Very Severe Handicap",
          "Very Severe Handicap",
          "No Handicap",
          "No Handicap",
          "Mild Handicap",
          "Mild Handicap",
          "Moderate Handicap",
          "Severe Handicap",
          "No Handicap",
          "No Handicap",
          "Mild Handicap",
          "Mild Handicap",
          "Moderate Handicap",
          "No Handicap",
          "No Handicap",
          "Mild Handicap",
          "No Handicap",
          "No Handicap",
          "Mild Handicap",
          "Mild Handicap",
          "Moderate Handicap",
          "Moderate Handicap",
          "Severe Handicap",
          "No Handicap",
          "No Handicap",
          "Mild Handicap",
          "Mild Handicap",
          "Moderate Handicap",
          "No Handicap",
          "No Handicap",
          "Mild Handicap",
          "Mild Handicap",
          "Moderate Handicap",
          "Moderate Handicap",
          "No Handicap",
          "No Handicap",
          "Mild Handicap",
          "Mild Handicap",
          "Moderate Handicap",
          "No Alcoholism",
          "No Alcoholism",
          "Has Alcoholism",
          "Has Alcoholism",
          "No Alcoholism",
          "No Alcoholism",
          "Has Alcoholism",
          "Has Alcoholism",
          "No Alcoholism",
          "No Alcoholism",
          "Has Alcoholism",
          "Has Alcoholism",
          "No Alcoholism",
          "No Alcoholism",
          "Has Alcoholism",
          "Has Alcoholism",
          "No Diabetes",
          "No Diabetes",
          "Has Diabetes",
          "Has Diabetes",
          "No Diabetes",
          "No Diabetes",
          "Has Diabetes",
          "Has Diabetes",
          "No Hypertension",
          "No Hypertension",
          "Has Hypertension",
          "Has Hypertension",
          "No",
          "Yes"
         ],
         "marker": {
          "coloraxis": "coloraxis",
          "colors": {
           "dtype": "f8",
           "bdata": "AAAAAACR0EAAAAAAQA/vQAAAAAAAAGtAAAAAAAAYi0AAAAAAAAAqQAAAAAAAAFVAAAAAAAAAAEAAAAAAAAAcQAAAAAAAAPA/AAAAAAAAAEAAAAAAAAB6QAAAAAAAiJdAAAAAAAAACEAAAAAAAAA8QAAAAAAAAPA/AAAAAAAACEAAAAAAABBxQAAAAAAAsJBAAAAAAAAACEAAAAAAAABCQAAAAAAAAPA/AAAAAAAAKEAAAAAAAIBPQAAAAAAAAPA/AAAAAAAqokAAAAAAgCTGQAAAAAAAAFdAAAAAAAAQfEAAAAAAAAAuQAAAAAAAADhAAAAAAAAA8D8AAAAAAKBoQAAAAAAAaIpAAAAAAAAA8D8AAAAAAAA5QAAAAAAAAAhAAAAAAABQkEAAAAAAAOmyQAAAAAAAAEZAAAAAAABAcEAAAAAAAAAcQAAAAAAAAEFAAAAAAAAARUAAAAAAACBpQAAAAAAAAAhAAAAAAAAAIkAAAAAAAADwPyDtFp12WNBAIXIzyICa7kCQ/diP/cB5QPY8kpKQEJdAhixkIQvhcECTpuGSpiWQQOzETuzETiZAAAAAAACAT0Dc1JlKu2KhQNOW2RUISsVAS4Fav1KAaECwj6aI/pSJQBgfLUmBKY9AyGzm7jjhsUAtZCELWUhDQIuv+IqvGGhAby8Epk7uz0Dx4Lu0o+jtQKRnK++yJnBA+fHjx4+ojkCfcmp2STGgQKp2OzoR78NAv1mwdlP0jUBIezIi9jSxQDE6ug90bM9AyTUeV9Zl7UDoJ6OJix6bQL7VN4sXk8BAKiu95qaLykCJFch3gQ/oQA=="
          }
         },
         "name": "",
         "parents": [
          "No/No Hypertension/No Diabetes/No Alcoholism",
          "Yes/No Hypertension/No Diabetes/No Alcoholism",
          "No/No Hypertension/No Diabetes/No Alcoholism",
          "Yes/No Hypertension/No Diabetes/No Alcoholism",
          "No/No Hypertension/No Diabetes/No Alcoholism",
          "Yes/No Hypertension/No Diabetes/No Alcoholism",
          "No/No Hypertension/No Diabetes/No Alcoholism",
          "Yes/No Hypertension/No Diabetes/No Alcoholism",
          "No/No Hypertension/No Diabetes/No Alcoholism",
          "Yes/No Hypertension/No Diabetes/No Alcoholism",
          "No/No Hypertension/No Diabetes/Has Alcoholism",
          "Yes/No Hypertension/No Diabetes/Has Alcoholism",
          "No/No Hypertension/No Diabetes/Has Alcoholism",
          "Yes/No Hypertension/No Diabetes/Has Alcoholism",
          "No/No Hypertension/No Diabetes/Has Alcoholism",
          "Yes/No Hypertension/No Diabetes/Has Alcoholism",
          "No/No Hypertension/Has Diabetes/No Alcoholism",
          "Yes/No Hypertension/Has Diabetes/No Alcoholism",
          "No/No Hypertension/Has Diabetes/No Alcoholism",
          "Yes/No Hypertension/Has Diabetes/No Alcoholism",
          "Yes/No Hypertension/Has Diabetes/No Alcoholism",
          "No/No Hypertension/Has Diabetes/Has Alcoholism",
          "Yes/No Hypertension/Has Diabetes/Has Alcoholism",
          "No/No Hypertension/Has Diabetes/Has Alcoholism",
          "No/Has Hypertension/No Diabetes/No Alcoholism",
          "Yes/Has Hypertension/No Diabetes/No Alcoholism",
          "No/Has Hypertension/No Diabetes/No Alcoholism",
          "Yes/Has Hypertension/No Diabetes/No Alcoholism",
          "No/Has Hypertension/No Diabetes/No Alcoholism",
          "Yes/Has Hypertension/No Diabetes/No Alcoholism",
          "No/Has Hypertension/No Diabetes/No Alcoholism",
          "No/Has Hypertension/No Diabetes/Has Alcoholism",
          "Yes/Has Hypertension/No Diabetes/Has Alcoholism",
          "No/Has Hypertension/No Diabetes/Has Alcoholism",
          "Yes/Has Hypertension/No Diabetes/Has Alcoholism",
          "Yes/Has Hypertension/No Diabetes/Has Alcoholism",
          "No/Has Hypertension/Has Diabetes/No Alcoholism",
          "Yes/Has Hypertension/Has Diabetes/No Alcoholism",
          "No/Has Hypertension/Has Diabetes/No Alcoholism",
          "Yes/Has Hypertension/Has Diabetes/No Alcoholism",
          "No/Has Hypertension/Has Diabetes/No Alcoholism",
          "Yes/Has Hypertension/Has Diabetes/No Alcoholism",
          "No/Has Hypertension/Has Diabetes/Has Alcoholism",
          "Yes/Has Hypertension/Has Diabetes/Has Alcoholism",
          "No/Has Hypertension/Has Diabetes/Has Alcoholism",
          "Yes/Has Hypertension/Has Diabetes/Has Alcoholism",
          "No/Has Hypertension/Has Diabetes/Has Alcoholism",
          "No/No Hypertension/No Diabetes",
          "Yes/No Hypertension/No Diabetes",
          "No/No Hypertension/No Diabetes",
          "Yes/No Hypertension/No Diabetes",
          "No/No Hypertension/Has Diabetes",
          "Yes/No Hypertension/Has Diabetes",
          "No/No Hypertension/Has Diabetes",
          "Yes/No Hypertension/Has Diabetes",
          "No/Has Hypertension/No Diabetes",
          "Yes/Has Hypertension/No Diabetes",
          "No/Has Hypertension/No Diabetes",
          "Yes/Has Hypertension/No Diabetes",
          "No/Has Hypertension/Has Diabetes",
          "Yes/Has Hypertension/Has Diabetes",
          "No/Has Hypertension/Has Diabetes",
          "Yes/Has Hypertension/Has Diabetes",
          "No/No Hypertension",
          "Yes/No Hypertension",
          "No/No Hypertension",
          "Yes/No Hypertension",
          "No/Has Hypertension",
          "Yes/Has Hypertension",
          "No/Has Hypertension",
          "Yes/Has Hypertension",
          "No",
          "Yes",
          "No",
          "Yes",
          "",
          ""
         ],
         "values": {
          "dtype": "f8",
          "bdata": "AAAAAACR0EAAAAAAQA/vQAAAAAAAAGtAAAAAAAAYi0AAAAAAAAAqQAAAAAAAAFVAAAAAAAAAAEAAAAAAAAAcQAAAAAAAAPA/AAAAAAAAAEAAAAAAAAB6QAAAAAAAiJdAAAAAAAAACEAAAAAAAAA8QAAAAAAAAPA/AAAAAAAACEAAAAAAABBxQAAAAAAAsJBAAAAAAAAACEAAAAAAAABCQAAAAAAAAPA/AAAAAAAAKEAAAAAAAIBPQAAAAAAAAPA/AAAAAAAqokAAAAAAgCTGQAAAAAAAAFdAAAAAAAAQfEAAAAAAAAAuQAAAAAAAADhAAAAAAAAA8D8AAAAAAKBoQAAAAAAAaIpAAAAAAAAA8D8AAAAAAAA5QAAAAAAAAAhAAAAAAABQkEAAAAAAAOmyQAAAAAAAAEZAAAAAAABAcEAAAAAAAAAcQAAAAAAAAEFAAAAAAAAARUAAAAAAACBpQAAAAAAAAAhAAAAAAAAAIkAAAAAAAADwPwAAAAAAy9BAAAAAAECH70AAAAAAAEB6QAAAAAAABJhAAAAAAABAcUAAAAAAAESRQAAAAAAAACpAAAAAAACAT0AAAAAAAAKjQAAAAAAAEcdAAAAAAADAaEAAAAAAAEiLQAAAAAAAHJFAAAAAAAAPtEAAAAAAAABHQAAAAAAAQGpAAAAAAAA00UAAAAAAsCPwQAAAAAAAEHJAAAAAAABAkkAAAAAAAI6kQAAAAACAxchAAAAAAADUkUAAAAAAAOG0QAAAAABAfNFAAAAAALBs8EAAAAAAAHitQAAAAAAAm9FAAAAAAEAr1UAAAAAAcNP0QA=="
         },
         "type": "sunburst"
        }
       ],
       "layout": {
        "template": {
         "data": {
          "histogram2dcontour": [
           {
            "type": "histogram2dcontour",
            "colorbar": {
             "outlinewidth": 0,
             "ticks": ""
            },
            "colorscale": [
             [
              0.0,
              "#0d0887"
             ],
             [
              0.1111111111111111,
              "#46039f"
             ],
             [
              0.2222222222222222,
              "#7201a8"
             ],
             [
              0.3333333333333333,
              "#9c179e"
             ],
             [
              0.4444444444444444,
              "#bd3786"
             ],
             [
              0.5555555555555556,
              "#d8576b"
             ],
             [
              0.6666666666666666,
              "#ed7953"
             ],
             [
              0.7777777777777778,
              "#fb9f3a"
             ],
             [
              0.8888888888888888,
              "#fdca26"
             ],
             [
              1.0,
              "#f0f921"
             ]
            ]
           }
          ],
          "choropleth": [
           {
            "type": "choropleth",
            "colorbar": {
             "outlinewidth": 0,
             "ticks": ""
            }
           }
          ],
          "histogram2d": [
           {
            "type": "histogram2d",
            "colorbar": {
             "outlinewidth": 0,
             "ticks": ""
            },
            "colorscale": [
             [
              0.0,
              "#0d0887"
             ],
             [
              0.1111111111111111,
              "#46039f"
             ],
             [
              0.2222222222222222,
              "#7201a8"
             ],
             [
              0.3333333333333333,
              "#9c179e"
             ],
             [
              0.4444444444444444,
              "#bd3786"
             ],
             [
              0.5555555555555556,
              "#d8576b"
             ],
             [
              0.6666666666666666,
              "#ed7953"
             ],
             [
              0.7777777777777778,
              "#fb9f3a"
             ],
             [
              0.8888888888888888,
              "#fdca26"
             ],
             [
              1.0,
              "#f0f921"
             ]
            ]
           }
          ],
          "heatmap": [
           {
            "type": "heatmap",
            "colorbar": {
             "outlinewidth": 0,
             "ticks": ""
            },
            "colorscale": [
             [
              0.0,
              "#0d0887"
             ],
             [
              0.1111111111111111,
              "#46039f"
             ],
             [
              0.2222222222222222,
              "#7201a8"
             ],
             [
              0.3333333333333333,
              "#9c179e"
             ],
             [
              0.4444444444444444,
              "#bd3786"
             ],
             [
              0.5555555555555556,
              "#d8576b"
             ],
             [
              0.6666666666666666,
              "#ed7953"
             ],
             [
              0.7777777777777778,
              "#fb9f3a"
             ],
             [
              0.8888888888888888,
              "#fdca26"
             ],
             [
              1.0,
              "#f0f921"
             ]
            ]
           }
          ],
          "contourcarpet": [
           {
            "type": "contourcarpet",
            "colorbar": {
             "outlinewidth": 0,
             "ticks": ""
            }
           }
          ],
          "contour": [
           {
            "type": "contour",
            "colorbar": {
             "outlinewidth": 0,
             "ticks": ""
            },
            "colorscale": [
             [
              0.0,
              "#0d0887"
             ],
             [
              0.1111111111111111,
              "#46039f"
             ],
             [
              0.2222222222222222,
              "#7201a8"
             ],
             [
              0.3333333333333333,
              "#9c179e"
             ],
             [
              0.4444444444444444,
              "#bd3786"
             ],
             [
              0.5555555555555556,
              "#d8576b"
             ],
             [
              0.6666666666666666,
              "#ed7953"
             ],
             [
              0.7777777777777778,
              "#fb9f3a"
             ],
             [
              0.8888888888888888,
              "#fdca26"
             ],
             [
              1.0,
              "#f0f921"
             ]
            ]
           }
          ],
          "surface": [
           {
            "type": "surface",
            "colorbar": {
             "outlinewidth": 0,
             "ticks": ""
            },
            "colorscale": [
             [
              0.0,
              "#0d0887"
             ],
             [
              0.1111111111111111,
              "#46039f"
             ],
             [
              0.2222222222222222,
              "#7201a8"
             ],
             [
              0.3333333333333333,
              "#9c179e"
             ],
             [
              0.4444444444444444,
              "#bd3786"
             ],
             [
              0.5555555555555556,
              "#d8576b"
             ],
             [
              0.6666666666666666,
              "#ed7953"
             ],
             [
              0.7777777777777778,
              "#fb9f3a"
             ],
             [
              0.8888888888888888,
              "#fdca26"
             ],
             [
              1.0,
              "#f0f921"
             ]
            ]
           }
          ],
          "mesh3d": [
           {
            "type": "mesh3d",
            "colorbar": {
             "outlinewidth": 0,
             "ticks": ""
            }
           }
          ],
          "scatter": [
           {
            "marker": {
             "line": {
              "color": "#283442"
             }
            },
            "type": "scatter"
           }
          ],
          "parcoords": [
           {
            "type": "parcoords",
            "line": {
             "colorbar": {
              "outlinewidth": 0,
              "ticks": ""
             }
            }
           }
          ],
          "scatterpolargl": [
           {
            "type": "scatterpolargl",
            "marker": {
             "colorbar": {
              "outlinewidth": 0,
              "ticks": ""
             }
            }
           }
          ],
          "bar": [
           {
            "error_x": {
             "color": "#f2f5fa"
            },
            "error_y": {
             "color": "#f2f5fa"
            },
            "marker": {
             "line": {
              "color": "rgb(17,17,17)",
              "width": 0.5
             },
             "pattern": {
              "fillmode": "overlay",
              "size": 10,
              "solidity": 0.2
             }
            },
            "type": "bar"
           }
          ],
          "scattergeo": [
           {
            "type": "scattergeo",
            "marker": {
             "colorbar": {
              "outlinewidth": 0,
              "ticks": ""
             }
            }
           }
          ],
          "scatterpolar": [
           {
            "type": "scatterpolar",
            "marker": {
             "colorbar": {
              "outlinewidth": 0,
              "ticks": ""
             }
            }
           }
          ],
          "histogram": [
           {
            "marker": {
             "pattern": {
              "fillmode": "overlay",
              "size": 10,
              "solidity": 0.2
             }
            },
            "type": "histogram"
           }
          ],
          "scattergl": [
           {
            "marker": {
             "line": {
              "color": "#283442"
             }
            },
            "type": "scattergl"
           }
          ],
          "scatter3d": [
           {
            "type": "scatter3d",
            "line": {
             "colorbar": {
              "outlinewidth": 0,
              "ticks": ""
             }
            },
            "marker": {
             "colorbar": {
              "outlinewidth": 0,
              "ticks": ""
             }
            }
           }
          ],
          "scattermap": [
           {
            "type": "scattermap",
            "marker": {
             "colorbar": {
              "outlinewidth": 0,
              "ticks": ""
             }
            }
           }
          ],
          "scattermapbox": [
           {
            "type": "scattermapbox",
            "marker": {
             "colorbar": {
              "outlinewidth": 0,
              "ticks": ""
             }
            }
           }
          ],
          "scatterternary": [
           {
            "type": "scatterternary",
            "marker": {
             "colorbar": {
              "outlinewidth": 0,
              "ticks": ""
             }
            }
           }
          ],
          "scattercarpet": [
           {
            "type": "scattercarpet",
            "marker": {
             "colorbar": {
              "outlinewidth": 0,
              "ticks": ""
             }
            }
           }
          ],
          "carpet": [
           {
            "aaxis": {
             "endlinecolor": "#A2B1C6",
             "gridcolor": "#506784",
             "linecolor": "#506784",
             "minorgridcolor": "#506784",
             "startlinecolor": "#A2B1C6"
            },
            "baxis": {
             "endlinecolor": "#A2B1C6",
             "gridcolor": "#506784",
             "linecolor": "#506784",
             "minorgridcolor": "#506784",
             "startlinecolor": "#A2B1C6"
            },
            "type": "carpet"
           }
          ],
          "table": [
           {
            "cells": {
             "fill": {
              "color": "#506784"
             },
             "line": {
              "color": "rgb(17,17,17)"
             }
            },
            "header": {
             "fill": {
              "color": "#2a3f5f"
             },
             "line": {
              "color": "rgb(17,17,17)"
             }
            },
            "type": "table"
           }
          ],
          "barpolar": [
           {
            "marker": {
             "line": {
              "color": "rgb(17,17,17)",
              "width": 0.5
             },
             "pattern": {
              "fillmode": "overlay",
              "size": 10,
              "solidity": 0.2
             }
            },
            "type": "barpolar"
           }
          ],
          "pie": [
           {
            "automargin": true,
            "type": "pie"
           }
          ]
         },
         "layout": {
          "autotypenumbers": "strict",
          "colorway": [
           "#636efa",
           "#EF553B",
           "#00cc96",
           "#ab63fa",
           "#FFA15A",
           "#19d3f3",
           "#FF6692",
           "#B6E880",
           "#FF97FF",
           "#FECB52"
          ],
          "font": {
           "color": "#f2f5fa"
          },
          "hovermode": "closest",
          "hoverlabel": {
           "align": "left"
          },
          "paper_bgcolor": "rgb(17,17,17)",
          "plot_bgcolor": "rgb(17,17,17)",
          "polar": {
           "bgcolor": "rgb(17,17,17)",
           "angularaxis": {
            "gridcolor": "#506784",
            "linecolor": "#506784",
            "ticks": ""
           },
           "radialaxis": {
            "gridcolor": "#506784",
            "linecolor": "#506784",
            "ticks": ""
           }
          },
          "ternary": {
           "bgcolor": "rgb(17,17,17)",
           "aaxis": {
            "gridcolor": "#506784",
            "linecolor": "#506784",
            "ticks": ""
           },
           "baxis": {
            "gridcolor": "#506784",
            "linecolor": "#506784",
            "ticks": ""
           },
           "caxis": {
            "gridcolor": "#506784",
            "linecolor": "#506784",
            "ticks": ""
           }
          },
          "coloraxis": {
           "colorbar": {
            "outlinewidth": 0,
            "ticks": ""
           }
          },
          "colorscale": {
           "sequential": [
            [
             0.0,
             "#0d0887"
            ],
            [
             0.1111111111111111,
             "#46039f"
            ],
            [
             0.2222222222222222,
             "#7201a8"
            ],
            [
             0.3333333333333333,
             "#9c179e"
            ],
            [
             0.4444444444444444,
             "#bd3786"
            ],
            [
             0.5555555555555556,
             "#d8576b"
            ],
            [
             0.6666666666666666,
             "#ed7953"
            ],
            [
             0.7777777777777778,
             "#fb9f3a"
            ],
            [
             0.8888888888888888,
             "#fdca26"
            ],
            [
             1.0,
             "#f0f921"
            ]
           ],
           "sequentialminus": [
            [
             0.0,
             "#0d0887"
            ],
            [
             0.1111111111111111,
             "#46039f"
            ],
            [
             0.2222222222222222,
             "#7201a8"
            ],
            [
             0.3333333333333333,
             "#9c179e"
            ],
            [
             0.4444444444444444,
             "#bd3786"
            ],
            [
             0.5555555555555556,
             "#d8576b"
            ],
            [
             0.6666666666666666,
             "#ed7953"
            ],
            [
             0.7777777777777778,
             "#fb9f3a"
            ],
            [
             0.8888888888888888,
             "#fdca26"
            ],
            [
             1.0,
             "#f0f921"
            ]
           ],
           "diverging": [
            [
             0,
             "#8e0152"
            ],
            [
             0.1,
             "#c51b7d"
            ],
            [
             0.2,
             "#de77ae"
            ],
            [
             0.3,
             "#f1b6da"
            ],
            [
             0.4,
             "#fde0ef"
            ],
            [
             0.5,
             "#f7f7f7"
            ],
            [
             0.6,
             "#e6f5d0"
            ],
            [
             0.7,
             "#b8e186"
            ],
            [
             0.8,
             "#7fbc41"
            ],
            [
             0.9,
             "#4d9221"
            ],
            [
             1,
             "#276419"
            ]
           ]
          },
          "xaxis": {
           "gridcolor": "#283442",
           "linecolor": "#506784",
           "ticks": "",
           "title": {
            "standoff": 15
           },
           "zerolinecolor": "#283442",
           "automargin": true,
           "zerolinewidth": 2
          },
          "yaxis": {
           "gridcolor": "#283442",
           "linecolor": "#506784",
           "ticks": "",
           "title": {
            "standoff": 15
           },
           "zerolinecolor": "#283442",
           "automargin": true,
           "zerolinewidth": 2
          },
          "scene": {
           "xaxis": {
            "backgroundcolor": "rgb(17,17,17)",
            "gridcolor": "#506784",
            "linecolor": "#506784",
            "showbackground": true,
            "ticks": "",
            "zerolinecolor": "#C8D4E3",
            "gridwidth": 2
           },
           "yaxis": {
            "backgroundcolor": "rgb(17,17,17)",
            "gridcolor": "#506784",
            "linecolor": "#506784",
            "showbackground": true,
            "ticks": "",
            "zerolinecolor": "#C8D4E3",
            "gridwidth": 2
           },
           "zaxis": {
            "backgroundcolor": "rgb(17,17,17)",
            "gridcolor": "#506784",
            "linecolor": "#506784",
            "showbackground": true,
            "ticks": "",
            "zerolinecolor": "#C8D4E3",
            "gridwidth": 2
           }
          },
          "shapedefaults": {
           "line": {
            "color": "#f2f5fa"
           }
          },
          "annotationdefaults": {
           "arrowcolor": "#f2f5fa",
           "arrowhead": 0,
           "arrowwidth": 1
          },
          "geo": {
           "bgcolor": "rgb(17,17,17)",
           "landcolor": "rgb(17,17,17)",
           "subunitcolor": "#506784",
           "showland": true,
           "showlakes": true,
           "lakecolor": "rgb(17,17,17)"
          },
          "title": {
           "x": 0.05
          },
          "updatemenudefaults": {
           "bgcolor": "#506784",
           "borderwidth": 0
          },
          "sliderdefaults": {
           "bgcolor": "#C8D4E3",
           "borderwidth": 1,
           "bordercolor": "rgb(17,17,17)",
           "tickwidth": 0
          },
          "mapbox": {
           "style": "dark"
          }
         }
        },
        "coloraxis": {
         "colorbar": {
          "title": {
           "text": "Count"
          }
         },
         "colorscale": [
          [
           0.0,
           "rgb(247,251,255)"
          ],
          [
           0.125,
           "rgb(222,235,247)"
          ],
          [
           0.25,
           "rgb(198,219,239)"
          ],
          [
           0.375,
           "rgb(158,202,225)"
          ],
          [
           0.5,
           "rgb(107,174,214)"
          ],
          [
           0.625,
           "rgb(66,146,198)"
          ],
          [
           0.75,
           "rgb(33,113,181)"
          ],
          [
           0.875,
           "rgb(8,81,156)"
          ],
          [
           1.0,
           "rgb(8,48,107)"
          ]
         ]
        },
        "legend": {
         "tracegroupgap": 0
        },
        "title": {
         "text": "Attendance vs No-show by Disease and Handicap",
         "font": {
          "size": 20,
          "color": "#f15bb5"
         },
         "x": 0.5
        },
        "sunburstcolorway": [
         "#ff0066",
         "#33ffcc",
         "#ffff66",
         "#ff9933",
         "#66ff33"
        ],
        "height": 450
       },
       "config": {
        "plotlyServerURL": "https://plot.ly"
       }
      }
     },
     "metadata": {},
     "output_type": "display_data"
    }
   ],
   "execution_count": 246
  },
  {
   "metadata": {},
   "cell_type": "markdown",
   "source": "#### Attendance Per Scholarship"
  },
  {
   "metadata": {
    "ExecuteTime": {
     "end_time": "2025-08-08T08:53:53.697390Z",
     "start_time": "2025-08-08T08:53:53.645595Z"
    }
   },
   "cell_type": "code",
   "source": [
    "scholar_attendance = df.groupby(['Scholarship', 'Attendance']).size().reset_index(name='Count')\n",
    "scholar_attendance"
   ],
   "outputs": [
    {
     "data": {
      "text/plain": [
       "   Scholarship Attendance  Count\n",
       "0            0         No  19106\n",
       "1            0        Yes  77065\n",
       "2            1         No   2571\n",
       "3            1        Yes   8238"
      ],
      "text/html": [
       "<div>\n",
       "<style scoped>\n",
       "    .dataframe tbody tr th:only-of-type {\n",
       "        vertical-align: middle;\n",
       "    }\n",
       "\n",
       "    .dataframe tbody tr th {\n",
       "        vertical-align: top;\n",
       "    }\n",
       "\n",
       "    .dataframe thead th {\n",
       "        text-align: right;\n",
       "    }\n",
       "</style>\n",
       "<table border=\"1\" class=\"dataframe\">\n",
       "  <thead>\n",
       "    <tr style=\"text-align: right;\">\n",
       "      <th></th>\n",
       "      <th>Scholarship</th>\n",
       "      <th>Attendance</th>\n",
       "      <th>Count</th>\n",
       "    </tr>\n",
       "  </thead>\n",
       "  <tbody>\n",
       "    <tr>\n",
       "      <th>0</th>\n",
       "      <td>0</td>\n",
       "      <td>No</td>\n",
       "      <td>19106</td>\n",
       "    </tr>\n",
       "    <tr>\n",
       "      <th>1</th>\n",
       "      <td>0</td>\n",
       "      <td>Yes</td>\n",
       "      <td>77065</td>\n",
       "    </tr>\n",
       "    <tr>\n",
       "      <th>2</th>\n",
       "      <td>1</td>\n",
       "      <td>No</td>\n",
       "      <td>2571</td>\n",
       "    </tr>\n",
       "    <tr>\n",
       "      <th>3</th>\n",
       "      <td>1</td>\n",
       "      <td>Yes</td>\n",
       "      <td>8238</td>\n",
       "    </tr>\n",
       "  </tbody>\n",
       "</table>\n",
       "</div>"
      ]
     },
     "execution_count": 247,
     "metadata": {},
     "output_type": "execute_result"
    }
   ],
   "execution_count": 247
  },
  {
   "metadata": {
    "ExecuteTime": {
     "end_time": "2025-08-08T08:53:53.813233Z",
     "start_time": "2025-08-08T08:53:53.736304Z"
    }
   },
   "cell_type": "code",
   "source": [
    "fig_scholar = px.bar(scholar_attendance,\n",
    "             x='Scholarship',\n",
    "             y='Count',\n",
    "             color='Attendance',\n",
    "             barmode='group',\n",
    "             title='Attendance vs Scholarship (with No-show)',\n",
    "             color_discrete_sequence=colors_no_show,\n",
    "             template=template_style\n",
    ")\n",
    "fig_scholar.update_layout(\n",
    "    height=450,\n",
    "    title_font=dict(size=20, color=colors_no_show[1]),\n",
    "    title_x=0.5\n",
    ")"
   ],
   "outputs": [
    {
     "data": {
      "application/vnd.plotly.v1+json": {
       "data": [
        {
         "alignmentgroup": "True",
         "hovertemplate": "Attendance=No<br>Scholarship=%{x}<br>Count=%{y}<extra></extra>",
         "legendgroup": "No",
         "marker": {
          "color": "#ff00ff",
          "pattern": {
           "shape": ""
          }
         },
         "name": "No",
         "offsetgroup": "No",
         "orientation": "v",
         "showlegend": true,
         "textposition": "auto",
         "x": {
          "dtype": "i1",
          "bdata": "AAE="
         },
         "xaxis": "x",
         "y": {
          "dtype": "i2",
          "bdata": "okoLCg=="
         },
         "yaxis": "y",
         "type": "bar"
        },
        {
         "alignmentgroup": "True",
         "hovertemplate": "Attendance=Yes<br>Scholarship=%{x}<br>Count=%{y}<extra></extra>",
         "legendgroup": "Yes",
         "marker": {
          "color": "#00ffff",
          "pattern": {
           "shape": ""
          }
         },
         "name": "Yes",
         "offsetgroup": "Yes",
         "orientation": "v",
         "showlegend": true,
         "textposition": "auto",
         "x": {
          "dtype": "i1",
          "bdata": "AAE="
         },
         "xaxis": "x",
         "y": {
          "dtype": "i4",
          "bdata": "CS0BAC4gAAA="
         },
         "yaxis": "y",
         "type": "bar"
        }
       ],
       "layout": {
        "template": {
         "data": {
          "histogram2dcontour": [
           {
            "type": "histogram2dcontour",
            "colorbar": {
             "outlinewidth": 0,
             "ticks": ""
            },
            "colorscale": [
             [
              0.0,
              "#0d0887"
             ],
             [
              0.1111111111111111,
              "#46039f"
             ],
             [
              0.2222222222222222,
              "#7201a8"
             ],
             [
              0.3333333333333333,
              "#9c179e"
             ],
             [
              0.4444444444444444,
              "#bd3786"
             ],
             [
              0.5555555555555556,
              "#d8576b"
             ],
             [
              0.6666666666666666,
              "#ed7953"
             ],
             [
              0.7777777777777778,
              "#fb9f3a"
             ],
             [
              0.8888888888888888,
              "#fdca26"
             ],
             [
              1.0,
              "#f0f921"
             ]
            ]
           }
          ],
          "choropleth": [
           {
            "type": "choropleth",
            "colorbar": {
             "outlinewidth": 0,
             "ticks": ""
            }
           }
          ],
          "histogram2d": [
           {
            "type": "histogram2d",
            "colorbar": {
             "outlinewidth": 0,
             "ticks": ""
            },
            "colorscale": [
             [
              0.0,
              "#0d0887"
             ],
             [
              0.1111111111111111,
              "#46039f"
             ],
             [
              0.2222222222222222,
              "#7201a8"
             ],
             [
              0.3333333333333333,
              "#9c179e"
             ],
             [
              0.4444444444444444,
              "#bd3786"
             ],
             [
              0.5555555555555556,
              "#d8576b"
             ],
             [
              0.6666666666666666,
              "#ed7953"
             ],
             [
              0.7777777777777778,
              "#fb9f3a"
             ],
             [
              0.8888888888888888,
              "#fdca26"
             ],
             [
              1.0,
              "#f0f921"
             ]
            ]
           }
          ],
          "heatmap": [
           {
            "type": "heatmap",
            "colorbar": {
             "outlinewidth": 0,
             "ticks": ""
            },
            "colorscale": [
             [
              0.0,
              "#0d0887"
             ],
             [
              0.1111111111111111,
              "#46039f"
             ],
             [
              0.2222222222222222,
              "#7201a8"
             ],
             [
              0.3333333333333333,
              "#9c179e"
             ],
             [
              0.4444444444444444,
              "#bd3786"
             ],
             [
              0.5555555555555556,
              "#d8576b"
             ],
             [
              0.6666666666666666,
              "#ed7953"
             ],
             [
              0.7777777777777778,
              "#fb9f3a"
             ],
             [
              0.8888888888888888,
              "#fdca26"
             ],
             [
              1.0,
              "#f0f921"
             ]
            ]
           }
          ],
          "contourcarpet": [
           {
            "type": "contourcarpet",
            "colorbar": {
             "outlinewidth": 0,
             "ticks": ""
            }
           }
          ],
          "contour": [
           {
            "type": "contour",
            "colorbar": {
             "outlinewidth": 0,
             "ticks": ""
            },
            "colorscale": [
             [
              0.0,
              "#0d0887"
             ],
             [
              0.1111111111111111,
              "#46039f"
             ],
             [
              0.2222222222222222,
              "#7201a8"
             ],
             [
              0.3333333333333333,
              "#9c179e"
             ],
             [
              0.4444444444444444,
              "#bd3786"
             ],
             [
              0.5555555555555556,
              "#d8576b"
             ],
             [
              0.6666666666666666,
              "#ed7953"
             ],
             [
              0.7777777777777778,
              "#fb9f3a"
             ],
             [
              0.8888888888888888,
              "#fdca26"
             ],
             [
              1.0,
              "#f0f921"
             ]
            ]
           }
          ],
          "surface": [
           {
            "type": "surface",
            "colorbar": {
             "outlinewidth": 0,
             "ticks": ""
            },
            "colorscale": [
             [
              0.0,
              "#0d0887"
             ],
             [
              0.1111111111111111,
              "#46039f"
             ],
             [
              0.2222222222222222,
              "#7201a8"
             ],
             [
              0.3333333333333333,
              "#9c179e"
             ],
             [
              0.4444444444444444,
              "#bd3786"
             ],
             [
              0.5555555555555556,
              "#d8576b"
             ],
             [
              0.6666666666666666,
              "#ed7953"
             ],
             [
              0.7777777777777778,
              "#fb9f3a"
             ],
             [
              0.8888888888888888,
              "#fdca26"
             ],
             [
              1.0,
              "#f0f921"
             ]
            ]
           }
          ],
          "mesh3d": [
           {
            "type": "mesh3d",
            "colorbar": {
             "outlinewidth": 0,
             "ticks": ""
            }
           }
          ],
          "scatter": [
           {
            "marker": {
             "line": {
              "color": "#283442"
             }
            },
            "type": "scatter"
           }
          ],
          "parcoords": [
           {
            "type": "parcoords",
            "line": {
             "colorbar": {
              "outlinewidth": 0,
              "ticks": ""
             }
            }
           }
          ],
          "scatterpolargl": [
           {
            "type": "scatterpolargl",
            "marker": {
             "colorbar": {
              "outlinewidth": 0,
              "ticks": ""
             }
            }
           }
          ],
          "bar": [
           {
            "error_x": {
             "color": "#f2f5fa"
            },
            "error_y": {
             "color": "#f2f5fa"
            },
            "marker": {
             "line": {
              "color": "rgb(17,17,17)",
              "width": 0.5
             },
             "pattern": {
              "fillmode": "overlay",
              "size": 10,
              "solidity": 0.2
             }
            },
            "type": "bar"
           }
          ],
          "scattergeo": [
           {
            "type": "scattergeo",
            "marker": {
             "colorbar": {
              "outlinewidth": 0,
              "ticks": ""
             }
            }
           }
          ],
          "scatterpolar": [
           {
            "type": "scatterpolar",
            "marker": {
             "colorbar": {
              "outlinewidth": 0,
              "ticks": ""
             }
            }
           }
          ],
          "histogram": [
           {
            "marker": {
             "pattern": {
              "fillmode": "overlay",
              "size": 10,
              "solidity": 0.2
             }
            },
            "type": "histogram"
           }
          ],
          "scattergl": [
           {
            "marker": {
             "line": {
              "color": "#283442"
             }
            },
            "type": "scattergl"
           }
          ],
          "scatter3d": [
           {
            "type": "scatter3d",
            "line": {
             "colorbar": {
              "outlinewidth": 0,
              "ticks": ""
             }
            },
            "marker": {
             "colorbar": {
              "outlinewidth": 0,
              "ticks": ""
             }
            }
           }
          ],
          "scattermap": [
           {
            "type": "scattermap",
            "marker": {
             "colorbar": {
              "outlinewidth": 0,
              "ticks": ""
             }
            }
           }
          ],
          "scattermapbox": [
           {
            "type": "scattermapbox",
            "marker": {
             "colorbar": {
              "outlinewidth": 0,
              "ticks": ""
             }
            }
           }
          ],
          "scatterternary": [
           {
            "type": "scatterternary",
            "marker": {
             "colorbar": {
              "outlinewidth": 0,
              "ticks": ""
             }
            }
           }
          ],
          "scattercarpet": [
           {
            "type": "scattercarpet",
            "marker": {
             "colorbar": {
              "outlinewidth": 0,
              "ticks": ""
             }
            }
           }
          ],
          "carpet": [
           {
            "aaxis": {
             "endlinecolor": "#A2B1C6",
             "gridcolor": "#506784",
             "linecolor": "#506784",
             "minorgridcolor": "#506784",
             "startlinecolor": "#A2B1C6"
            },
            "baxis": {
             "endlinecolor": "#A2B1C6",
             "gridcolor": "#506784",
             "linecolor": "#506784",
             "minorgridcolor": "#506784",
             "startlinecolor": "#A2B1C6"
            },
            "type": "carpet"
           }
          ],
          "table": [
           {
            "cells": {
             "fill": {
              "color": "#506784"
             },
             "line": {
              "color": "rgb(17,17,17)"
             }
            },
            "header": {
             "fill": {
              "color": "#2a3f5f"
             },
             "line": {
              "color": "rgb(17,17,17)"
             }
            },
            "type": "table"
           }
          ],
          "barpolar": [
           {
            "marker": {
             "line": {
              "color": "rgb(17,17,17)",
              "width": 0.5
             },
             "pattern": {
              "fillmode": "overlay",
              "size": 10,
              "solidity": 0.2
             }
            },
            "type": "barpolar"
           }
          ],
          "pie": [
           {
            "automargin": true,
            "type": "pie"
           }
          ]
         },
         "layout": {
          "autotypenumbers": "strict",
          "colorway": [
           "#636efa",
           "#EF553B",
           "#00cc96",
           "#ab63fa",
           "#FFA15A",
           "#19d3f3",
           "#FF6692",
           "#B6E880",
           "#FF97FF",
           "#FECB52"
          ],
          "font": {
           "color": "#f2f5fa"
          },
          "hovermode": "closest",
          "hoverlabel": {
           "align": "left"
          },
          "paper_bgcolor": "rgb(17,17,17)",
          "plot_bgcolor": "rgb(17,17,17)",
          "polar": {
           "bgcolor": "rgb(17,17,17)",
           "angularaxis": {
            "gridcolor": "#506784",
            "linecolor": "#506784",
            "ticks": ""
           },
           "radialaxis": {
            "gridcolor": "#506784",
            "linecolor": "#506784",
            "ticks": ""
           }
          },
          "ternary": {
           "bgcolor": "rgb(17,17,17)",
           "aaxis": {
            "gridcolor": "#506784",
            "linecolor": "#506784",
            "ticks": ""
           },
           "baxis": {
            "gridcolor": "#506784",
            "linecolor": "#506784",
            "ticks": ""
           },
           "caxis": {
            "gridcolor": "#506784",
            "linecolor": "#506784",
            "ticks": ""
           }
          },
          "coloraxis": {
           "colorbar": {
            "outlinewidth": 0,
            "ticks": ""
           }
          },
          "colorscale": {
           "sequential": [
            [
             0.0,
             "#0d0887"
            ],
            [
             0.1111111111111111,
             "#46039f"
            ],
            [
             0.2222222222222222,
             "#7201a8"
            ],
            [
             0.3333333333333333,
             "#9c179e"
            ],
            [
             0.4444444444444444,
             "#bd3786"
            ],
            [
             0.5555555555555556,
             "#d8576b"
            ],
            [
             0.6666666666666666,
             "#ed7953"
            ],
            [
             0.7777777777777778,
             "#fb9f3a"
            ],
            [
             0.8888888888888888,
             "#fdca26"
            ],
            [
             1.0,
             "#f0f921"
            ]
           ],
           "sequentialminus": [
            [
             0.0,
             "#0d0887"
            ],
            [
             0.1111111111111111,
             "#46039f"
            ],
            [
             0.2222222222222222,
             "#7201a8"
            ],
            [
             0.3333333333333333,
             "#9c179e"
            ],
            [
             0.4444444444444444,
             "#bd3786"
            ],
            [
             0.5555555555555556,
             "#d8576b"
            ],
            [
             0.6666666666666666,
             "#ed7953"
            ],
            [
             0.7777777777777778,
             "#fb9f3a"
            ],
            [
             0.8888888888888888,
             "#fdca26"
            ],
            [
             1.0,
             "#f0f921"
            ]
           ],
           "diverging": [
            [
             0,
             "#8e0152"
            ],
            [
             0.1,
             "#c51b7d"
            ],
            [
             0.2,
             "#de77ae"
            ],
            [
             0.3,
             "#f1b6da"
            ],
            [
             0.4,
             "#fde0ef"
            ],
            [
             0.5,
             "#f7f7f7"
            ],
            [
             0.6,
             "#e6f5d0"
            ],
            [
             0.7,
             "#b8e186"
            ],
            [
             0.8,
             "#7fbc41"
            ],
            [
             0.9,
             "#4d9221"
            ],
            [
             1,
             "#276419"
            ]
           ]
          },
          "xaxis": {
           "gridcolor": "#283442",
           "linecolor": "#506784",
           "ticks": "",
           "title": {
            "standoff": 15
           },
           "zerolinecolor": "#283442",
           "automargin": true,
           "zerolinewidth": 2
          },
          "yaxis": {
           "gridcolor": "#283442",
           "linecolor": "#506784",
           "ticks": "",
           "title": {
            "standoff": 15
           },
           "zerolinecolor": "#283442",
           "automargin": true,
           "zerolinewidth": 2
          },
          "scene": {
           "xaxis": {
            "backgroundcolor": "rgb(17,17,17)",
            "gridcolor": "#506784",
            "linecolor": "#506784",
            "showbackground": true,
            "ticks": "",
            "zerolinecolor": "#C8D4E3",
            "gridwidth": 2
           },
           "yaxis": {
            "backgroundcolor": "rgb(17,17,17)",
            "gridcolor": "#506784",
            "linecolor": "#506784",
            "showbackground": true,
            "ticks": "",
            "zerolinecolor": "#C8D4E3",
            "gridwidth": 2
           },
           "zaxis": {
            "backgroundcolor": "rgb(17,17,17)",
            "gridcolor": "#506784",
            "linecolor": "#506784",
            "showbackground": true,
            "ticks": "",
            "zerolinecolor": "#C8D4E3",
            "gridwidth": 2
           }
          },
          "shapedefaults": {
           "line": {
            "color": "#f2f5fa"
           }
          },
          "annotationdefaults": {
           "arrowcolor": "#f2f5fa",
           "arrowhead": 0,
           "arrowwidth": 1
          },
          "geo": {
           "bgcolor": "rgb(17,17,17)",
           "landcolor": "rgb(17,17,17)",
           "subunitcolor": "#506784",
           "showland": true,
           "showlakes": true,
           "lakecolor": "rgb(17,17,17)"
          },
          "title": {
           "x": 0.05
          },
          "updatemenudefaults": {
           "bgcolor": "#506784",
           "borderwidth": 0
          },
          "sliderdefaults": {
           "bgcolor": "#C8D4E3",
           "borderwidth": 1,
           "bordercolor": "rgb(17,17,17)",
           "tickwidth": 0
          },
          "mapbox": {
           "style": "dark"
          }
         }
        },
        "xaxis": {
         "anchor": "y",
         "domain": [
          0.0,
          1.0
         ],
         "title": {
          "text": "Scholarship"
         }
        },
        "yaxis": {
         "anchor": "x",
         "domain": [
          0.0,
          1.0
         ],
         "title": {
          "text": "Count"
         }
        },
        "legend": {
         "title": {
          "text": "Attendance"
         },
         "tracegroupgap": 0
        },
        "title": {
         "text": "Attendance vs Scholarship (with No-show)",
         "font": {
          "size": 20,
          "color": "#00ffff"
         },
         "x": 0.5
        },
        "barmode": "group",
        "height": 450
       },
       "config": {
        "plotlyServerURL": "https://plot.ly"
       }
      }
     },
     "metadata": {},
     "output_type": "display_data"
    }
   ],
   "execution_count": 248
  },
  {
   "metadata": {},
   "cell_type": "markdown",
   "source": "#### Attendance vs date"
  },
  {
   "metadata": {
    "ExecuteTime": {
     "end_time": "2025-08-08T08:53:53.836631Z",
     "start_time": "2025-08-08T08:53:53.821408Z"
    }
   },
   "cell_type": "code",
   "source": [
    "day_counts = df.day.value_counts().reset_index()\n",
    "day_counts.columns = ['day', 'Count']"
   ],
   "outputs": [],
   "execution_count": 249
  },
  {
   "metadata": {
    "ExecuteTime": {
     "end_time": "2025-08-08T08:53:53.895654Z",
     "start_time": "2025-08-08T08:53:53.846083Z"
    }
   },
   "cell_type": "code",
   "source": [
    "ordered_days = ['Monday', 'Tuesday', 'Wednesday', 'Thursday', 'Friday', 'Saturday', 'Sunday']\n",
    "df['day'] = pd.Categorical(df['day'], categories=ordered_days, ordered=True)\n",
    "attendance_by_day = df.groupby(['day', 'Attendance'], observed=True).size().reset_index(name='Count')"
   ],
   "outputs": [],
   "execution_count": 250
  },
  {
   "metadata": {
    "ExecuteTime": {
     "end_time": "2025-08-08T08:53:53.959340Z",
     "start_time": "2025-08-08T08:53:53.902141Z"
    }
   },
   "cell_type": "code",
   "source": [
    "fig_day = px.bar(\n",
    "    attendance_by_day,\n",
    "    x='day',\n",
    "    y='Count',\n",
    "    color='Attendance',\n",
    "    barmode='group',\n",
    "    title='Attendance vs Absence by Day of Week',\n",
    "    color_discrete_sequence=colors_day_of_week,\n",
    "    template=template_style\n",
    ")\n",
    "fig_day.update_layout(\n",
    "    height=450,\n",
    "    title_font=dict(size=20, color=colors_day_of_week[1]),\n",
    "    title_x=0.5\n",
    ")"
   ],
   "outputs": [
    {
     "data": {
      "application/vnd.plotly.v1+json": {
       "data": [
        {
         "alignmentgroup": "True",
         "hovertemplate": "Attendance=No<br>day=%{x}<br>Count=%{y}<extra></extra>",
         "legendgroup": "No",
         "marker": {
          "color": "#9400d3",
          "pattern": {
           "shape": ""
          }
         },
         "name": "No",
         "offsetgroup": "No",
         "orientation": "v",
         "showlegend": true,
         "textposition": "auto",
         "x": [
          "Monday",
          "Tuesday",
          "Wednesday",
          "Thursday",
          "Friday",
          "Saturday"
         ],
         "xaxis": "x",
         "y": {
          "dtype": "i2",
          "bdata": "ohGgE1QTqgxkDwkA"
         },
         "yaxis": "y",
         "type": "bar"
        },
        {
         "alignmentgroup": "True",
         "hovertemplate": "Attendance=Yes<br>day=%{x}<br>Count=%{y}<extra></extra>",
         "legendgroup": "Yes",
         "marker": {
          "color": "#ff6347",
          "pattern": {
           "shape": ""
          }
         },
         "name": "Yes",
         "offsetgroup": "Yes",
         "orientation": "v",
         "showlegend": true,
         "textposition": "auto",
         "x": [
          "Monday",
          "Tuesday",
          "Wednesday",
          "Thursday",
          "Friday",
          "Saturday"
         ],
         "xaxis": "x",
         "y": {
          "dtype": "i2",
          "bdata": "60NeTa5OZjS8OB4A"
         },
         "yaxis": "y",
         "type": "bar"
        }
       ],
       "layout": {
        "template": {
         "data": {
          "histogram2dcontour": [
           {
            "type": "histogram2dcontour",
            "colorbar": {
             "outlinewidth": 0,
             "ticks": ""
            },
            "colorscale": [
             [
              0.0,
              "#0d0887"
             ],
             [
              0.1111111111111111,
              "#46039f"
             ],
             [
              0.2222222222222222,
              "#7201a8"
             ],
             [
              0.3333333333333333,
              "#9c179e"
             ],
             [
              0.4444444444444444,
              "#bd3786"
             ],
             [
              0.5555555555555556,
              "#d8576b"
             ],
             [
              0.6666666666666666,
              "#ed7953"
             ],
             [
              0.7777777777777778,
              "#fb9f3a"
             ],
             [
              0.8888888888888888,
              "#fdca26"
             ],
             [
              1.0,
              "#f0f921"
             ]
            ]
           }
          ],
          "choropleth": [
           {
            "type": "choropleth",
            "colorbar": {
             "outlinewidth": 0,
             "ticks": ""
            }
           }
          ],
          "histogram2d": [
           {
            "type": "histogram2d",
            "colorbar": {
             "outlinewidth": 0,
             "ticks": ""
            },
            "colorscale": [
             [
              0.0,
              "#0d0887"
             ],
             [
              0.1111111111111111,
              "#46039f"
             ],
             [
              0.2222222222222222,
              "#7201a8"
             ],
             [
              0.3333333333333333,
              "#9c179e"
             ],
             [
              0.4444444444444444,
              "#bd3786"
             ],
             [
              0.5555555555555556,
              "#d8576b"
             ],
             [
              0.6666666666666666,
              "#ed7953"
             ],
             [
              0.7777777777777778,
              "#fb9f3a"
             ],
             [
              0.8888888888888888,
              "#fdca26"
             ],
             [
              1.0,
              "#f0f921"
             ]
            ]
           }
          ],
          "heatmap": [
           {
            "type": "heatmap",
            "colorbar": {
             "outlinewidth": 0,
             "ticks": ""
            },
            "colorscale": [
             [
              0.0,
              "#0d0887"
             ],
             [
              0.1111111111111111,
              "#46039f"
             ],
             [
              0.2222222222222222,
              "#7201a8"
             ],
             [
              0.3333333333333333,
              "#9c179e"
             ],
             [
              0.4444444444444444,
              "#bd3786"
             ],
             [
              0.5555555555555556,
              "#d8576b"
             ],
             [
              0.6666666666666666,
              "#ed7953"
             ],
             [
              0.7777777777777778,
              "#fb9f3a"
             ],
             [
              0.8888888888888888,
              "#fdca26"
             ],
             [
              1.0,
              "#f0f921"
             ]
            ]
           }
          ],
          "contourcarpet": [
           {
            "type": "contourcarpet",
            "colorbar": {
             "outlinewidth": 0,
             "ticks": ""
            }
           }
          ],
          "contour": [
           {
            "type": "contour",
            "colorbar": {
             "outlinewidth": 0,
             "ticks": ""
            },
            "colorscale": [
             [
              0.0,
              "#0d0887"
             ],
             [
              0.1111111111111111,
              "#46039f"
             ],
             [
              0.2222222222222222,
              "#7201a8"
             ],
             [
              0.3333333333333333,
              "#9c179e"
             ],
             [
              0.4444444444444444,
              "#bd3786"
             ],
             [
              0.5555555555555556,
              "#d8576b"
             ],
             [
              0.6666666666666666,
              "#ed7953"
             ],
             [
              0.7777777777777778,
              "#fb9f3a"
             ],
             [
              0.8888888888888888,
              "#fdca26"
             ],
             [
              1.0,
              "#f0f921"
             ]
            ]
           }
          ],
          "surface": [
           {
            "type": "surface",
            "colorbar": {
             "outlinewidth": 0,
             "ticks": ""
            },
            "colorscale": [
             [
              0.0,
              "#0d0887"
             ],
             [
              0.1111111111111111,
              "#46039f"
             ],
             [
              0.2222222222222222,
              "#7201a8"
             ],
             [
              0.3333333333333333,
              "#9c179e"
             ],
             [
              0.4444444444444444,
              "#bd3786"
             ],
             [
              0.5555555555555556,
              "#d8576b"
             ],
             [
              0.6666666666666666,
              "#ed7953"
             ],
             [
              0.7777777777777778,
              "#fb9f3a"
             ],
             [
              0.8888888888888888,
              "#fdca26"
             ],
             [
              1.0,
              "#f0f921"
             ]
            ]
           }
          ],
          "mesh3d": [
           {
            "type": "mesh3d",
            "colorbar": {
             "outlinewidth": 0,
             "ticks": ""
            }
           }
          ],
          "scatter": [
           {
            "marker": {
             "line": {
              "color": "#283442"
             }
            },
            "type": "scatter"
           }
          ],
          "parcoords": [
           {
            "type": "parcoords",
            "line": {
             "colorbar": {
              "outlinewidth": 0,
              "ticks": ""
             }
            }
           }
          ],
          "scatterpolargl": [
           {
            "type": "scatterpolargl",
            "marker": {
             "colorbar": {
              "outlinewidth": 0,
              "ticks": ""
             }
            }
           }
          ],
          "bar": [
           {
            "error_x": {
             "color": "#f2f5fa"
            },
            "error_y": {
             "color": "#f2f5fa"
            },
            "marker": {
             "line": {
              "color": "rgb(17,17,17)",
              "width": 0.5
             },
             "pattern": {
              "fillmode": "overlay",
              "size": 10,
              "solidity": 0.2
             }
            },
            "type": "bar"
           }
          ],
          "scattergeo": [
           {
            "type": "scattergeo",
            "marker": {
             "colorbar": {
              "outlinewidth": 0,
              "ticks": ""
             }
            }
           }
          ],
          "scatterpolar": [
           {
            "type": "scatterpolar",
            "marker": {
             "colorbar": {
              "outlinewidth": 0,
              "ticks": ""
             }
            }
           }
          ],
          "histogram": [
           {
            "marker": {
             "pattern": {
              "fillmode": "overlay",
              "size": 10,
              "solidity": 0.2
             }
            },
            "type": "histogram"
           }
          ],
          "scattergl": [
           {
            "marker": {
             "line": {
              "color": "#283442"
             }
            },
            "type": "scattergl"
           }
          ],
          "scatter3d": [
           {
            "type": "scatter3d",
            "line": {
             "colorbar": {
              "outlinewidth": 0,
              "ticks": ""
             }
            },
            "marker": {
             "colorbar": {
              "outlinewidth": 0,
              "ticks": ""
             }
            }
           }
          ],
          "scattermap": [
           {
            "type": "scattermap",
            "marker": {
             "colorbar": {
              "outlinewidth": 0,
              "ticks": ""
             }
            }
           }
          ],
          "scattermapbox": [
           {
            "type": "scattermapbox",
            "marker": {
             "colorbar": {
              "outlinewidth": 0,
              "ticks": ""
             }
            }
           }
          ],
          "scatterternary": [
           {
            "type": "scatterternary",
            "marker": {
             "colorbar": {
              "outlinewidth": 0,
              "ticks": ""
             }
            }
           }
          ],
          "scattercarpet": [
           {
            "type": "scattercarpet",
            "marker": {
             "colorbar": {
              "outlinewidth": 0,
              "ticks": ""
             }
            }
           }
          ],
          "carpet": [
           {
            "aaxis": {
             "endlinecolor": "#A2B1C6",
             "gridcolor": "#506784",
             "linecolor": "#506784",
             "minorgridcolor": "#506784",
             "startlinecolor": "#A2B1C6"
            },
            "baxis": {
             "endlinecolor": "#A2B1C6",
             "gridcolor": "#506784",
             "linecolor": "#506784",
             "minorgridcolor": "#506784",
             "startlinecolor": "#A2B1C6"
            },
            "type": "carpet"
           }
          ],
          "table": [
           {
            "cells": {
             "fill": {
              "color": "#506784"
             },
             "line": {
              "color": "rgb(17,17,17)"
             }
            },
            "header": {
             "fill": {
              "color": "#2a3f5f"
             },
             "line": {
              "color": "rgb(17,17,17)"
             }
            },
            "type": "table"
           }
          ],
          "barpolar": [
           {
            "marker": {
             "line": {
              "color": "rgb(17,17,17)",
              "width": 0.5
             },
             "pattern": {
              "fillmode": "overlay",
              "size": 10,
              "solidity": 0.2
             }
            },
            "type": "barpolar"
           }
          ],
          "pie": [
           {
            "automargin": true,
            "type": "pie"
           }
          ]
         },
         "layout": {
          "autotypenumbers": "strict",
          "colorway": [
           "#636efa",
           "#EF553B",
           "#00cc96",
           "#ab63fa",
           "#FFA15A",
           "#19d3f3",
           "#FF6692",
           "#B6E880",
           "#FF97FF",
           "#FECB52"
          ],
          "font": {
           "color": "#f2f5fa"
          },
          "hovermode": "closest",
          "hoverlabel": {
           "align": "left"
          },
          "paper_bgcolor": "rgb(17,17,17)",
          "plot_bgcolor": "rgb(17,17,17)",
          "polar": {
           "bgcolor": "rgb(17,17,17)",
           "angularaxis": {
            "gridcolor": "#506784",
            "linecolor": "#506784",
            "ticks": ""
           },
           "radialaxis": {
            "gridcolor": "#506784",
            "linecolor": "#506784",
            "ticks": ""
           }
          },
          "ternary": {
           "bgcolor": "rgb(17,17,17)",
           "aaxis": {
            "gridcolor": "#506784",
            "linecolor": "#506784",
            "ticks": ""
           },
           "baxis": {
            "gridcolor": "#506784",
            "linecolor": "#506784",
            "ticks": ""
           },
           "caxis": {
            "gridcolor": "#506784",
            "linecolor": "#506784",
            "ticks": ""
           }
          },
          "coloraxis": {
           "colorbar": {
            "outlinewidth": 0,
            "ticks": ""
           }
          },
          "colorscale": {
           "sequential": [
            [
             0.0,
             "#0d0887"
            ],
            [
             0.1111111111111111,
             "#46039f"
            ],
            [
             0.2222222222222222,
             "#7201a8"
            ],
            [
             0.3333333333333333,
             "#9c179e"
            ],
            [
             0.4444444444444444,
             "#bd3786"
            ],
            [
             0.5555555555555556,
             "#d8576b"
            ],
            [
             0.6666666666666666,
             "#ed7953"
            ],
            [
             0.7777777777777778,
             "#fb9f3a"
            ],
            [
             0.8888888888888888,
             "#fdca26"
            ],
            [
             1.0,
             "#f0f921"
            ]
           ],
           "sequentialminus": [
            [
             0.0,
             "#0d0887"
            ],
            [
             0.1111111111111111,
             "#46039f"
            ],
            [
             0.2222222222222222,
             "#7201a8"
            ],
            [
             0.3333333333333333,
             "#9c179e"
            ],
            [
             0.4444444444444444,
             "#bd3786"
            ],
            [
             0.5555555555555556,
             "#d8576b"
            ],
            [
             0.6666666666666666,
             "#ed7953"
            ],
            [
             0.7777777777777778,
             "#fb9f3a"
            ],
            [
             0.8888888888888888,
             "#fdca26"
            ],
            [
             1.0,
             "#f0f921"
            ]
           ],
           "diverging": [
            [
             0,
             "#8e0152"
            ],
            [
             0.1,
             "#c51b7d"
            ],
            [
             0.2,
             "#de77ae"
            ],
            [
             0.3,
             "#f1b6da"
            ],
            [
             0.4,
             "#fde0ef"
            ],
            [
             0.5,
             "#f7f7f7"
            ],
            [
             0.6,
             "#e6f5d0"
            ],
            [
             0.7,
             "#b8e186"
            ],
            [
             0.8,
             "#7fbc41"
            ],
            [
             0.9,
             "#4d9221"
            ],
            [
             1,
             "#276419"
            ]
           ]
          },
          "xaxis": {
           "gridcolor": "#283442",
           "linecolor": "#506784",
           "ticks": "",
           "title": {
            "standoff": 15
           },
           "zerolinecolor": "#283442",
           "automargin": true,
           "zerolinewidth": 2
          },
          "yaxis": {
           "gridcolor": "#283442",
           "linecolor": "#506784",
           "ticks": "",
           "title": {
            "standoff": 15
           },
           "zerolinecolor": "#283442",
           "automargin": true,
           "zerolinewidth": 2
          },
          "scene": {
           "xaxis": {
            "backgroundcolor": "rgb(17,17,17)",
            "gridcolor": "#506784",
            "linecolor": "#506784",
            "showbackground": true,
            "ticks": "",
            "zerolinecolor": "#C8D4E3",
            "gridwidth": 2
           },
           "yaxis": {
            "backgroundcolor": "rgb(17,17,17)",
            "gridcolor": "#506784",
            "linecolor": "#506784",
            "showbackground": true,
            "ticks": "",
            "zerolinecolor": "#C8D4E3",
            "gridwidth": 2
           },
           "zaxis": {
            "backgroundcolor": "rgb(17,17,17)",
            "gridcolor": "#506784",
            "linecolor": "#506784",
            "showbackground": true,
            "ticks": "",
            "zerolinecolor": "#C8D4E3",
            "gridwidth": 2
           }
          },
          "shapedefaults": {
           "line": {
            "color": "#f2f5fa"
           }
          },
          "annotationdefaults": {
           "arrowcolor": "#f2f5fa",
           "arrowhead": 0,
           "arrowwidth": 1
          },
          "geo": {
           "bgcolor": "rgb(17,17,17)",
           "landcolor": "rgb(17,17,17)",
           "subunitcolor": "#506784",
           "showland": true,
           "showlakes": true,
           "lakecolor": "rgb(17,17,17)"
          },
          "title": {
           "x": 0.05
          },
          "updatemenudefaults": {
           "bgcolor": "#506784",
           "borderwidth": 0
          },
          "sliderdefaults": {
           "bgcolor": "#C8D4E3",
           "borderwidth": 1,
           "bordercolor": "rgb(17,17,17)",
           "tickwidth": 0
          },
          "mapbox": {
           "style": "dark"
          }
         }
        },
        "xaxis": {
         "anchor": "y",
         "domain": [
          0.0,
          1.0
         ],
         "title": {
          "text": "day"
         }
        },
        "yaxis": {
         "anchor": "x",
         "domain": [
          0.0,
          1.0
         ],
         "title": {
          "text": "Count"
         }
        },
        "legend": {
         "title": {
          "text": "Attendance"
         },
         "tracegroupgap": 0
        },
        "title": {
         "text": "Attendance vs Absence by Day of Week",
         "font": {
          "size": 20,
          "color": "#ff6347"
         },
         "x": 0.5
        },
        "barmode": "group",
        "height": 450
       },
       "config": {
        "plotlyServerURL": "https://plot.ly"
       }
      }
     },
     "metadata": {},
     "output_type": "display_data"
    }
   ],
   "execution_count": 251
  },
  {
   "metadata": {},
   "cell_type": "markdown",
   "source": "#### Effect of Delay Between Scheduling and Appointment on Attendance"
  },
  {
   "metadata": {
    "ExecuteTime": {
     "end_time": "2025-08-08T08:53:54.051283Z",
     "start_time": "2025-08-08T08:53:53.976498Z"
    }
   },
   "cell_type": "code",
   "source": [
    "fig_dealy = px.histogram(\n",
    "    df,\n",
    "    x='DelayDays',\n",
    "    color='Attendance',\n",
    "    nbins=30,\n",
    "    barmode='overlay',\n",
    "    title='Effect of Delay Between Scheduling and Appointment on Attendance',\n",
    "    color_discrete_sequence=colors_delay_appointments,\n",
    "    template=template_style\n",
    ")\n",
    "fig_dealy.update_layout(\n",
    "    height=450,\n",
    "    title_font=dict(size=20, color=colors_delay_appointments[0]),\n",
    "    title_x=0.5\n",
    ")\n"
   ],
   "outputs": [
    {
     "data": {
      "application/vnd.plotly.v1+json": {
       "data": [
        {
         "bingroup": "x",
         "hovertemplate": "Attendance=Yes<br>DelayDays=%{x}<br>count=%{y}<extra></extra>",
         "legendgroup": "Yes",
         "marker": {
          "color": "#ff33ff",
          "opacity": 0.5,
          "pattern": {
           "shape": ""
          }
         },
         "name": "Yes",
         "nbinsx": 30,
         "orientation": "v",
         "showlegend": true,
         "x": {
          "dtype": "i2",
          "bdata": "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"
         },
         "xaxis": "x",
         "yaxis": "y",
         "type": "histogram"
        },
        {
         "bingroup": "x",
         "hovertemplate": "Attendance=No<br>DelayDays=%{x}<br>count=%{y}<extra></extra>",
         "legendgroup": "No",
         "marker": {
          "color": "#00ff66",
          "opacity": 0.5,
          "pattern": {
           "shape": ""
          }
         },
         "name": "No",
         "nbinsx": 30,
         "orientation": "v",
         "showlegend": true,
         "x": {
          "dtype": "i2",
          "bdata": "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"
         },
         "xaxis": "x",
         "yaxis": "y",
         "type": "histogram"
        }
       ],
       "layout": {
        "template": {
         "data": {
          "histogram2dcontour": [
           {
            "type": "histogram2dcontour",
            "colorbar": {
             "outlinewidth": 0,
             "ticks": ""
            },
            "colorscale": [
             [
              0.0,
              "#0d0887"
             ],
             [
              0.1111111111111111,
              "#46039f"
             ],
             [
              0.2222222222222222,
              "#7201a8"
             ],
             [
              0.3333333333333333,
              "#9c179e"
             ],
             [
              0.4444444444444444,
              "#bd3786"
             ],
             [
              0.5555555555555556,
              "#d8576b"
             ],
             [
              0.6666666666666666,
              "#ed7953"
             ],
             [
              0.7777777777777778,
              "#fb9f3a"
             ],
             [
              0.8888888888888888,
              "#fdca26"
             ],
             [
              1.0,
              "#f0f921"
             ]
            ]
           }
          ],
          "choropleth": [
           {
            "type": "choropleth",
            "colorbar": {
             "outlinewidth": 0,
             "ticks": ""
            }
           }
          ],
          "histogram2d": [
           {
            "type": "histogram2d",
            "colorbar": {
             "outlinewidth": 0,
             "ticks": ""
            },
            "colorscale": [
             [
              0.0,
              "#0d0887"
             ],
             [
              0.1111111111111111,
              "#46039f"
             ],
             [
              0.2222222222222222,
              "#7201a8"
             ],
             [
              0.3333333333333333,
              "#9c179e"
             ],
             [
              0.4444444444444444,
              "#bd3786"
             ],
             [
              0.5555555555555556,
              "#d8576b"
             ],
             [
              0.6666666666666666,
              "#ed7953"
             ],
             [
              0.7777777777777778,
              "#fb9f3a"
             ],
             [
              0.8888888888888888,
              "#fdca26"
             ],
             [
              1.0,
              "#f0f921"
             ]
            ]
           }
          ],
          "heatmap": [
           {
            "type": "heatmap",
            "colorbar": {
             "outlinewidth": 0,
             "ticks": ""
            },
            "colorscale": [
             [
              0.0,
              "#0d0887"
             ],
             [
              0.1111111111111111,
              "#46039f"
             ],
             [
              0.2222222222222222,
              "#7201a8"
             ],
             [
              0.3333333333333333,
              "#9c179e"
             ],
             [
              0.4444444444444444,
              "#bd3786"
             ],
             [
              0.5555555555555556,
              "#d8576b"
             ],
             [
              0.6666666666666666,
              "#ed7953"
             ],
             [
              0.7777777777777778,
              "#fb9f3a"
             ],
             [
              0.8888888888888888,
              "#fdca26"
             ],
             [
              1.0,
              "#f0f921"
             ]
            ]
           }
          ],
          "contourcarpet": [
           {
            "type": "contourcarpet",
            "colorbar": {
             "outlinewidth": 0,
             "ticks": ""
            }
           }
          ],
          "contour": [
           {
            "type": "contour",
            "colorbar": {
             "outlinewidth": 0,
             "ticks": ""
            },
            "colorscale": [
             [
              0.0,
              "#0d0887"
             ],
             [
              0.1111111111111111,
              "#46039f"
             ],
             [
              0.2222222222222222,
              "#7201a8"
             ],
             [
              0.3333333333333333,
              "#9c179e"
             ],
             [
              0.4444444444444444,
              "#bd3786"
             ],
             [
              0.5555555555555556,
              "#d8576b"
             ],
             [
              0.6666666666666666,
              "#ed7953"
             ],
             [
              0.7777777777777778,
              "#fb9f3a"
             ],
             [
              0.8888888888888888,
              "#fdca26"
             ],
             [
              1.0,
              "#f0f921"
             ]
            ]
           }
          ],
          "surface": [
           {
            "type": "surface",
            "colorbar": {
             "outlinewidth": 0,
             "ticks": ""
            },
            "colorscale": [
             [
              0.0,
              "#0d0887"
             ],
             [
              0.1111111111111111,
              "#46039f"
             ],
             [
              0.2222222222222222,
              "#7201a8"
             ],
             [
              0.3333333333333333,
              "#9c179e"
             ],
             [
              0.4444444444444444,
              "#bd3786"
             ],
             [
              0.5555555555555556,
              "#d8576b"
             ],
             [
              0.6666666666666666,
              "#ed7953"
             ],
             [
              0.7777777777777778,
              "#fb9f3a"
             ],
             [
              0.8888888888888888,
              "#fdca26"
             ],
             [
              1.0,
              "#f0f921"
             ]
            ]
           }
          ],
          "mesh3d": [
           {
            "type": "mesh3d",
            "colorbar": {
             "outlinewidth": 0,
             "ticks": ""
            }
           }
          ],
          "scatter": [
           {
            "marker": {
             "line": {
              "color": "#283442"
             }
            },
            "type": "scatter"
           }
          ],
          "parcoords": [
           {
            "type": "parcoords",
            "line": {
             "colorbar": {
              "outlinewidth": 0,
              "ticks": ""
             }
            }
           }
          ],
          "scatterpolargl": [
           {
            "type": "scatterpolargl",
            "marker": {
             "colorbar": {
              "outlinewidth": 0,
              "ticks": ""
             }
            }
           }
          ],
          "bar": [
           {
            "error_x": {
             "color": "#f2f5fa"
            },
            "error_y": {
             "color": "#f2f5fa"
            },
            "marker": {
             "line": {
              "color": "rgb(17,17,17)",
              "width": 0.5
             },
             "pattern": {
              "fillmode": "overlay",
              "size": 10,
              "solidity": 0.2
             }
            },
            "type": "bar"
           }
          ],
          "scattergeo": [
           {
            "type": "scattergeo",
            "marker": {
             "colorbar": {
              "outlinewidth": 0,
              "ticks": ""
             }
            }
           }
          ],
          "scatterpolar": [
           {
            "type": "scatterpolar",
            "marker": {
             "colorbar": {
              "outlinewidth": 0,
              "ticks": ""
             }
            }
           }
          ],
          "histogram": [
           {
            "marker": {
             "pattern": {
              "fillmode": "overlay",
              "size": 10,
              "solidity": 0.2
             }
            },
            "type": "histogram"
           }
          ],
          "scattergl": [
           {
            "marker": {
             "line": {
              "color": "#283442"
             }
            },
            "type": "scattergl"
           }
          ],
          "scatter3d": [
           {
            "type": "scatter3d",
            "line": {
             "colorbar": {
              "outlinewidth": 0,
              "ticks": ""
             }
            },
            "marker": {
             "colorbar": {
              "outlinewidth": 0,
              "ticks": ""
             }
            }
           }
          ],
          "scattermap": [
           {
            "type": "scattermap",
            "marker": {
             "colorbar": {
              "outlinewidth": 0,
              "ticks": ""
             }
            }
           }
          ],
          "scattermapbox": [
           {
            "type": "scattermapbox",
            "marker": {
             "colorbar": {
              "outlinewidth": 0,
              "ticks": ""
             }
            }
           }
          ],
          "scatterternary": [
           {
            "type": "scatterternary",
            "marker": {
             "colorbar": {
              "outlinewidth": 0,
              "ticks": ""
             }
            }
           }
          ],
          "scattercarpet": [
           {
            "type": "scattercarpet",
            "marker": {
             "colorbar": {
              "outlinewidth": 0,
              "ticks": ""
             }
            }
           }
          ],
          "carpet": [
           {
            "aaxis": {
             "endlinecolor": "#A2B1C6",
             "gridcolor": "#506784",
             "linecolor": "#506784",
             "minorgridcolor": "#506784",
             "startlinecolor": "#A2B1C6"
            },
            "baxis": {
             "endlinecolor": "#A2B1C6",
             "gridcolor": "#506784",
             "linecolor": "#506784",
             "minorgridcolor": "#506784",
             "startlinecolor": "#A2B1C6"
            },
            "type": "carpet"
           }
          ],
          "table": [
           {
            "cells": {
             "fill": {
              "color": "#506784"
             },
             "line": {
              "color": "rgb(17,17,17)"
             }
            },
            "header": {
             "fill": {
              "color": "#2a3f5f"
             },
             "line": {
              "color": "rgb(17,17,17)"
             }
            },
            "type": "table"
           }
          ],
          "barpolar": [
           {
            "marker": {
             "line": {
              "color": "rgb(17,17,17)",
              "width": 0.5
             },
             "pattern": {
              "fillmode": "overlay",
              "size": 10,
              "solidity": 0.2
             }
            },
            "type": "barpolar"
           }
          ],
          "pie": [
           {
            "automargin": true,
            "type": "pie"
           }
          ]
         },
         "layout": {
          "autotypenumbers": "strict",
          "colorway": [
           "#636efa",
           "#EF553B",
           "#00cc96",
           "#ab63fa",
           "#FFA15A",
           "#19d3f3",
           "#FF6692",
           "#B6E880",
           "#FF97FF",
           "#FECB52"
          ],
          "font": {
           "color": "#f2f5fa"
          },
          "hovermode": "closest",
          "hoverlabel": {
           "align": "left"
          },
          "paper_bgcolor": "rgb(17,17,17)",
          "plot_bgcolor": "rgb(17,17,17)",
          "polar": {
           "bgcolor": "rgb(17,17,17)",
           "angularaxis": {
            "gridcolor": "#506784",
            "linecolor": "#506784",
            "ticks": ""
           },
           "radialaxis": {
            "gridcolor": "#506784",
            "linecolor": "#506784",
            "ticks": ""
           }
          },
          "ternary": {
           "bgcolor": "rgb(17,17,17)",
           "aaxis": {
            "gridcolor": "#506784",
            "linecolor": "#506784",
            "ticks": ""
           },
           "baxis": {
            "gridcolor": "#506784",
            "linecolor": "#506784",
            "ticks": ""
           },
           "caxis": {
            "gridcolor": "#506784",
            "linecolor": "#506784",
            "ticks": ""
           }
          },
          "coloraxis": {
           "colorbar": {
            "outlinewidth": 0,
            "ticks": ""
           }
          },
          "colorscale": {
           "sequential": [
            [
             0.0,
             "#0d0887"
            ],
            [
             0.1111111111111111,
             "#46039f"
            ],
            [
             0.2222222222222222,
             "#7201a8"
            ],
            [
             0.3333333333333333,
             "#9c179e"
            ],
            [
             0.4444444444444444,
             "#bd3786"
            ],
            [
             0.5555555555555556,
             "#d8576b"
            ],
            [
             0.6666666666666666,
             "#ed7953"
            ],
            [
             0.7777777777777778,
             "#fb9f3a"
            ],
            [
             0.8888888888888888,
             "#fdca26"
            ],
            [
             1.0,
             "#f0f921"
            ]
           ],
           "sequentialminus": [
            [
             0.0,
             "#0d0887"
            ],
            [
             0.1111111111111111,
             "#46039f"
            ],
            [
             0.2222222222222222,
             "#7201a8"
            ],
            [
             0.3333333333333333,
             "#9c179e"
            ],
            [
             0.4444444444444444,
             "#bd3786"
            ],
            [
             0.5555555555555556,
             "#d8576b"
            ],
            [
             0.6666666666666666,
             "#ed7953"
            ],
            [
             0.7777777777777778,
             "#fb9f3a"
            ],
            [
             0.8888888888888888,
             "#fdca26"
            ],
            [
             1.0,
             "#f0f921"
            ]
           ],
           "diverging": [
            [
             0,
             "#8e0152"
            ],
            [
             0.1,
             "#c51b7d"
            ],
            [
             0.2,
             "#de77ae"
            ],
            [
             0.3,
             "#f1b6da"
            ],
            [
             0.4,
             "#fde0ef"
            ],
            [
             0.5,
             "#f7f7f7"
            ],
            [
             0.6,
             "#e6f5d0"
            ],
            [
             0.7,
             "#b8e186"
            ],
            [
             0.8,
             "#7fbc41"
            ],
            [
             0.9,
             "#4d9221"
            ],
            [
             1,
             "#276419"
            ]
           ]
          },
          "xaxis": {
           "gridcolor": "#283442",
           "linecolor": "#506784",
           "ticks": "",
           "title": {
            "standoff": 15
           },
           "zerolinecolor": "#283442",
           "automargin": true,
           "zerolinewidth": 2
          },
          "yaxis": {
           "gridcolor": "#283442",
           "linecolor": "#506784",
           "ticks": "",
           "title": {
            "standoff": 15
           },
           "zerolinecolor": "#283442",
           "automargin": true,
           "zerolinewidth": 2
          },
          "scene": {
           "xaxis": {
            "backgroundcolor": "rgb(17,17,17)",
            "gridcolor": "#506784",
            "linecolor": "#506784",
            "showbackground": true,
            "ticks": "",
            "zerolinecolor": "#C8D4E3",
            "gridwidth": 2
           },
           "yaxis": {
            "backgroundcolor": "rgb(17,17,17)",
            "gridcolor": "#506784",
            "linecolor": "#506784",
            "showbackground": true,
            "ticks": "",
            "zerolinecolor": "#C8D4E3",
            "gridwidth": 2
           },
           "zaxis": {
            "backgroundcolor": "rgb(17,17,17)",
            "gridcolor": "#506784",
            "linecolor": "#506784",
            "showbackground": true,
            "ticks": "",
            "zerolinecolor": "#C8D4E3",
            "gridwidth": 2
           }
          },
          "shapedefaults": {
           "line": {
            "color": "#f2f5fa"
           }
          },
          "annotationdefaults": {
           "arrowcolor": "#f2f5fa",
           "arrowhead": 0,
           "arrowwidth": 1
          },
          "geo": {
           "bgcolor": "rgb(17,17,17)",
           "landcolor": "rgb(17,17,17)",
           "subunitcolor": "#506784",
           "showland": true,
           "showlakes": true,
           "lakecolor": "rgb(17,17,17)"
          },
          "title": {
           "x": 0.05
          },
          "updatemenudefaults": {
           "bgcolor": "#506784",
           "borderwidth": 0
          },
          "sliderdefaults": {
           "bgcolor": "#C8D4E3",
           "borderwidth": 1,
           "bordercolor": "rgb(17,17,17)",
           "tickwidth": 0
          },
          "mapbox": {
           "style": "dark"
          }
         }
        },
        "xaxis": {
         "anchor": "y",
         "domain": [
          0.0,
          1.0
         ],
         "title": {
          "text": "DelayDays"
         }
        },
        "yaxis": {
         "anchor": "x",
         "domain": [
          0.0,
          1.0
         ],
         "title": {
          "text": "count"
         }
        },
        "legend": {
         "title": {
          "text": "Attendance"
         },
         "tracegroupgap": 0
        },
        "title": {
         "text": "Effect of Delay Between Scheduling and Appointment on Attendance",
         "font": {
          "size": 20,
          "color": "#ff33ff"
         },
         "x": 0.5
        },
        "barmode": "overlay",
        "height": 450
       },
       "config": {
        "plotlyServerURL": "https://plot.ly"
       }
      }
     },
     "metadata": {},
     "output_type": "display_data"
    }
   ],
   "execution_count": 252
  },
  {
   "metadata": {},
   "cell_type": "markdown",
   "source": "#### SMS"
  },
  {
   "metadata": {
    "ExecuteTime": {
     "end_time": "2025-08-08T08:53:54.094946Z",
     "start_time": "2025-08-08T08:53:54.076849Z"
    }
   },
   "cell_type": "code",
   "source": "sms_effect = df.groupby(['SMS_received', 'Attendance'], observed=True).size().reset_index(name='Count')\n",
   "outputs": [],
   "execution_count": 253
  },
  {
   "metadata": {
    "ExecuteTime": {
     "end_time": "2025-08-08T08:53:54.157821Z",
     "start_time": "2025-08-08T08:53:54.103696Z"
    }
   },
   "cell_type": "code",
   "source": [
    "fig_sms = px.line(\n",
    "    sms_effect,\n",
    "    x='SMS_received',\n",
    "    y='Count',\n",
    "    color='Attendance',\n",
    "    title='Attendance vs SMS Delay',\n",
    "    markers=True,\n",
    "    color_discrete_map={'Yes': 'green', 'No': 'red'},\n",
    "    color_discrete_sequence=color_disease,\n",
    "    template=template_style\n",
    ")\n",
    "fig_sms.update_layout(\n",
    "    height=450,\n",
    "    title_font=dict(size=20, color=color_disease[0]),\n",
    "    title_x=0.5\n",
    ")"
   ],
   "outputs": [
    {
     "data": {
      "application/vnd.plotly.v1+json": {
       "data": [
        {
         "hovertemplate": "Attendance=No<br>SMS_received=%{x}<br>Count=%{y}<extra></extra>",
         "legendgroup": "No",
         "line": {
          "color": "red",
          "dash": "solid"
         },
         "marker": {
          "symbol": "circle"
         },
         "mode": "lines+markers",
         "name": "No",
         "orientation": "v",
         "showlegend": true,
         "x": {
          "dtype": "i1",
          "bdata": "AAE="
         },
         "xaxis": "x",
         "y": {
          "dtype": "i2",
          "bdata": "TS9gJQ=="
         },
         "yaxis": "y",
         "type": "scatter"
        },
        {
         "hovertemplate": "Attendance=Yes<br>SMS_received=%{x}<br>Count=%{y}<extra></extra>",
         "legendgroup": "Yes",
         "line": {
          "color": "green",
          "dash": "solid"
         },
         "marker": {
          "symbol": "circle"
         },
         "mode": "lines+markers",
         "name": "Yes",
         "orientation": "v",
         "showlegend": true,
         "x": {
          "dtype": "i1",
          "bdata": "AAE="
         },
         "xaxis": "x",
         "y": {
          "dtype": "i4",
          "bdata": "f+sAALhhAAA="
         },
         "yaxis": "y",
         "type": "scatter"
        }
       ],
       "layout": {
        "template": {
         "data": {
          "histogram2dcontour": [
           {
            "type": "histogram2dcontour",
            "colorbar": {
             "outlinewidth": 0,
             "ticks": ""
            },
            "colorscale": [
             [
              0.0,
              "#0d0887"
             ],
             [
              0.1111111111111111,
              "#46039f"
             ],
             [
              0.2222222222222222,
              "#7201a8"
             ],
             [
              0.3333333333333333,
              "#9c179e"
             ],
             [
              0.4444444444444444,
              "#bd3786"
             ],
             [
              0.5555555555555556,
              "#d8576b"
             ],
             [
              0.6666666666666666,
              "#ed7953"
             ],
             [
              0.7777777777777778,
              "#fb9f3a"
             ],
             [
              0.8888888888888888,
              "#fdca26"
             ],
             [
              1.0,
              "#f0f921"
             ]
            ]
           }
          ],
          "choropleth": [
           {
            "type": "choropleth",
            "colorbar": {
             "outlinewidth": 0,
             "ticks": ""
            }
           }
          ],
          "histogram2d": [
           {
            "type": "histogram2d",
            "colorbar": {
             "outlinewidth": 0,
             "ticks": ""
            },
            "colorscale": [
             [
              0.0,
              "#0d0887"
             ],
             [
              0.1111111111111111,
              "#46039f"
             ],
             [
              0.2222222222222222,
              "#7201a8"
             ],
             [
              0.3333333333333333,
              "#9c179e"
             ],
             [
              0.4444444444444444,
              "#bd3786"
             ],
             [
              0.5555555555555556,
              "#d8576b"
             ],
             [
              0.6666666666666666,
              "#ed7953"
             ],
             [
              0.7777777777777778,
              "#fb9f3a"
             ],
             [
              0.8888888888888888,
              "#fdca26"
             ],
             [
              1.0,
              "#f0f921"
             ]
            ]
           }
          ],
          "heatmap": [
           {
            "type": "heatmap",
            "colorbar": {
             "outlinewidth": 0,
             "ticks": ""
            },
            "colorscale": [
             [
              0.0,
              "#0d0887"
             ],
             [
              0.1111111111111111,
              "#46039f"
             ],
             [
              0.2222222222222222,
              "#7201a8"
             ],
             [
              0.3333333333333333,
              "#9c179e"
             ],
             [
              0.4444444444444444,
              "#bd3786"
             ],
             [
              0.5555555555555556,
              "#d8576b"
             ],
             [
              0.6666666666666666,
              "#ed7953"
             ],
             [
              0.7777777777777778,
              "#fb9f3a"
             ],
             [
              0.8888888888888888,
              "#fdca26"
             ],
             [
              1.0,
              "#f0f921"
             ]
            ]
           }
          ],
          "contourcarpet": [
           {
            "type": "contourcarpet",
            "colorbar": {
             "outlinewidth": 0,
             "ticks": ""
            }
           }
          ],
          "contour": [
           {
            "type": "contour",
            "colorbar": {
             "outlinewidth": 0,
             "ticks": ""
            },
            "colorscale": [
             [
              0.0,
              "#0d0887"
             ],
             [
              0.1111111111111111,
              "#46039f"
             ],
             [
              0.2222222222222222,
              "#7201a8"
             ],
             [
              0.3333333333333333,
              "#9c179e"
             ],
             [
              0.4444444444444444,
              "#bd3786"
             ],
             [
              0.5555555555555556,
              "#d8576b"
             ],
             [
              0.6666666666666666,
              "#ed7953"
             ],
             [
              0.7777777777777778,
              "#fb9f3a"
             ],
             [
              0.8888888888888888,
              "#fdca26"
             ],
             [
              1.0,
              "#f0f921"
             ]
            ]
           }
          ],
          "surface": [
           {
            "type": "surface",
            "colorbar": {
             "outlinewidth": 0,
             "ticks": ""
            },
            "colorscale": [
             [
              0.0,
              "#0d0887"
             ],
             [
              0.1111111111111111,
              "#46039f"
             ],
             [
              0.2222222222222222,
              "#7201a8"
             ],
             [
              0.3333333333333333,
              "#9c179e"
             ],
             [
              0.4444444444444444,
              "#bd3786"
             ],
             [
              0.5555555555555556,
              "#d8576b"
             ],
             [
              0.6666666666666666,
              "#ed7953"
             ],
             [
              0.7777777777777778,
              "#fb9f3a"
             ],
             [
              0.8888888888888888,
              "#fdca26"
             ],
             [
              1.0,
              "#f0f921"
             ]
            ]
           }
          ],
          "mesh3d": [
           {
            "type": "mesh3d",
            "colorbar": {
             "outlinewidth": 0,
             "ticks": ""
            }
           }
          ],
          "scatter": [
           {
            "marker": {
             "line": {
              "color": "#283442"
             }
            },
            "type": "scatter"
           }
          ],
          "parcoords": [
           {
            "type": "parcoords",
            "line": {
             "colorbar": {
              "outlinewidth": 0,
              "ticks": ""
             }
            }
           }
          ],
          "scatterpolargl": [
           {
            "type": "scatterpolargl",
            "marker": {
             "colorbar": {
              "outlinewidth": 0,
              "ticks": ""
             }
            }
           }
          ],
          "bar": [
           {
            "error_x": {
             "color": "#f2f5fa"
            },
            "error_y": {
             "color": "#f2f5fa"
            },
            "marker": {
             "line": {
              "color": "rgb(17,17,17)",
              "width": 0.5
             },
             "pattern": {
              "fillmode": "overlay",
              "size": 10,
              "solidity": 0.2
             }
            },
            "type": "bar"
           }
          ],
          "scattergeo": [
           {
            "type": "scattergeo",
            "marker": {
             "colorbar": {
              "outlinewidth": 0,
              "ticks": ""
             }
            }
           }
          ],
          "scatterpolar": [
           {
            "type": "scatterpolar",
            "marker": {
             "colorbar": {
              "outlinewidth": 0,
              "ticks": ""
             }
            }
           }
          ],
          "histogram": [
           {
            "marker": {
             "pattern": {
              "fillmode": "overlay",
              "size": 10,
              "solidity": 0.2
             }
            },
            "type": "histogram"
           }
          ],
          "scattergl": [
           {
            "marker": {
             "line": {
              "color": "#283442"
             }
            },
            "type": "scattergl"
           }
          ],
          "scatter3d": [
           {
            "type": "scatter3d",
            "line": {
             "colorbar": {
              "outlinewidth": 0,
              "ticks": ""
             }
            },
            "marker": {
             "colorbar": {
              "outlinewidth": 0,
              "ticks": ""
             }
            }
           }
          ],
          "scattermap": [
           {
            "type": "scattermap",
            "marker": {
             "colorbar": {
              "outlinewidth": 0,
              "ticks": ""
             }
            }
           }
          ],
          "scattermapbox": [
           {
            "type": "scattermapbox",
            "marker": {
             "colorbar": {
              "outlinewidth": 0,
              "ticks": ""
             }
            }
           }
          ],
          "scatterternary": [
           {
            "type": "scatterternary",
            "marker": {
             "colorbar": {
              "outlinewidth": 0,
              "ticks": ""
             }
            }
           }
          ],
          "scattercarpet": [
           {
            "type": "scattercarpet",
            "marker": {
             "colorbar": {
              "outlinewidth": 0,
              "ticks": ""
             }
            }
           }
          ],
          "carpet": [
           {
            "aaxis": {
             "endlinecolor": "#A2B1C6",
             "gridcolor": "#506784",
             "linecolor": "#506784",
             "minorgridcolor": "#506784",
             "startlinecolor": "#A2B1C6"
            },
            "baxis": {
             "endlinecolor": "#A2B1C6",
             "gridcolor": "#506784",
             "linecolor": "#506784",
             "minorgridcolor": "#506784",
             "startlinecolor": "#A2B1C6"
            },
            "type": "carpet"
           }
          ],
          "table": [
           {
            "cells": {
             "fill": {
              "color": "#506784"
             },
             "line": {
              "color": "rgb(17,17,17)"
             }
            },
            "header": {
             "fill": {
              "color": "#2a3f5f"
             },
             "line": {
              "color": "rgb(17,17,17)"
             }
            },
            "type": "table"
           }
          ],
          "barpolar": [
           {
            "marker": {
             "line": {
              "color": "rgb(17,17,17)",
              "width": 0.5
             },
             "pattern": {
              "fillmode": "overlay",
              "size": 10,
              "solidity": 0.2
             }
            },
            "type": "barpolar"
           }
          ],
          "pie": [
           {
            "automargin": true,
            "type": "pie"
           }
          ]
         },
         "layout": {
          "autotypenumbers": "strict",
          "colorway": [
           "#636efa",
           "#EF553B",
           "#00cc96",
           "#ab63fa",
           "#FFA15A",
           "#19d3f3",
           "#FF6692",
           "#B6E880",
           "#FF97FF",
           "#FECB52"
          ],
          "font": {
           "color": "#f2f5fa"
          },
          "hovermode": "closest",
          "hoverlabel": {
           "align": "left"
          },
          "paper_bgcolor": "rgb(17,17,17)",
          "plot_bgcolor": "rgb(17,17,17)",
          "polar": {
           "bgcolor": "rgb(17,17,17)",
           "angularaxis": {
            "gridcolor": "#506784",
            "linecolor": "#506784",
            "ticks": ""
           },
           "radialaxis": {
            "gridcolor": "#506784",
            "linecolor": "#506784",
            "ticks": ""
           }
          },
          "ternary": {
           "bgcolor": "rgb(17,17,17)",
           "aaxis": {
            "gridcolor": "#506784",
            "linecolor": "#506784",
            "ticks": ""
           },
           "baxis": {
            "gridcolor": "#506784",
            "linecolor": "#506784",
            "ticks": ""
           },
           "caxis": {
            "gridcolor": "#506784",
            "linecolor": "#506784",
            "ticks": ""
           }
          },
          "coloraxis": {
           "colorbar": {
            "outlinewidth": 0,
            "ticks": ""
           }
          },
          "colorscale": {
           "sequential": [
            [
             0.0,
             "#0d0887"
            ],
            [
             0.1111111111111111,
             "#46039f"
            ],
            [
             0.2222222222222222,
             "#7201a8"
            ],
            [
             0.3333333333333333,
             "#9c179e"
            ],
            [
             0.4444444444444444,
             "#bd3786"
            ],
            [
             0.5555555555555556,
             "#d8576b"
            ],
            [
             0.6666666666666666,
             "#ed7953"
            ],
            [
             0.7777777777777778,
             "#fb9f3a"
            ],
            [
             0.8888888888888888,
             "#fdca26"
            ],
            [
             1.0,
             "#f0f921"
            ]
           ],
           "sequentialminus": [
            [
             0.0,
             "#0d0887"
            ],
            [
             0.1111111111111111,
             "#46039f"
            ],
            [
             0.2222222222222222,
             "#7201a8"
            ],
            [
             0.3333333333333333,
             "#9c179e"
            ],
            [
             0.4444444444444444,
             "#bd3786"
            ],
            [
             0.5555555555555556,
             "#d8576b"
            ],
            [
             0.6666666666666666,
             "#ed7953"
            ],
            [
             0.7777777777777778,
             "#fb9f3a"
            ],
            [
             0.8888888888888888,
             "#fdca26"
            ],
            [
             1.0,
             "#f0f921"
            ]
           ],
           "diverging": [
            [
             0,
             "#8e0152"
            ],
            [
             0.1,
             "#c51b7d"
            ],
            [
             0.2,
             "#de77ae"
            ],
            [
             0.3,
             "#f1b6da"
            ],
            [
             0.4,
             "#fde0ef"
            ],
            [
             0.5,
             "#f7f7f7"
            ],
            [
             0.6,
             "#e6f5d0"
            ],
            [
             0.7,
             "#b8e186"
            ],
            [
             0.8,
             "#7fbc41"
            ],
            [
             0.9,
             "#4d9221"
            ],
            [
             1,
             "#276419"
            ]
           ]
          },
          "xaxis": {
           "gridcolor": "#283442",
           "linecolor": "#506784",
           "ticks": "",
           "title": {
            "standoff": 15
           },
           "zerolinecolor": "#283442",
           "automargin": true,
           "zerolinewidth": 2
          },
          "yaxis": {
           "gridcolor": "#283442",
           "linecolor": "#506784",
           "ticks": "",
           "title": {
            "standoff": 15
           },
           "zerolinecolor": "#283442",
           "automargin": true,
           "zerolinewidth": 2
          },
          "scene": {
           "xaxis": {
            "backgroundcolor": "rgb(17,17,17)",
            "gridcolor": "#506784",
            "linecolor": "#506784",
            "showbackground": true,
            "ticks": "",
            "zerolinecolor": "#C8D4E3",
            "gridwidth": 2
           },
           "yaxis": {
            "backgroundcolor": "rgb(17,17,17)",
            "gridcolor": "#506784",
            "linecolor": "#506784",
            "showbackground": true,
            "ticks": "",
            "zerolinecolor": "#C8D4E3",
            "gridwidth": 2
           },
           "zaxis": {
            "backgroundcolor": "rgb(17,17,17)",
            "gridcolor": "#506784",
            "linecolor": "#506784",
            "showbackground": true,
            "ticks": "",
            "zerolinecolor": "#C8D4E3",
            "gridwidth": 2
           }
          },
          "shapedefaults": {
           "line": {
            "color": "#f2f5fa"
           }
          },
          "annotationdefaults": {
           "arrowcolor": "#f2f5fa",
           "arrowhead": 0,
           "arrowwidth": 1
          },
          "geo": {
           "bgcolor": "rgb(17,17,17)",
           "landcolor": "rgb(17,17,17)",
           "subunitcolor": "#506784",
           "showland": true,
           "showlakes": true,
           "lakecolor": "rgb(17,17,17)"
          },
          "title": {
           "x": 0.05
          },
          "updatemenudefaults": {
           "bgcolor": "#506784",
           "borderwidth": 0
          },
          "sliderdefaults": {
           "bgcolor": "#C8D4E3",
           "borderwidth": 1,
           "bordercolor": "rgb(17,17,17)",
           "tickwidth": 0
          },
          "mapbox": {
           "style": "dark"
          }
         }
        },
        "xaxis": {
         "anchor": "y",
         "domain": [
          0.0,
          1.0
         ],
         "title": {
          "text": "SMS_received"
         }
        },
        "yaxis": {
         "anchor": "x",
         "domain": [
          0.0,
          1.0
         ],
         "title": {
          "text": "Count"
         }
        },
        "legend": {
         "title": {
          "text": "Attendance"
         },
         "tracegroupgap": 0
        },
        "title": {
         "text": "Attendance vs SMS Delay",
         "font": {
          "size": 20,
          "color": "#ff0066"
         },
         "x": 0.5
        },
        "height": 450
       },
       "config": {
        "plotlyServerURL": "https://plot.ly"
       }
      }
     },
     "metadata": {},
     "output_type": "display_data"
    }
   ],
   "execution_count": 254
  },
  {
   "metadata": {},
   "cell_type": "markdown",
   "source": ""
  },
  {
   "metadata": {
    "ExecuteTime": {
     "end_time": "2025-08-08T08:53:54.194267Z",
     "start_time": "2025-08-08T08:53:54.170424Z"
    }
   },
   "cell_type": "code",
   "source": "neighborhood_attendance = df.groupby(['Neighbourhood', 'Attendance'], observed=True).size().reset_index(name='Count')",
   "outputs": [],
   "execution_count": 255
  },
  {
   "metadata": {
    "ExecuteTime": {
     "end_time": "2025-08-08T08:53:54.262137Z",
     "start_time": "2025-08-08T08:53:54.204353Z"
    }
   },
   "cell_type": "code",
   "source": [
    "fig_neighborhood = px.bar(\n",
    "    neighborhood_attendance,\n",
    "    x='Neighbourhood',\n",
    "    y='Count',\n",
    "    color='Attendance',\n",
    "    barmode='group',\n",
    "    title='Attendance by Neighborhood',\n",
    "    color_discrete_map={'Yes': 'green', 'No': 'red'},\n",
    "    color_discrete_sequence=colors_neighborhood,\n",
    "    template=template_style\n",
    ")\n",
    "fig_neighborhood.update_layout(\n",
    "    height=450,\n",
    "    title_font=dict(size=20, color=colors_neighborhood[0]),\n",
    "    title_x=0.5\n",
    ")\n"
   ],
   "outputs": [
    {
     "data": {
      "application/vnd.plotly.v1+json": {
       "data": [
        {
         "alignmentgroup": "True",
         "hovertemplate": "Attendance=No<br>Neighbourhood=%{x}<br>Count=%{y}<extra></extra>",
         "legendgroup": "No",
         "marker": {
          "color": "red",
          "pattern": {
           "shape": ""
          }
         },
         "name": "No",
         "offsetgroup": "No",
         "orientation": "v",
         "showlegend": true,
         "textposition": "auto",
         "x": [
          "AEROPORTO",
          "ANDORINHAS",
          "ANTÔNIO HONÓRIO",
          "ARIOVALDO FAVALESSA",
          "BARRO VERMELHO",
          "BELA VISTA",
          "BENTO FERREIRA",
          "BOA VISTA",
          "BONFIM",
          "CARATOÍRA",
          "CENTRO",
          "COMDUSA",
          "CONQUISTA",
          "CONSOLAÇÃO",
          "CRUZAMENTO",
          "DA PENHA",
          "DE LOURDES",
          "DO CABRAL",
          "DO MOSCOSO",
          "DO QUADRO",
          "ENSEADA DO SUÁ",
          "ESTRELINHA",
          "FONTE GRANDE",
          "FORTE SÃO JOÃO",
          "FRADINHOS",
          "GOIABEIRAS",
          "GRANDE VITÓRIA",
          "GURIGICA",
          "HORTO",
          "ILHA DAS CAIEIRAS",
          "ILHA DE SANTA MARIA",
          "ILHA DO BOI",
          "ILHA DO FRADE",
          "ILHA DO PRÍNCIPE",
          "ILHAS OCEÂNICAS DE TRINDADE",
          "INHANGUETÁ",
          "ITARARÉ",
          "JABOUR",
          "JARDIM CAMBURI",
          "JARDIM DA PENHA",
          "JESUS DE NAZARETH",
          "JOANA D´ARC",
          "JUCUTUQUARA",
          "MARIA ORTIZ",
          "MARUÍPE",
          "MATA DA PRAIA",
          "MONTE BELO",
          "MORADA DE CAMBURI",
          "MÁRIO CYPRESTE",
          "NAZARETH",
          "NOVA PALESTINA",
          "PARQUE MOSCOSO",
          "PIEDADE",
          "PONTAL DE CAMBURI",
          "PRAIA DO CANTO",
          "PRAIA DO SUÁ",
          "REDENÇÃO",
          "REPÚBLICA",
          "RESISTÊNCIA",
          "ROMÃO",
          "SANTA CECÍLIA",
          "SANTA CLARA",
          "SANTA HELENA",
          "SANTA LUÍZA",
          "SANTA LÚCIA",
          "SANTA MARTHA",
          "SANTA TEREZA",
          "SANTO ANDRÉ",
          "SANTO ANTÔNIO",
          "SANTOS DUMONT",
          "SANTOS REIS",
          "SEGURANÇA DO LAR",
          "SOLON BORGES",
          "SÃO BENEDITO",
          "SÃO CRISTÓVÃO",
          "SÃO JOSÉ",
          "SÃO PEDRO",
          "TABUAZEIRO",
          "UNIVERSITÁRIO",
          "VILA RUBIM"
         ],
         "xaxis": "x",
         "y": {
          "dtype": "i2",
          "bdata": "AQD6AS0APQBbAGYBvgA6ABkCSgK0AjcAmADgACkBpgEtAFQAWQCIADMAaQCUAE4BLgCGANgArQEmAOcAVQEDAAIADQICALoAggOwAZgFcwKkAvIAhACqBKMBbgCcAA8ANQAbAIABsABUAAwAvgAgAQEBjABrA9IBeACEACQATABVAOkBBQHmAdsBbAFrABoAQwAFAWgBlwHxASgCIACLAA=="
         },
         "yaxis": "y",
         "type": "bar"
        },
        {
         "alignmentgroup": "True",
         "hovertemplate": "Attendance=Yes<br>Neighbourhood=%{x}<br>Count=%{y}<extra></extra>",
         "legendgroup": "Yes",
         "marker": {
          "color": "green",
          "pattern": {
           "shape": ""
          }
         },
         "name": "Yes",
         "offsetgroup": "Yes",
         "orientation": "v",
         "showlegend": true,
         "textposition": "auto",
         "x": [
          "AEROPORTO",
          "ANDORINHAS",
          "ANTÔNIO HONÓRIO",
          "ARIOVALDO FAVALESSA",
          "BARRO VERMELHO",
          "BELA VISTA",
          "BENTO FERREIRA",
          "BOA VISTA",
          "BONFIM",
          "CARATOÍRA",
          "CENTRO",
          "COMDUSA",
          "CONQUISTA",
          "CONSOLAÇÃO",
          "CRUZAMENTO",
          "DA PENHA",
          "DE LOURDES",
          "DO CABRAL",
          "DO MOSCOSO",
          "DO QUADRO",
          "ENSEADA DO SUÁ",
          "ESTRELINHA",
          "FONTE GRANDE",
          "FORTE SÃO JOÃO",
          "FRADINHOS",
          "GOIABEIRAS",
          "GRANDE VITÓRIA",
          "GURIGICA",
          "HORTO",
          "ILHA DAS CAIEIRAS",
          "ILHA DE SANTA MARIA",
          "ILHA DO BOI",
          "ILHA DO FRADE",
          "ILHA DO PRÍNCIPE",
          "INHANGUETÁ",
          "ITARARÉ",
          "JABOUR",
          "JARDIM CAMBURI",
          "JARDIM DA PENHA",
          "JESUS DE NAZARETH",
          "JOANA D´ARC",
          "JUCUTUQUARA",
          "MARIA ORTIZ",
          "MARUÍPE",
          "MATA DA PRAIA",
          "MONTE BELO",
          "MORADA DE CAMBURI",
          "MÁRIO CYPRESTE",
          "NAZARETH",
          "NOVA PALESTINA",
          "PARQUE INDUSTRIAL",
          "PARQUE MOSCOSO",
          "PIEDADE",
          "PONTAL DE CAMBURI",
          "PRAIA DO CANTO",
          "PRAIA DO SUÁ",
          "REDENÇÃO",
          "REPÚBLICA",
          "RESISTÊNCIA",
          "ROMÃO",
          "SANTA CECÍLIA",
          "SANTA CLARA",
          "SANTA HELENA",
          "SANTA LUÍZA",
          "SANTA LÚCIA",
          "SANTA MARTHA",
          "SANTA TEREZA",
          "SANTO ANDRÉ",
          "SANTO ANTÔNIO",
          "SANTOS DUMONT",
          "SANTOS REIS",
          "SEGURANÇA DO LAR",
          "SOLON BORGES",
          "SÃO BENEDITO",
          "SÃO CRISTÓVÃO",
          "SÃO JOSÉ",
          "SÃO PEDRO",
          "TABUAZEIRO",
          "UNIVERSITÁRIO",
          "VILA RUBIM"
         ],
         "xaxis": "x",
         "y": {
          "dtype": "i2",
          "bdata": "BwCVBtQAzwBHAcQFkwL3AHMIbwceCv0AkQJPBCQExQb/AMQBMgGvArIArQEHAsMF0AAoAk0DxAWAABUDygUgAAgAoQYrA9IJrAcKGJgM+wdcBCUCEBGmBRQCbwJPADoBaQDjBgEAZwJfATkASAPLA9IEowIgDXwGQwFsAYoAVwFdAfgJ5gO0B5YIdQOdAXIAgQFCBJEFtAU5B6MJdwCyAg=="
         },
         "yaxis": "y",
         "type": "bar"
        }
       ],
       "layout": {
        "template": {
         "data": {
          "histogram2dcontour": [
           {
            "type": "histogram2dcontour",
            "colorbar": {
             "outlinewidth": 0,
             "ticks": ""
            },
            "colorscale": [
             [
              0.0,
              "#0d0887"
             ],
             [
              0.1111111111111111,
              "#46039f"
             ],
             [
              0.2222222222222222,
              "#7201a8"
             ],
             [
              0.3333333333333333,
              "#9c179e"
             ],
             [
              0.4444444444444444,
              "#bd3786"
             ],
             [
              0.5555555555555556,
              "#d8576b"
             ],
             [
              0.6666666666666666,
              "#ed7953"
             ],
             [
              0.7777777777777778,
              "#fb9f3a"
             ],
             [
              0.8888888888888888,
              "#fdca26"
             ],
             [
              1.0,
              "#f0f921"
             ]
            ]
           }
          ],
          "choropleth": [
           {
            "type": "choropleth",
            "colorbar": {
             "outlinewidth": 0,
             "ticks": ""
            }
           }
          ],
          "histogram2d": [
           {
            "type": "histogram2d",
            "colorbar": {
             "outlinewidth": 0,
             "ticks": ""
            },
            "colorscale": [
             [
              0.0,
              "#0d0887"
             ],
             [
              0.1111111111111111,
              "#46039f"
             ],
             [
              0.2222222222222222,
              "#7201a8"
             ],
             [
              0.3333333333333333,
              "#9c179e"
             ],
             [
              0.4444444444444444,
              "#bd3786"
             ],
             [
              0.5555555555555556,
              "#d8576b"
             ],
             [
              0.6666666666666666,
              "#ed7953"
             ],
             [
              0.7777777777777778,
              "#fb9f3a"
             ],
             [
              0.8888888888888888,
              "#fdca26"
             ],
             [
              1.0,
              "#f0f921"
             ]
            ]
           }
          ],
          "heatmap": [
           {
            "type": "heatmap",
            "colorbar": {
             "outlinewidth": 0,
             "ticks": ""
            },
            "colorscale": [
             [
              0.0,
              "#0d0887"
             ],
             [
              0.1111111111111111,
              "#46039f"
             ],
             [
              0.2222222222222222,
              "#7201a8"
             ],
             [
              0.3333333333333333,
              "#9c179e"
             ],
             [
              0.4444444444444444,
              "#bd3786"
             ],
             [
              0.5555555555555556,
              "#d8576b"
             ],
             [
              0.6666666666666666,
              "#ed7953"
             ],
             [
              0.7777777777777778,
              "#fb9f3a"
             ],
             [
              0.8888888888888888,
              "#fdca26"
             ],
             [
              1.0,
              "#f0f921"
             ]
            ]
           }
          ],
          "contourcarpet": [
           {
            "type": "contourcarpet",
            "colorbar": {
             "outlinewidth": 0,
             "ticks": ""
            }
           }
          ],
          "contour": [
           {
            "type": "contour",
            "colorbar": {
             "outlinewidth": 0,
             "ticks": ""
            },
            "colorscale": [
             [
              0.0,
              "#0d0887"
             ],
             [
              0.1111111111111111,
              "#46039f"
             ],
             [
              0.2222222222222222,
              "#7201a8"
             ],
             [
              0.3333333333333333,
              "#9c179e"
             ],
             [
              0.4444444444444444,
              "#bd3786"
             ],
             [
              0.5555555555555556,
              "#d8576b"
             ],
             [
              0.6666666666666666,
              "#ed7953"
             ],
             [
              0.7777777777777778,
              "#fb9f3a"
             ],
             [
              0.8888888888888888,
              "#fdca26"
             ],
             [
              1.0,
              "#f0f921"
             ]
            ]
           }
          ],
          "surface": [
           {
            "type": "surface",
            "colorbar": {
             "outlinewidth": 0,
             "ticks": ""
            },
            "colorscale": [
             [
              0.0,
              "#0d0887"
             ],
             [
              0.1111111111111111,
              "#46039f"
             ],
             [
              0.2222222222222222,
              "#7201a8"
             ],
             [
              0.3333333333333333,
              "#9c179e"
             ],
             [
              0.4444444444444444,
              "#bd3786"
             ],
             [
              0.5555555555555556,
              "#d8576b"
             ],
             [
              0.6666666666666666,
              "#ed7953"
             ],
             [
              0.7777777777777778,
              "#fb9f3a"
             ],
             [
              0.8888888888888888,
              "#fdca26"
             ],
             [
              1.0,
              "#f0f921"
             ]
            ]
           }
          ],
          "mesh3d": [
           {
            "type": "mesh3d",
            "colorbar": {
             "outlinewidth": 0,
             "ticks": ""
            }
           }
          ],
          "scatter": [
           {
            "marker": {
             "line": {
              "color": "#283442"
             }
            },
            "type": "scatter"
           }
          ],
          "parcoords": [
           {
            "type": "parcoords",
            "line": {
             "colorbar": {
              "outlinewidth": 0,
              "ticks": ""
             }
            }
           }
          ],
          "scatterpolargl": [
           {
            "type": "scatterpolargl",
            "marker": {
             "colorbar": {
              "outlinewidth": 0,
              "ticks": ""
             }
            }
           }
          ],
          "bar": [
           {
            "error_x": {
             "color": "#f2f5fa"
            },
            "error_y": {
             "color": "#f2f5fa"
            },
            "marker": {
             "line": {
              "color": "rgb(17,17,17)",
              "width": 0.5
             },
             "pattern": {
              "fillmode": "overlay",
              "size": 10,
              "solidity": 0.2
             }
            },
            "type": "bar"
           }
          ],
          "scattergeo": [
           {
            "type": "scattergeo",
            "marker": {
             "colorbar": {
              "outlinewidth": 0,
              "ticks": ""
             }
            }
           }
          ],
          "scatterpolar": [
           {
            "type": "scatterpolar",
            "marker": {
             "colorbar": {
              "outlinewidth": 0,
              "ticks": ""
             }
            }
           }
          ],
          "histogram": [
           {
            "marker": {
             "pattern": {
              "fillmode": "overlay",
              "size": 10,
              "solidity": 0.2
             }
            },
            "type": "histogram"
           }
          ],
          "scattergl": [
           {
            "marker": {
             "line": {
              "color": "#283442"
             }
            },
            "type": "scattergl"
           }
          ],
          "scatter3d": [
           {
            "type": "scatter3d",
            "line": {
             "colorbar": {
              "outlinewidth": 0,
              "ticks": ""
             }
            },
            "marker": {
             "colorbar": {
              "outlinewidth": 0,
              "ticks": ""
             }
            }
           }
          ],
          "scattermap": [
           {
            "type": "scattermap",
            "marker": {
             "colorbar": {
              "outlinewidth": 0,
              "ticks": ""
             }
            }
           }
          ],
          "scattermapbox": [
           {
            "type": "scattermapbox",
            "marker": {
             "colorbar": {
              "outlinewidth": 0,
              "ticks": ""
             }
            }
           }
          ],
          "scatterternary": [
           {
            "type": "scatterternary",
            "marker": {
             "colorbar": {
              "outlinewidth": 0,
              "ticks": ""
             }
            }
           }
          ],
          "scattercarpet": [
           {
            "type": "scattercarpet",
            "marker": {
             "colorbar": {
              "outlinewidth": 0,
              "ticks": ""
             }
            }
           }
          ],
          "carpet": [
           {
            "aaxis": {
             "endlinecolor": "#A2B1C6",
             "gridcolor": "#506784",
             "linecolor": "#506784",
             "minorgridcolor": "#506784",
             "startlinecolor": "#A2B1C6"
            },
            "baxis": {
             "endlinecolor": "#A2B1C6",
             "gridcolor": "#506784",
             "linecolor": "#506784",
             "minorgridcolor": "#506784",
             "startlinecolor": "#A2B1C6"
            },
            "type": "carpet"
           }
          ],
          "table": [
           {
            "cells": {
             "fill": {
              "color": "#506784"
             },
             "line": {
              "color": "rgb(17,17,17)"
             }
            },
            "header": {
             "fill": {
              "color": "#2a3f5f"
             },
             "line": {
              "color": "rgb(17,17,17)"
             }
            },
            "type": "table"
           }
          ],
          "barpolar": [
           {
            "marker": {
             "line": {
              "color": "rgb(17,17,17)",
              "width": 0.5
             },
             "pattern": {
              "fillmode": "overlay",
              "size": 10,
              "solidity": 0.2
             }
            },
            "type": "barpolar"
           }
          ],
          "pie": [
           {
            "automargin": true,
            "type": "pie"
           }
          ]
         },
         "layout": {
          "autotypenumbers": "strict",
          "colorway": [
           "#636efa",
           "#EF553B",
           "#00cc96",
           "#ab63fa",
           "#FFA15A",
           "#19d3f3",
           "#FF6692",
           "#B6E880",
           "#FF97FF",
           "#FECB52"
          ],
          "font": {
           "color": "#f2f5fa"
          },
          "hovermode": "closest",
          "hoverlabel": {
           "align": "left"
          },
          "paper_bgcolor": "rgb(17,17,17)",
          "plot_bgcolor": "rgb(17,17,17)",
          "polar": {
           "bgcolor": "rgb(17,17,17)",
           "angularaxis": {
            "gridcolor": "#506784",
            "linecolor": "#506784",
            "ticks": ""
           },
           "radialaxis": {
            "gridcolor": "#506784",
            "linecolor": "#506784",
            "ticks": ""
           }
          },
          "ternary": {
           "bgcolor": "rgb(17,17,17)",
           "aaxis": {
            "gridcolor": "#506784",
            "linecolor": "#506784",
            "ticks": ""
           },
           "baxis": {
            "gridcolor": "#506784",
            "linecolor": "#506784",
            "ticks": ""
           },
           "caxis": {
            "gridcolor": "#506784",
            "linecolor": "#506784",
            "ticks": ""
           }
          },
          "coloraxis": {
           "colorbar": {
            "outlinewidth": 0,
            "ticks": ""
           }
          },
          "colorscale": {
           "sequential": [
            [
             0.0,
             "#0d0887"
            ],
            [
             0.1111111111111111,
             "#46039f"
            ],
            [
             0.2222222222222222,
             "#7201a8"
            ],
            [
             0.3333333333333333,
             "#9c179e"
            ],
            [
             0.4444444444444444,
             "#bd3786"
            ],
            [
             0.5555555555555556,
             "#d8576b"
            ],
            [
             0.6666666666666666,
             "#ed7953"
            ],
            [
             0.7777777777777778,
             "#fb9f3a"
            ],
            [
             0.8888888888888888,
             "#fdca26"
            ],
            [
             1.0,
             "#f0f921"
            ]
           ],
           "sequentialminus": [
            [
             0.0,
             "#0d0887"
            ],
            [
             0.1111111111111111,
             "#46039f"
            ],
            [
             0.2222222222222222,
             "#7201a8"
            ],
            [
             0.3333333333333333,
             "#9c179e"
            ],
            [
             0.4444444444444444,
             "#bd3786"
            ],
            [
             0.5555555555555556,
             "#d8576b"
            ],
            [
             0.6666666666666666,
             "#ed7953"
            ],
            [
             0.7777777777777778,
             "#fb9f3a"
            ],
            [
             0.8888888888888888,
             "#fdca26"
            ],
            [
             1.0,
             "#f0f921"
            ]
           ],
           "diverging": [
            [
             0,
             "#8e0152"
            ],
            [
             0.1,
             "#c51b7d"
            ],
            [
             0.2,
             "#de77ae"
            ],
            [
             0.3,
             "#f1b6da"
            ],
            [
             0.4,
             "#fde0ef"
            ],
            [
             0.5,
             "#f7f7f7"
            ],
            [
             0.6,
             "#e6f5d0"
            ],
            [
             0.7,
             "#b8e186"
            ],
            [
             0.8,
             "#7fbc41"
            ],
            [
             0.9,
             "#4d9221"
            ],
            [
             1,
             "#276419"
            ]
           ]
          },
          "xaxis": {
           "gridcolor": "#283442",
           "linecolor": "#506784",
           "ticks": "",
           "title": {
            "standoff": 15
           },
           "zerolinecolor": "#283442",
           "automargin": true,
           "zerolinewidth": 2
          },
          "yaxis": {
           "gridcolor": "#283442",
           "linecolor": "#506784",
           "ticks": "",
           "title": {
            "standoff": 15
           },
           "zerolinecolor": "#283442",
           "automargin": true,
           "zerolinewidth": 2
          },
          "scene": {
           "xaxis": {
            "backgroundcolor": "rgb(17,17,17)",
            "gridcolor": "#506784",
            "linecolor": "#506784",
            "showbackground": true,
            "ticks": "",
            "zerolinecolor": "#C8D4E3",
            "gridwidth": 2
           },
           "yaxis": {
            "backgroundcolor": "rgb(17,17,17)",
            "gridcolor": "#506784",
            "linecolor": "#506784",
            "showbackground": true,
            "ticks": "",
            "zerolinecolor": "#C8D4E3",
            "gridwidth": 2
           },
           "zaxis": {
            "backgroundcolor": "rgb(17,17,17)",
            "gridcolor": "#506784",
            "linecolor": "#506784",
            "showbackground": true,
            "ticks": "",
            "zerolinecolor": "#C8D4E3",
            "gridwidth": 2
           }
          },
          "shapedefaults": {
           "line": {
            "color": "#f2f5fa"
           }
          },
          "annotationdefaults": {
           "arrowcolor": "#f2f5fa",
           "arrowhead": 0,
           "arrowwidth": 1
          },
          "geo": {
           "bgcolor": "rgb(17,17,17)",
           "landcolor": "rgb(17,17,17)",
           "subunitcolor": "#506784",
           "showland": true,
           "showlakes": true,
           "lakecolor": "rgb(17,17,17)"
          },
          "title": {
           "x": 0.05
          },
          "updatemenudefaults": {
           "bgcolor": "#506784",
           "borderwidth": 0
          },
          "sliderdefaults": {
           "bgcolor": "#C8D4E3",
           "borderwidth": 1,
           "bordercolor": "rgb(17,17,17)",
           "tickwidth": 0
          },
          "mapbox": {
           "style": "dark"
          }
         }
        },
        "xaxis": {
         "anchor": "y",
         "domain": [
          0.0,
          1.0
         ],
         "title": {
          "text": "Neighbourhood"
         }
        },
        "yaxis": {
         "anchor": "x",
         "domain": [
          0.0,
          1.0
         ],
         "title": {
          "text": "Count"
         }
        },
        "legend": {
         "title": {
          "text": "Attendance"
         },
         "tracegroupgap": 0
        },
        "title": {
         "text": "Attendance by Neighborhood",
         "font": {
          "size": 20,
          "color": "#ff00ff"
         },
         "x": 0.5
        },
        "barmode": "group",
        "height": 450
       },
       "config": {
        "plotlyServerURL": "https://plot.ly"
       }
      }
     },
     "metadata": {},
     "output_type": "display_data"
    }
   ],
   "execution_count": 256
  },
  {
   "metadata": {
    "ExecuteTime": {
     "end_time": "2025-08-08T08:55:29.182172Z",
     "start_time": "2025-08-08T08:55:28.748560Z"
    }
   },
   "cell_type": "code",
   "source": [
    "from dash import Dash, html, dcc, dash_table, Output, Input\n",
    "import plotly.express as px\n",
    "\n",
    "app = Dash(__name__)\n",
    "\n",
    "app.layout = html.Div([\n",
    "\n",
    "    html.H1(\"Medical Appointment Attendance Dashboard\", style={'textAlign': 'center'}),\n",
    "\n",
    "    # attendance bar\n",
    "    html.Div(dcc.Graph(figure=fig_attendance_bar), style={'margin-bottom': '20px'}),\n",
    "\n",
    "    # overall gender pie\n",
    "    html.Div(dcc.Graph(figure=fig_gender_overall), style={'margin-bottom': '20px'}),\n",
    "\n",
    "    html.H2(\"Attendance by Gender\", style={'marginTop': '20px'}),\n",
    "    html.Div(pie_charts, style={'display': 'block'}),  # كل Pie تحت بعض\n",
    "\n",
    "    html.H3(\"Gender Summary Table\"),\n",
    "    dash_table.DataTable(\n",
    "        data=gender_table.reset_index().to_dict('records'),\n",
    "        columns=[{'name': c, 'id': c} for c in gender_table.reset_index().columns],\n",
    "        style_table={'overflowX': 'auto'},\n",
    "        style_cell={'textAlign': 'center', 'padding': '6px'}\n",
    "    ),\n",
    "\n",
    "    # Attendance by Age (Top N)\n",
    "    html.H3(\"Attendance by Age (Top Age)\"),\n",
    "    html.Div([\n",
    "        dcc.Dropdown(\n",
    "            id='top-n-age-dropdown',\n",
    "            options=[{'label': str(i), 'value': i} for i in [5, 10, 20, 50]],\n",
    "            value=10,\n",
    "            clearable=False,\n",
    "            style={'width': '200px'}\n",
    "        )\n",
    "    ], style={'margin-bottom': '20px'}),\n",
    "    html.Div(dcc.Graph(id='age-graph'), style={'margin-top': '20px'}),\n",
    "\n",
    "    # Other charts\n",
    "    html.Div(dcc.Graph(figure=fig_disease), style={'margin-top': '20px'}),\n",
    "    html.Div(dcc.Graph(figure=fig_scholar), style={'margin-top': '20px'}),\n",
    "    html.Div(dcc.Graph(figure=fig_day), style={'margin-top': '20px'}),\n",
    "    html.Div(dcc.Graph(figure=fig_dealy), style={'margin-top': '20px'}),\n",
    "    html.Div(dcc.Graph(figure=fig_sms), style={'margin-top': '20px'}),\n",
    "\n",
    "    # Attendance by Neighborhood (Top N)\n",
    "    html.H3(\"Attendance by Neighborhood (Top N)\"),\n",
    "    html.Div([\n",
    "        dcc.Dropdown(\n",
    "            id='top-n-dropdown',\n",
    "            options=[{'label': str(i), 'value': i} for i in [5, 10, 20, 50]],\n",
    "            value=10,\n",
    "            clearable=False,\n",
    "            style={'width': '200px'}\n",
    "        ),\n",
    "        dcc.Graph(id='neighborhood-graph')\n",
    "    ], style={'marginTop': '10px'}),\n",
    "\n",
    "], style={'maxWidth': '1200px', 'margin': '0 auto', 'padding': '20px'})\n",
    "\n",
    "\n",
    "# Callback for Neighborhood graph\n",
    "@app.callback(\n",
    "    Output('neighborhood-graph', 'figure'),\n",
    "    Input('top-n-dropdown', 'value')\n",
    ")\n",
    "def update_neighborhood(top_n):\n",
    "    top_neigh = neighborhood_attendance.groupby('Neighbourhood')['Count'].sum().nlargest(top_n).index\n",
    "    filtered = neighborhood_attendance[neighborhood_attendance['Neighbourhood'].isin(top_neigh)]\n",
    "    fig = px.bar(filtered, x='Neighbourhood', y='Count', color='Attendance', barmode='group',\n",
    "                 title=f'Attendance by Neighborhood (Top {top_n})')\n",
    "    fig.update_layout(xaxis={'categoryorder': 'total descending'})\n",
    "    return fig\n",
    "\n",
    "\n",
    "# Callback for Age graph\n",
    "@app.callback(\n",
    "    Output('age-graph', 'figure'),\n",
    "    Input('top-n-age-dropdown', 'value')\n",
    ")\n",
    "def update_age_graph(top_n):\n",
    "    top_age = age_attendance.groupby('Age')['Count'].sum().nlargest(top_n).index\n",
    "    filtered = age_attendance[age_attendance['Age'].isin(top_age)]\n",
    "    fig = px.bar(\n",
    "        filtered,\n",
    "        x='Age',\n",
    "        y='Count',\n",
    "        color='Attendance',\n",
    "        barmode='group',\n",
    "        title=f'Attendance by Age (Top {top_n})',\n",
    "        color_discrete_sequence=colors_age_gender,\n",
    "        template=template_style\n",
    "    )\n",
    "    fig.update_layout(xaxis={'categoryorder': 'total descending'})\n",
    "    return fig\n",
    "\n",
    "\n",
    "if __name__ == '__main__':\n",
    "    app.run(debug=True)\n"
   ],
   "outputs": [
    {
     "data": {
      "text/plain": [
       "<IPython.lib.display.IFrame at 0x1ea6588be50>"
      ],
      "text/html": [
       "\n",
       "        <iframe\n",
       "            width=\"100%\"\n",
       "            height=\"650\"\n",
       "            src=\"http://127.0.0.1:8050/\"\n",
       "            frameborder=\"0\"\n",
       "            allowfullscreen\n",
       "            \n",
       "        ></iframe>\n",
       "        "
      ]
     },
     "metadata": {},
     "output_type": "display_data"
    }
   ],
   "execution_count": 259
  }
 ]
}
